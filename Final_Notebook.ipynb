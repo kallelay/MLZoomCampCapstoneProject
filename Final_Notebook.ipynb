{
 "cells": [
  {
   "cell_type": "markdown",
   "metadata": {},
   "source": [
    "# Capstone project\n",
    "for Zoomcamp, Ahmed Yahia Kallel"
   ]
  },
  {
   "cell_type": "code",
   "execution_count": 59,
   "metadata": {},
   "outputs": [
    {
     "name": "stdout",
     "output_type": "stream",
     "text": [
      "Requirement already satisfied: Flask==2.0.2 in c:\\users\\kay_t\\appdata\\local\\packages\\pythonsoftwarefoundation.python.3.9_qbz5n2kfra8p0\\localcache\\local-packages\\python39\\site-packages (from -r requirements.txt (line 1)) (2.0.2)\n",
      "Requirement already satisfied: numpy==1.19.5 in c:\\users\\kay_t\\appdata\\local\\packages\\pythonsoftwarefoundation.python.3.9_qbz5n2kfra8p0\\localcache\\local-packages\\python39\\site-packages (from -r requirements.txt (line 2)) (1.19.5)\n",
      "Requirement already satisfied: pandas==1.3.4 in c:\\users\\kay_t\\appdata\\local\\packages\\pythonsoftwarefoundation.python.3.9_qbz5n2kfra8p0\\localcache\\local-packages\\python39\\site-packages (from -r requirements.txt (line 3)) (1.3.4)\n",
      "Requirement already satisfied: scikit_learn==1.0.1 in c:\\users\\kay_t\\appdata\\local\\packages\\pythonsoftwarefoundation.python.3.9_qbz5n2kfra8p0\\localcache\\local-packages\\python39\\site-packages (from -r requirements.txt (line 4)) (1.0.1)\n",
      "Requirement already satisfied: requests==2.26.0 in c:\\users\\kay_t\\appdata\\local\\packages\\pythonsoftwarefoundation.python.3.9_qbz5n2kfra8p0\\localcache\\local-packages\\python39\\site-packages (from -r requirements.txt (line 5)) (2.26.0)\n",
      "Requirement already satisfied: requests-oauthlib==1.3.0 in c:\\users\\kay_t\\appdata\\local\\packages\\pythonsoftwarefoundation.python.3.9_qbz5n2kfra8p0\\localcache\\local-packages\\python39\\site-packages (from -r requirements.txt (line 6)) (1.3.0)\n",
      "Requirement already satisfied: xgboost==1.5.0 in c:\\users\\kay_t\\appdata\\local\\packages\\pythonsoftwarefoundation.python.3.9_qbz5n2kfra8p0\\localcache\\local-packages\\python39\\site-packages (from -r requirements.txt (line 7)) (1.5.0)\n",
      "Requirement already satisfied: itsdangerous>=2.0 in c:\\users\\kay_t\\appdata\\local\\packages\\pythonsoftwarefoundation.python.3.9_qbz5n2kfra8p0\\localcache\\local-packages\\python39\\site-packages (from Flask==2.0.2->-r requirements.txt (line 1)) (2.0.1)\n",
      "Requirement already satisfied: Werkzeug>=2.0 in c:\\users\\kay_t\\appdata\\local\\packages\\pythonsoftwarefoundation.python.3.9_qbz5n2kfra8p0\\localcache\\local-packages\\python39\\site-packages (from Flask==2.0.2->-r requirements.txt (line 1)) (2.0.2)\n",
      "Requirement already satisfied: click>=7.1.2 in c:\\users\\kay_t\\appdata\\local\\packages\\pythonsoftwarefoundation.python.3.9_qbz5n2kfra8p0\\localcache\\local-packages\\python39\\site-packages (from Flask==2.0.2->-r requirements.txt (line 1)) (8.0.3)\n",
      "Requirement already satisfied: Jinja2>=3.0 in c:\\users\\kay_t\\appdata\\local\\packages\\pythonsoftwarefoundation.python.3.9_qbz5n2kfra8p0\\localcache\\local-packages\\python39\\site-packages (from Flask==2.0.2->-r requirements.txt (line 1)) (3.0.2)\n",
      "Requirement already satisfied: pytz>=2017.3 in c:\\users\\kay_t\\appdata\\local\\packages\\pythonsoftwarefoundation.python.3.9_qbz5n2kfra8p0\\localcache\\local-packages\\python39\\site-packages (from pandas==1.3.4->-r requirements.txt (line 3)) (2021.3)\n",
      "Requirement already satisfied: python-dateutil>=2.7.3 in c:\\users\\kay_t\\appdata\\local\\packages\\pythonsoftwarefoundation.python.3.9_qbz5n2kfra8p0\\localcache\\local-packages\\python39\\site-packages (from pandas==1.3.4->-r requirements.txt (line 3)) (2.8.2)\n",
      "Requirement already satisfied: scipy>=1.1.0 in c:\\users\\kay_t\\appdata\\local\\packages\\pythonsoftwarefoundation.python.3.9_qbz5n2kfra8p0\\localcache\\local-packages\\python39\\site-packages (from scikit_learn==1.0.1->-r requirements.txt (line 4)) (1.7.1)\n",
      "Requirement already satisfied: threadpoolctl>=2.0.0 in c:\\users\\kay_t\\appdata\\local\\packages\\pythonsoftwarefoundation.python.3.9_qbz5n2kfra8p0\\localcache\\local-packages\\python39\\site-packages (from scikit_learn==1.0.1->-r requirements.txt (line 4)) (3.0.0)\n",
      "Requirement already satisfied: joblib>=0.11 in c:\\users\\kay_t\\appdata\\local\\packages\\pythonsoftwarefoundation.python.3.9_qbz5n2kfra8p0\\localcache\\local-packages\\python39\\site-packages (from scikit_learn==1.0.1->-r requirements.txt (line 4)) (1.1.0)\n",
      "Requirement already satisfied: urllib3<1.27,>=1.21.1 in c:\\users\\kay_t\\appdata\\local\\packages\\pythonsoftwarefoundation.python.3.9_qbz5n2kfra8p0\\localcache\\local-packages\\python39\\site-packages (from requests==2.26.0->-r requirements.txt (line 5)) (1.26.7)\n",
      "Requirement already satisfied: certifi>=2017.4.17 in c:\\users\\kay_t\\appdata\\local\\packages\\pythonsoftwarefoundation.python.3.9_qbz5n2kfra8p0\\localcache\\local-packages\\python39\\site-packages (from requests==2.26.0->-r requirements.txt (line 5)) (2021.10.8)\n",
      "Requirement already satisfied: idna<4,>=2.5 in c:\\users\\kay_t\\appdata\\local\\packages\\pythonsoftwarefoundation.python.3.9_qbz5n2kfra8p0\\localcache\\local-packages\\python39\\site-packages (from requests==2.26.0->-r requirements.txt (line 5)) (3.3)\n",
      "Requirement already satisfied: charset-normalizer~=2.0.0 in c:\\users\\kay_t\\appdata\\local\\packages\\pythonsoftwarefoundation.python.3.9_qbz5n2kfra8p0\\localcache\\local-packages\\python39\\site-packages (from requests==2.26.0->-r requirements.txt (line 5)) (2.0.7)\n",
      "Requirement already satisfied: oauthlib>=3.0.0 in c:\\users\\kay_t\\appdata\\local\\packages\\pythonsoftwarefoundation.python.3.9_qbz5n2kfra8p0\\localcache\\local-packages\\python39\\site-packages (from requests-oauthlib==1.3.0->-r requirements.txt (line 6)) (3.1.1)\n",
      "Requirement already satisfied: colorama in c:\\users\\kay_t\\appdata\\local\\packages\\pythonsoftwarefoundation.python.3.9_qbz5n2kfra8p0\\localcache\\local-packages\\python39\\site-packages (from click>=7.1.2->Flask==2.0.2->-r requirements.txt (line 1)) (0.4.4)\n",
      "Requirement already satisfied: MarkupSafe>=2.0 in c:\\users\\kay_t\\appdata\\local\\packages\\pythonsoftwarefoundation.python.3.9_qbz5n2kfra8p0\\localcache\\local-packages\\python39\\site-packages (from Jinja2>=3.0->Flask==2.0.2->-r requirements.txt (line 1)) (2.0.1)\n",
      "Requirement already satisfied: six>=1.5 in c:\\users\\kay_t\\appdata\\local\\packages\\pythonsoftwarefoundation.python.3.9_qbz5n2kfra8p0\\localcache\\local-packages\\python39\\site-packages (from python-dateutil>=2.7.3->pandas==1.3.4->-r requirements.txt (line 3)) (1.15.0)\n"
     ]
    }
   ],
   "source": [
    "# run pip to get requirement.txt\n",
    "!pip install -r requirements.txt"
   ]
  },
  {
   "cell_type": "code",
   "execution_count": 60,
   "metadata": {},
   "outputs": [],
   "source": [
    "#import main libraries\n",
    "\n",
    "#processing & viz\n",
    "import numpy as np\n",
    "import pandas as pd\n",
    "import matplotlib.pyplot as plt\n",
    "import seaborn as sns\n",
    "\n",
    "#data splitting\n",
    "from sklearn.model_selection import train_test_split\n",
    "from sklearn.metrics import mutual_info_score\n",
    "from sklearn.metrics import auc, roc_curve"
   ]
  },
  {
   "cell_type": "markdown",
   "metadata": {},
   "source": [
    "# Data loading, preparation, cleaning\n"
   ]
  },
  {
   "cell_type": "markdown",
   "metadata": {},
   "source": [
    "## Load data\n",
    "load csv file"
   ]
  },
  {
   "cell_type": "code",
   "execution_count": 61,
   "metadata": {},
   "outputs": [
    {
     "data": {
      "text/html": [
       "<div>\n",
       "<style scoped>\n",
       "    .dataframe tbody tr th:only-of-type {\n",
       "        vertical-align: middle;\n",
       "    }\n",
       "\n",
       "    .dataframe tbody tr th {\n",
       "        vertical-align: top;\n",
       "    }\n",
       "\n",
       "    .dataframe thead th {\n",
       "        text-align: right;\n",
       "    }\n",
       "</style>\n",
       "<table border=\"1\" class=\"dataframe\">\n",
       "  <thead>\n",
       "    <tr style=\"text-align: right;\">\n",
       "      <th></th>\n",
       "      <th>category</th>\n",
       "      <th>room_count</th>\n",
       "      <th>bathroom_count</th>\n",
       "      <th>size</th>\n",
       "      <th>type</th>\n",
       "      <th>price</th>\n",
       "      <th>city</th>\n",
       "      <th>region</th>\n",
       "      <th>log_price</th>\n",
       "    </tr>\n",
       "  </thead>\n",
       "  <tbody>\n",
       "    <tr>\n",
       "      <th>0</th>\n",
       "      <td>Terrains et Fermes</td>\n",
       "      <td>-1.0</td>\n",
       "      <td>-1.0</td>\n",
       "      <td>-1.0</td>\n",
       "      <td>À Vendre</td>\n",
       "      <td>100000.0</td>\n",
       "      <td>Ariana</td>\n",
       "      <td>Raoued</td>\n",
       "      <td>5.000000</td>\n",
       "    </tr>\n",
       "    <tr>\n",
       "      <th>1</th>\n",
       "      <td>Terrains et Fermes</td>\n",
       "      <td>-1.0</td>\n",
       "      <td>-1.0</td>\n",
       "      <td>-1.0</td>\n",
       "      <td>À Vendre</td>\n",
       "      <td>316000.0</td>\n",
       "      <td>Ariana</td>\n",
       "      <td>Autres villes</td>\n",
       "      <td>5.499687</td>\n",
       "    </tr>\n",
       "    <tr>\n",
       "      <th>2</th>\n",
       "      <td>Appartements</td>\n",
       "      <td>2.0</td>\n",
       "      <td>1.0</td>\n",
       "      <td>80.0</td>\n",
       "      <td>À Louer</td>\n",
       "      <td>380.0</td>\n",
       "      <td>Ariana</td>\n",
       "      <td>Autres villes</td>\n",
       "      <td>2.579784</td>\n",
       "    </tr>\n",
       "    <tr>\n",
       "      <th>3</th>\n",
       "      <td>Locations de vacances</td>\n",
       "      <td>1.0</td>\n",
       "      <td>1.0</td>\n",
       "      <td>90.0</td>\n",
       "      <td>À Louer</td>\n",
       "      <td>70.0</td>\n",
       "      <td>Ariana</td>\n",
       "      <td>Autres villes</td>\n",
       "      <td>1.845098</td>\n",
       "    </tr>\n",
       "    <tr>\n",
       "      <th>4</th>\n",
       "      <td>Appartements</td>\n",
       "      <td>2.0</td>\n",
       "      <td>2.0</td>\n",
       "      <td>113.0</td>\n",
       "      <td>À Vendre</td>\n",
       "      <td>170000.0</td>\n",
       "      <td>Ariana</td>\n",
       "      <td>Ariana Ville</td>\n",
       "      <td>5.230449</td>\n",
       "    </tr>\n",
       "    <tr>\n",
       "      <th>...</th>\n",
       "      <td>...</td>\n",
       "      <td>...</td>\n",
       "      <td>...</td>\n",
       "      <td>...</td>\n",
       "      <td>...</td>\n",
       "      <td>...</td>\n",
       "      <td>...</td>\n",
       "      <td>...</td>\n",
       "      <td>...</td>\n",
       "    </tr>\n",
       "    <tr>\n",
       "      <th>12743</th>\n",
       "      <td>Terrains et Fermes</td>\n",
       "      <td>-1.0</td>\n",
       "      <td>-1.0</td>\n",
       "      <td>-1.0</td>\n",
       "      <td>À Vendre</td>\n",
       "      <td>3200000.0</td>\n",
       "      <td>Tunis</td>\n",
       "      <td>Sidi Bou Said</td>\n",
       "      <td>6.505150</td>\n",
       "    </tr>\n",
       "    <tr>\n",
       "      <th>12744</th>\n",
       "      <td>Appartements</td>\n",
       "      <td>1.0</td>\n",
       "      <td>1.0</td>\n",
       "      <td>100.0</td>\n",
       "      <td>À Louer</td>\n",
       "      <td>600.0</td>\n",
       "      <td>Tunis</td>\n",
       "      <td>Autres villes</td>\n",
       "      <td>2.778151</td>\n",
       "    </tr>\n",
       "    <tr>\n",
       "      <th>12745</th>\n",
       "      <td>Maisons et Villas</td>\n",
       "      <td>3.0</td>\n",
       "      <td>1.0</td>\n",
       "      <td>760.0</td>\n",
       "      <td>À Vendre</td>\n",
       "      <td>1950000.0</td>\n",
       "      <td>Tunis</td>\n",
       "      <td>La Marsa</td>\n",
       "      <td>6.290035</td>\n",
       "    </tr>\n",
       "    <tr>\n",
       "      <th>12746</th>\n",
       "      <td>Maisons et Villas</td>\n",
       "      <td>3.0</td>\n",
       "      <td>1.0</td>\n",
       "      <td>190.0</td>\n",
       "      <td>À Vendre</td>\n",
       "      <td>240000.0</td>\n",
       "      <td>Tunis</td>\n",
       "      <td>La Marsa</td>\n",
       "      <td>5.380211</td>\n",
       "    </tr>\n",
       "    <tr>\n",
       "      <th>12747</th>\n",
       "      <td>Maisons et Villas</td>\n",
       "      <td>2.0</td>\n",
       "      <td>1.0</td>\n",
       "      <td>70.0</td>\n",
       "      <td>À Louer</td>\n",
       "      <td>500.0</td>\n",
       "      <td>Tunis</td>\n",
       "      <td>Sidi Bou Said</td>\n",
       "      <td>2.698970</td>\n",
       "    </tr>\n",
       "  </tbody>\n",
       "</table>\n",
       "<p>12748 rows × 9 columns</p>\n",
       "</div>"
      ],
      "text/plain": [
       "                    category  room_count  bathroom_count   size      type  \\\n",
       "0         Terrains et Fermes        -1.0            -1.0   -1.0  À Vendre   \n",
       "1         Terrains et Fermes        -1.0            -1.0   -1.0  À Vendre   \n",
       "2               Appartements         2.0             1.0   80.0   À Louer   \n",
       "3      Locations de vacances         1.0             1.0   90.0   À Louer   \n",
       "4               Appartements         2.0             2.0  113.0  À Vendre   \n",
       "...                      ...         ...             ...    ...       ...   \n",
       "12743     Terrains et Fermes        -1.0            -1.0   -1.0  À Vendre   \n",
       "12744           Appartements         1.0             1.0  100.0   À Louer   \n",
       "12745      Maisons et Villas         3.0             1.0  760.0  À Vendre   \n",
       "12746      Maisons et Villas         3.0             1.0  190.0  À Vendre   \n",
       "12747      Maisons et Villas         2.0             1.0   70.0   À Louer   \n",
       "\n",
       "           price    city         region  log_price  \n",
       "0       100000.0  Ariana         Raoued   5.000000  \n",
       "1       316000.0  Ariana  Autres villes   5.499687  \n",
       "2          380.0  Ariana  Autres villes   2.579784  \n",
       "3           70.0  Ariana  Autres villes   1.845098  \n",
       "4       170000.0  Ariana   Ariana Ville   5.230449  \n",
       "...          ...     ...            ...        ...  \n",
       "12743  3200000.0   Tunis  Sidi Bou Said   6.505150  \n",
       "12744      600.0   Tunis  Autres villes   2.778151  \n",
       "12745  1950000.0   Tunis       La Marsa   6.290035  \n",
       "12746   240000.0   Tunis       La Marsa   5.380211  \n",
       "12747      500.0   Tunis  Sidi Bou Said   2.698970  \n",
       "\n",
       "[12748 rows x 9 columns]"
      ]
     },
     "execution_count": 61,
     "metadata": {},
     "output_type": "execute_result"
    }
   ],
   "source": [
    "df = pd.read_csv(\"Property Prices in Tunisia.csv\") #load file\n",
    "df #head/tail"
   ]
  },
  {
   "cell_type": "markdown",
   "metadata": {},
   "source": [
    "Since my colleagues would mind if this was french, I'll be translating it :)"
   ]
  },
  {
   "cell_type": "markdown",
   "metadata": {},
   "source": [
    "## Translation"
   ]
  },
  {
   "cell_type": "code",
   "execution_count": 62,
   "metadata": {},
   "outputs": [
    {
     "data": {
      "text/html": [
       "<div>\n",
       "<style scoped>\n",
       "    .dataframe tbody tr th:only-of-type {\n",
       "        vertical-align: middle;\n",
       "    }\n",
       "\n",
       "    .dataframe tbody tr th {\n",
       "        vertical-align: top;\n",
       "    }\n",
       "\n",
       "    .dataframe thead th {\n",
       "        text-align: right;\n",
       "    }\n",
       "</style>\n",
       "<table border=\"1\" class=\"dataframe\">\n",
       "  <thead>\n",
       "    <tr style=\"text-align: right;\">\n",
       "      <th></th>\n",
       "      <th>category</th>\n",
       "      <th>room_count</th>\n",
       "      <th>bathroom_count</th>\n",
       "      <th>size</th>\n",
       "      <th>type</th>\n",
       "      <th>price</th>\n",
       "      <th>city</th>\n",
       "      <th>region</th>\n",
       "      <th>log_price</th>\n",
       "    </tr>\n",
       "  </thead>\n",
       "  <tbody>\n",
       "    <tr>\n",
       "      <th>0</th>\n",
       "      <td>Land and Farms</td>\n",
       "      <td>-1.0</td>\n",
       "      <td>-1.0</td>\n",
       "      <td>-1.0</td>\n",
       "      <td>For sale</td>\n",
       "      <td>100000.0</td>\n",
       "      <td>Ariana</td>\n",
       "      <td>Raoued</td>\n",
       "      <td>5.000000</td>\n",
       "    </tr>\n",
       "    <tr>\n",
       "      <th>1</th>\n",
       "      <td>Land and Farms</td>\n",
       "      <td>-1.0</td>\n",
       "      <td>-1.0</td>\n",
       "      <td>-1.0</td>\n",
       "      <td>For sale</td>\n",
       "      <td>316000.0</td>\n",
       "      <td>Ariana</td>\n",
       "      <td>Others</td>\n",
       "      <td>5.499687</td>\n",
       "    </tr>\n",
       "    <tr>\n",
       "      <th>2</th>\n",
       "      <td>Apartments</td>\n",
       "      <td>2.0</td>\n",
       "      <td>1.0</td>\n",
       "      <td>80.0</td>\n",
       "      <td>For rent</td>\n",
       "      <td>380.0</td>\n",
       "      <td>Ariana</td>\n",
       "      <td>Others</td>\n",
       "      <td>2.579784</td>\n",
       "    </tr>\n",
       "    <tr>\n",
       "      <th>3</th>\n",
       "      <td>Holiday rentals</td>\n",
       "      <td>1.0</td>\n",
       "      <td>1.0</td>\n",
       "      <td>90.0</td>\n",
       "      <td>For rent</td>\n",
       "      <td>70.0</td>\n",
       "      <td>Ariana</td>\n",
       "      <td>Others</td>\n",
       "      <td>1.845098</td>\n",
       "    </tr>\n",
       "    <tr>\n",
       "      <th>4</th>\n",
       "      <td>Apartments</td>\n",
       "      <td>2.0</td>\n",
       "      <td>2.0</td>\n",
       "      <td>113.0</td>\n",
       "      <td>For sale</td>\n",
       "      <td>170000.0</td>\n",
       "      <td>Ariana</td>\n",
       "      <td>Ariana Ville</td>\n",
       "      <td>5.230449</td>\n",
       "    </tr>\n",
       "    <tr>\n",
       "      <th>...</th>\n",
       "      <td>...</td>\n",
       "      <td>...</td>\n",
       "      <td>...</td>\n",
       "      <td>...</td>\n",
       "      <td>...</td>\n",
       "      <td>...</td>\n",
       "      <td>...</td>\n",
       "      <td>...</td>\n",
       "      <td>...</td>\n",
       "    </tr>\n",
       "    <tr>\n",
       "      <th>12743</th>\n",
       "      <td>Land and Farms</td>\n",
       "      <td>-1.0</td>\n",
       "      <td>-1.0</td>\n",
       "      <td>-1.0</td>\n",
       "      <td>For sale</td>\n",
       "      <td>3200000.0</td>\n",
       "      <td>Tunis</td>\n",
       "      <td>Sidi Bou Said</td>\n",
       "      <td>6.505150</td>\n",
       "    </tr>\n",
       "    <tr>\n",
       "      <th>12744</th>\n",
       "      <td>Apartments</td>\n",
       "      <td>1.0</td>\n",
       "      <td>1.0</td>\n",
       "      <td>100.0</td>\n",
       "      <td>For rent</td>\n",
       "      <td>600.0</td>\n",
       "      <td>Tunis</td>\n",
       "      <td>Others</td>\n",
       "      <td>2.778151</td>\n",
       "    </tr>\n",
       "    <tr>\n",
       "      <th>12745</th>\n",
       "      <td>Houses and Villas</td>\n",
       "      <td>3.0</td>\n",
       "      <td>1.0</td>\n",
       "      <td>760.0</td>\n",
       "      <td>For sale</td>\n",
       "      <td>1950000.0</td>\n",
       "      <td>Tunis</td>\n",
       "      <td>La Marsa</td>\n",
       "      <td>6.290035</td>\n",
       "    </tr>\n",
       "    <tr>\n",
       "      <th>12746</th>\n",
       "      <td>Houses and Villas</td>\n",
       "      <td>3.0</td>\n",
       "      <td>1.0</td>\n",
       "      <td>190.0</td>\n",
       "      <td>For sale</td>\n",
       "      <td>240000.0</td>\n",
       "      <td>Tunis</td>\n",
       "      <td>La Marsa</td>\n",
       "      <td>5.380211</td>\n",
       "    </tr>\n",
       "    <tr>\n",
       "      <th>12747</th>\n",
       "      <td>Houses and Villas</td>\n",
       "      <td>2.0</td>\n",
       "      <td>1.0</td>\n",
       "      <td>70.0</td>\n",
       "      <td>For rent</td>\n",
       "      <td>500.0</td>\n",
       "      <td>Tunis</td>\n",
       "      <td>Sidi Bou Said</td>\n",
       "      <td>2.698970</td>\n",
       "    </tr>\n",
       "  </tbody>\n",
       "</table>\n",
       "<p>12748 rows × 9 columns</p>\n",
       "</div>"
      ],
      "text/plain": [
       "                category  room_count  bathroom_count   size      type  \\\n",
       "0         Land and Farms        -1.0            -1.0   -1.0  For sale   \n",
       "1         Land and Farms        -1.0            -1.0   -1.0  For sale   \n",
       "2             Apartments         2.0             1.0   80.0  For rent   \n",
       "3        Holiday rentals         1.0             1.0   90.0  For rent   \n",
       "4             Apartments         2.0             2.0  113.0  For sale   \n",
       "...                  ...         ...             ...    ...       ...   \n",
       "12743     Land and Farms        -1.0            -1.0   -1.0  For sale   \n",
       "12744         Apartments         1.0             1.0  100.0  For rent   \n",
       "12745  Houses and Villas         3.0             1.0  760.0  For sale   \n",
       "12746  Houses and Villas         3.0             1.0  190.0  For sale   \n",
       "12747  Houses and Villas         2.0             1.0   70.0  For rent   \n",
       "\n",
       "           price    city         region  log_price  \n",
       "0       100000.0  Ariana         Raoued   5.000000  \n",
       "1       316000.0  Ariana         Others   5.499687  \n",
       "2          380.0  Ariana         Others   2.579784  \n",
       "3           70.0  Ariana         Others   1.845098  \n",
       "4       170000.0  Ariana   Ariana Ville   5.230449  \n",
       "...          ...     ...            ...        ...  \n",
       "12743  3200000.0   Tunis  Sidi Bou Said   6.505150  \n",
       "12744      600.0   Tunis         Others   2.778151  \n",
       "12745  1950000.0   Tunis       La Marsa   6.290035  \n",
       "12746   240000.0   Tunis       La Marsa   5.380211  \n",
       "12747      500.0   Tunis  Sidi Bou Said   2.698970  \n",
       "\n",
       "[12748 rows x 9 columns]"
      ]
     },
     "execution_count": 62,
     "metadata": {},
     "output_type": "execute_result"
    }
   ],
   "source": [
    "df.replace(df[\"category\"].unique(), ['Land and Farms', 'Apartments', 'Holiday rentals',\n",
    "       'Shops, Businesses and Industrial Premises', 'Houses and Villas',\n",
    "       'Flatshare', 'Offices and Trays'],inplace=True)\n",
    "\n",
    "df.replace(df[\"type\"].unique(), ['For sale', 'For rent'],inplace=True)\n",
    "\n",
    "df.replace(\"Autres villes\",\"Others\", inplace=True)\n",
    "df"
   ]
  },
  {
   "cell_type": "markdown",
   "metadata": {},
   "source": [
    "12748 uniques entries, 7 features, 2 continuous output (price)"
   ]
  },
  {
   "cell_type": "code",
   "execution_count": 63,
   "metadata": {},
   "outputs": [],
   "source": [
    "#del df[\"price\"] #since we'll be using log price anyway (will be done after visualization)"
   ]
  },
  {
   "cell_type": "markdown",
   "metadata": {},
   "source": [
    "\n",
    "\n",
    "\n",
    "## checking NA"
   ]
  },
  {
   "cell_type": "code",
   "execution_count": 64,
   "metadata": {},
   "outputs": [
    {
     "data": {
      "text/plain": [
       "category          0\n",
       "room_count        0\n",
       "bathroom_count    0\n",
       "size              0\n",
       "type              0\n",
       "price             0\n",
       "city              0\n",
       "region            0\n",
       "log_price         0\n",
       "dtype: int64"
      ]
     },
     "execution_count": 64,
     "metadata": {},
     "output_type": "execute_result"
    }
   ],
   "source": [
    "df.isna().sum()"
   ]
  },
  {
   "cell_type": "code",
   "execution_count": 65,
   "metadata": {},
   "outputs": [
    {
     "data": {
      "text/plain": [
       "category          0\n",
       "room_count        0\n",
       "bathroom_count    0\n",
       "size              0\n",
       "type              0\n",
       "price             0\n",
       "city              0\n",
       "region            0\n",
       "log_price         0\n",
       "dtype: int64"
      ]
     },
     "execution_count": 65,
     "metadata": {},
     "output_type": "execute_result"
    }
   ],
   "source": [
    "df.isnull().sum()"
   ]
  },
  {
   "cell_type": "markdown",
   "metadata": {},
   "source": [
    "In this database, the \"NA\" is -1"
   ]
  },
  {
   "cell_type": "code",
   "execution_count": 66,
   "metadata": {},
   "outputs": [
    {
     "data": {
      "text/plain": [
       "category             0\n",
       "room_count        3415\n",
       "bathroom_count    3415\n",
       "size              3415\n",
       "type                 0\n",
       "price                0\n",
       "city                 0\n",
       "region               0\n",
       "log_price            0\n",
       "dtype: int64"
      ]
     },
     "execution_count": 66,
     "metadata": {},
     "output_type": "execute_result"
    }
   ],
   "source": [
    "(df==-1).sum()"
   ]
  },
  {
   "cell_type": "markdown",
   "metadata": {},
   "source": [
    "Here, 3415 values are missing. \n",
    "\n",
    "* ***Question 1*: are they from the same samples?**"
   ]
  },
  {
   "cell_type": "code",
   "execution_count": 67,
   "metadata": {},
   "outputs": [
    {
     "data": {
      "text/plain": [
       "3415"
      ]
     },
     "execution_count": 67,
     "metadata": {},
     "output_type": "execute_result"
    }
   ],
   "source": [
    "na_vals = ((df[\"room_count\"] == -1).astype(np.bool) & (df[\"bathroom_count\"]==-1).astype(np.bool)) & (df[\"size\"]==-1).astype(np.bool)\n",
    "na_vals.sum()"
   ]
  },
  {
   "cell_type": "markdown",
   "metadata": {},
   "source": [
    "**=> Yes**\n",
    "\n",
    "* ***Question 2*: does removing them cause problems?**"
   ]
  },
  {
   "cell_type": "code",
   "execution_count": 68,
   "metadata": {},
   "outputs": [
    {
     "data": {
      "text/plain": [
       "array(['Land and Farms'], dtype=object)"
      ]
     },
     "execution_count": 68,
     "metadata": {},
     "output_type": "execute_result"
    }
   ],
   "source": [
    "df[na_vals].category.unique()"
   ]
  },
  {
   "cell_type": "markdown",
   "metadata": {},
   "source": [
    "Makes sense ... \"Land and farms\" shouldn't have room count or room size :-/\n",
    "\n",
    "\n",
    "There are two possible options/consequences:\n",
    "- remove the land & farms\n",
    "- let land and farms in place and check their \"influence\"\n",
    "\n",
    "\n",
    "I have chosen option 2"
   ]
  },
  {
   "cell_type": "markdown",
   "metadata": {},
   "source": [
    "# Data info & visualization (General)"
   ]
  },
  {
   "cell_type": "code",
   "execution_count": 12,
   "metadata": {},
   "outputs": [],
   "source": [
    "def plot_and_describe_pie(feature_name):\n",
    "    (df.groupby(feature_name)[feature_name].count()/len(df)*100).plot.pie(y=feature_name,figsize=(10,8),ylabel='share in %', autopct='%.2f')\n",
    "    print(\"Share Count\");\n",
    "    print(df.groupby(feature_name)[feature_name].count())\n",
    "    print(\"\\r\\nShare in %:\");\n",
    "    print(df.groupby(feature_name)[feature_name].count()/len(df)*100)\n",
    "\n",
    "def plot_and_describe_bar(feature_name):\n",
    "    (df.replace(-1,\"N/A\").groupby(feature_name)[feature_name].count()/len(df)*100).plot.bar(y=feature_name,figsize=(10,8),ylabel='share in %')\n",
    "    print(\"Share Count\");\n",
    "    print(df.replace(-1,\"N/A\").groupby(feature_name)[feature_name].count())\n",
    "    print(\"\\r\\nShare in %:\");\n",
    "    print(df.replace(-1,\"N/A\").groupby(feature_name)[feature_name].count()/len(df)*100)\n",
    "\n",
    "def plot_and_describe_qhist(feature_name, bin_count=10):\n",
    "    it =  (pd.qcut(df[feature_name],q=bin_count,duplicates='drop').value_counts()) #temporary\n",
    "    (it/ len(df)*100).plot.bar(ylabel='share in %',figsize=(8,6))\n",
    "    print(\"Share Count\");\n",
    "    print(it)\n",
    "    print(\"\\r\\nShare in %:\");\n",
    "    print(it/len(df)*100)"
   ]
  },
  {
   "cell_type": "markdown",
   "metadata": {},
   "source": [
    "Excluding the -1, the description of the database:"
   ]
  },
  {
   "cell_type": "code",
   "execution_count": 13,
   "metadata": {},
   "outputs": [
    {
     "data": {
      "text/html": [
       "<div>\n",
       "<style scoped>\n",
       "    .dataframe tbody tr th:only-of-type {\n",
       "        vertical-align: middle;\n",
       "    }\n",
       "\n",
       "    .dataframe tbody tr th {\n",
       "        vertical-align: top;\n",
       "    }\n",
       "\n",
       "    .dataframe thead th {\n",
       "        text-align: right;\n",
       "    }\n",
       "</style>\n",
       "<table border=\"1\" class=\"dataframe\">\n",
       "  <thead>\n",
       "    <tr style=\"text-align: right;\">\n",
       "      <th></th>\n",
       "      <th>room_count</th>\n",
       "      <th>bathroom_count</th>\n",
       "      <th>size</th>\n",
       "      <th>price</th>\n",
       "      <th>log_price</th>\n",
       "    </tr>\n",
       "  </thead>\n",
       "  <tbody>\n",
       "    <tr>\n",
       "      <th>count</th>\n",
       "      <td>9333.000000</td>\n",
       "      <td>9333.000000</td>\n",
       "      <td>9333.000000</td>\n",
       "      <td>1.274800e+04</td>\n",
       "      <td>12748.000000</td>\n",
       "    </tr>\n",
       "    <tr>\n",
       "      <th>mean</th>\n",
       "      <td>2.769420</td>\n",
       "      <td>1.403836</td>\n",
       "      <td>179.157827</td>\n",
       "      <td>1.601575e+07</td>\n",
       "      <td>4.374245</td>\n",
       "    </tr>\n",
       "    <tr>\n",
       "      <th>std</th>\n",
       "      <td>1.623003</td>\n",
       "      <td>0.798154</td>\n",
       "      <td>193.874968</td>\n",
       "      <td>1.016644e+09</td>\n",
       "      <td>1.389788</td>\n",
       "    </tr>\n",
       "    <tr>\n",
       "      <th>min</th>\n",
       "      <td>1.000000</td>\n",
       "      <td>0.000000</td>\n",
       "      <td>20.000000</td>\n",
       "      <td>1.000000e+01</td>\n",
       "      <td>1.000000</td>\n",
       "    </tr>\n",
       "    <tr>\n",
       "      <th>25%</th>\n",
       "      <td>2.000000</td>\n",
       "      <td>1.000000</td>\n",
       "      <td>83.000000</td>\n",
       "      <td>8.500000e+02</td>\n",
       "      <td>2.929419</td>\n",
       "    </tr>\n",
       "    <tr>\n",
       "      <th>50%</th>\n",
       "      <td>3.000000</td>\n",
       "      <td>1.000000</td>\n",
       "      <td>120.000000</td>\n",
       "      <td>8.975000e+04</td>\n",
       "      <td>4.953033</td>\n",
       "    </tr>\n",
       "    <tr>\n",
       "      <th>75%</th>\n",
       "      <td>3.000000</td>\n",
       "      <td>2.000000</td>\n",
       "      <td>198.000000</td>\n",
       "      <td>2.600000e+05</td>\n",
       "      <td>5.414973</td>\n",
       "    </tr>\n",
       "    <tr>\n",
       "      <th>max</th>\n",
       "      <td>20.000000</td>\n",
       "      <td>10.000000</td>\n",
       "      <td>2000.000000</td>\n",
       "      <td>1.000000e+11</td>\n",
       "      <td>11.000000</td>\n",
       "    </tr>\n",
       "  </tbody>\n",
       "</table>\n",
       "</div>"
      ],
      "text/plain": [
       "        room_count  bathroom_count         size         price     log_price\n",
       "count  9333.000000     9333.000000  9333.000000  1.274800e+04  12748.000000\n",
       "mean      2.769420        1.403836   179.157827  1.601575e+07      4.374245\n",
       "std       1.623003        0.798154   193.874968  1.016644e+09      1.389788\n",
       "min       1.000000        0.000000    20.000000  1.000000e+01      1.000000\n",
       "25%       2.000000        1.000000    83.000000  8.500000e+02      2.929419\n",
       "50%       3.000000        1.000000   120.000000  8.975000e+04      4.953033\n",
       "75%       3.000000        2.000000   198.000000  2.600000e+05      5.414973\n",
       "max      20.000000       10.000000  2000.000000  1.000000e+11     11.000000"
      ]
     },
     "execution_count": 13,
     "metadata": {},
     "output_type": "execute_result"
    }
   ],
   "source": [
    "#generate description\n",
    "df[df!=-1].describe()"
   ]
  },
  {
   "cell_type": "markdown",
   "metadata": {},
   "source": [
    "## category"
   ]
  },
  {
   "cell_type": "code",
   "execution_count": 14,
   "metadata": {},
   "outputs": [
    {
     "name": "stdout",
     "output_type": "stream",
     "text": [
      "Share Count\n",
      "category\n",
      "Apartments                                   4700\n",
      "Flatshare                                      65\n",
      "Holiday rentals                               298\n",
      "Houses and Villas                            3158\n",
      "Land and Farms                               3415\n",
      "Offices and Trays                             461\n",
      "Shops, Businesses and Industrial Premises     651\n",
      "Name: category, dtype: int64\n",
      "\n",
      "Share in %:\n",
      "category\n",
      "Apartments                                   36.868528\n",
      "Flatshare                                     0.509884\n",
      "Holiday rentals                               2.337622\n",
      "Houses and Villas                            24.772513\n",
      "Land and Farms                               26.788516\n",
      "Offices and Trays                             3.616254\n",
      "Shops, Businesses and Industrial Premises     5.106683\n",
      "Name: category, dtype: float64\n"
     ]
    },
    {
     "data": {
      "image/png": "[encoded data removed]",
      "text/plain": [
       "<Figure size 720x576 with 1 Axes>"
      ]
     },
     "metadata": {},
     "output_type": "display_data"
    }
   ],
   "source": [
    "plot_and_describe_pie(\"category\")"
   ]
  },
  {
   "cell_type": "markdown",
   "metadata": {},
   "source": [
    "There are 7 categories: \"apartments\" (flats), \"lands & farms\", and \"house & villas\" are the most dominant. "
   ]
  },
  {
   "cell_type": "markdown",
   "metadata": {},
   "source": [
    "## Type"
   ]
  },
  {
   "cell_type": "code",
   "execution_count": 15,
   "metadata": {},
   "outputs": [
    {
     "name": "stdout",
     "output_type": "stream",
     "text": [
      "Share Count\n",
      "type\n",
      "For rent    4990\n",
      "For sale    7758\n",
      "Name: type, dtype: int64\n",
      "\n",
      "Share in %:\n",
      "type\n",
      "For rent    39.143395\n",
      "For sale    60.856605\n",
      "Name: type, dtype: float64\n"
     ]
    },
    {
     "data": {
      "image/png": "[encoded data removed]",
      "text/plain": [
       "<Figure size 720x576 with 1 Axes>"
      ]
     },
     "metadata": {},
     "output_type": "display_data"
    }
   ],
   "source": [
    "plot_and_describe_pie(\"type\")"
   ]
  },
  {
   "cell_type": "markdown",
   "metadata": {},
   "source": [
    "## Room count"
   ]
  },
  {
   "cell_type": "code",
   "execution_count": 16,
   "metadata": {},
   "outputs": [
    {
     "name": "stdout",
     "output_type": "stream",
     "text": [
      "Share Count\n",
      "room_count\n",
      "1.0     1699\n",
      "2.0     2906\n",
      "3.0     2702\n",
      "4.0     1160\n",
      "5.0      385\n",
      "6.0      205\n",
      "7.0       87\n",
      "8.0       88\n",
      "9.0       29\n",
      "10.0      27\n",
      "11.0      10\n",
      "12.0      16\n",
      "13.0       5\n",
      "14.0       6\n",
      "15.0       2\n",
      "16.0       1\n",
      "18.0       3\n",
      "20.0       2\n",
      "N/A     3415\n",
      "Name: room_count, dtype: int64\n",
      "\n",
      "Share in %:\n",
      "room_count\n",
      "1.0     13.327581\n",
      "2.0     22.795733\n",
      "3.0     21.195482\n",
      "4.0      9.099467\n",
      "5.0      3.020082\n",
      "6.0      1.608095\n",
      "7.0      0.682460\n",
      "8.0      0.690304\n",
      "9.0      0.227487\n",
      "10.0     0.211798\n",
      "11.0     0.078444\n",
      "12.0     0.125510\n",
      "13.0     0.039222\n",
      "14.0     0.047066\n",
      "15.0     0.015689\n",
      "16.0     0.007844\n",
      "18.0     0.023533\n",
      "20.0     0.015689\n",
      "N/A     26.788516\n",
      "Name: room_count, dtype: float64\n"
     ]
    },
    {
     "data": {
      "image/png": "[encoded data removed]",
      "text/plain": [
       "<Figure size 720x576 with 1 Axes>"
      ]
     },
     "metadata": {
      "needs_background": "light"
     },
     "output_type": "display_data"
    }
   ],
   "source": [
    "plot_and_describe_bar('room_count')"
   ]
  },
  {
   "cell_type": "code",
   "execution_count": 17,
   "metadata": {},
   "outputs": [
    {
     "data": {
      "text/plain": [
       "count    12748.000000\n",
       "mean         1.759649\n",
       "std          2.171468\n",
       "min         -1.000000\n",
       "25%         -1.000000\n",
       "50%          2.000000\n",
       "75%          3.000000\n",
       "max         20.000000\n",
       "Name: room_count, dtype: float64"
      ]
     },
     "execution_count": 17,
     "metadata": {},
     "output_type": "execute_result"
    }
   ],
   "source": [
    "#df['room_count'].median()\n",
    "# df['room_count'].mean()\n",
    "df['room_count'].describe()"
   ]
  },
  {
   "cell_type": "markdown",
   "metadata": {},
   "source": [
    "In most cases, and aside the \"farms & lands\" that do not have a room count, the mode is 2 rooms per reality estate. \n",
    "* The minimum is 0\n",
    "* Maximum is 20 (wow... is that a castle?)\n",
    "* median and mode are both 2 (average is 1.76 [joke: imagine if you have a neighbor sharing 25% of your second room], rounded to 2)\n",
    "\n",
    "\n",
    "**Cautions: starting from ```Room_count``` of 14, there is a probability of data degeneracy** (check table above)"
   ]
  },
  {
   "cell_type": "markdown",
   "metadata": {},
   "source": [
    "## bathroom count"
   ]
  },
  {
   "cell_type": "code",
   "execution_count": 18,
   "metadata": {},
   "outputs": [
    {
     "name": "stdout",
     "output_type": "stream",
     "text": [
      "Share Count\n",
      "bathroom_count\n",
      "0.0       36\n",
      "1.0     6582\n",
      "2.0     2012\n",
      "3.0      484\n",
      "4.0      133\n",
      "5.0       51\n",
      "6.0       12\n",
      "7.0        9\n",
      "8.0        9\n",
      "10.0       5\n",
      "N/A     3415\n",
      "Name: bathroom_count, dtype: int64\n",
      "\n",
      "Share in %:\n",
      "bathroom_count\n",
      "0.0      0.282397\n",
      "1.0     51.631628\n",
      "2.0     15.782868\n",
      "3.0      3.796674\n",
      "4.0      1.043301\n",
      "5.0      0.400063\n",
      "6.0      0.094132\n",
      "7.0      0.070599\n",
      "8.0      0.070599\n",
      "10.0     0.039222\n",
      "N/A     26.788516\n",
      "Name: bathroom_count, dtype: float64\n"
     ]
    },
    {
     "data": {
      "image/png": "[encoded data removed]",
      "text/plain": [
       "<Figure size 720x576 with 1 Axes>"
      ]
     },
     "metadata": {
      "needs_background": "light"
     },
     "output_type": "display_data"
    }
   ],
   "source": [
    "plot_and_describe_bar('bathroom_count')"
   ]
  },
  {
   "cell_type": "code",
   "execution_count": 19,
   "metadata": {},
   "outputs": [
    {
     "data": {
      "text/plain": [
       "count    12748.000000\n",
       "mean         0.759884\n",
       "std          1.264812\n",
       "min         -1.000000\n",
       "25%         -1.000000\n",
       "50%          1.000000\n",
       "75%          1.000000\n",
       "max         10.000000\n",
       "Name: bathroom_count, dtype: float64"
      ]
     },
     "execution_count": 19,
     "metadata": {},
     "output_type": "execute_result"
    }
   ],
   "source": [
    "df[\"bathroom_count\"].describe()"
   ]
  },
  {
   "cell_type": "markdown",
   "metadata": {},
   "source": [
    "* Minimum of 0 bathrooms (probably shared, I think?? I hope??)\n",
    "* Maximum of 10 bathrooms per household (I told you this is a castle!!)\n",
    "* Mode and median are 1\n",
    "* Average of 0.75 (yes, 25% remaining of my toilet seat is owned by my neighbor. This is why we made it clear that they should only enter during the first 6 hours of the day /joke)"
   ]
  },
  {
   "cell_type": "code",
   "execution_count": 20,
   "metadata": {},
   "outputs": [
    {
     "data": {
      "text/plain": [
       "category\n",
       "Offices and Trays                             3\n",
       "Shops, Businesses and Industrial Premises    33\n",
       "Name: category, dtype: int64"
      ]
     },
     "execution_count": 20,
     "metadata": {},
     "output_type": "execute_result"
    }
   ],
   "source": [
    "df[df[\"bathroom_count\"]==0].groupby(\"category\")[\"category\"].count()"
   ]
  },
  {
   "cell_type": "markdown",
   "metadata": {},
   "source": [
    "OK, so some shops, business, offices do not have a toilet.... \n",
    "\n",
    "Let's not think hard about it and continue working"
   ]
  },
  {
   "cell_type": "markdown",
   "metadata": {},
   "source": [
    "## Size"
   ]
  },
  {
   "cell_type": "code",
   "execution_count": 21,
   "metadata": {},
   "outputs": [
    {
     "name": "stdout",
     "output_type": "stream",
     "text": [
      "Share Count\n",
      "(-1.001, 48.0]     3830\n",
      "(134.0, 180.0]     1368\n",
      "(48.0, 75.0]       1347\n",
      "(95.0, 110.0]      1342\n",
      "(180.0, 300.0]     1235\n",
      "(75.0, 95.0]       1226\n",
      "(300.0, 2000.0]    1211\n",
      "(110.0, 134.0]     1189\n",
      "Name: size, dtype: int64\n",
      "\n",
      "Share in %:\n",
      "(-1.001, 48.0]     30.043928\n",
      "(134.0, 180.0]     10.731095\n",
      "(48.0, 75.0]       10.566363\n",
      "(95.0, 110.0]      10.527142\n",
      "(180.0, 300.0]      9.687794\n",
      "(75.0, 95.0]        9.617195\n",
      "(300.0, 2000.0]     9.499529\n",
      "(110.0, 134.0]      9.326953\n",
      "Name: size, dtype: float64\n"
     ]
    },
    {
     "data": {
      "image/png": "[encoded data removed]",
      "text/plain": [
       "<Figure size 576x432 with 1 Axes>"
      ]
     },
     "metadata": {
      "needs_background": "light"
     },
     "output_type": "display_data"
    }
   ],
   "source": [
    "plot_and_describe_qhist('size')"
   ]
  },
  {
   "cell_type": "code",
   "execution_count": 22,
   "metadata": {},
   "outputs": [
    {
     "data": {
      "text/plain": [
       "count    9333.000000\n",
       "mean      179.157827\n",
       "std       193.874968\n",
       "min        20.000000\n",
       "25%        83.000000\n",
       "50%       120.000000\n",
       "75%       198.000000\n",
       "max      2000.000000\n",
       "Name: size, dtype: float64"
      ]
     },
     "execution_count": 22,
     "metadata": {},
     "output_type": "execute_result"
    }
   ],
   "source": [
    "df[df!=-1][\"size\"].describe()"
   ]
  },
  {
   "cell_type": "markdown",
   "metadata": {},
   "source": [
    "So basically tiny (< 48m²) & no size have a share of 30%. \n",
    "* Average of 179m² is shown, but the median is 120m²\n",
    "* Maximum of 2000 m² (0.2 hectare²) size\n",
    "* Minimum is 20 m²  (well... my uni-room abroad is 18m², I can't complain I guess)\n",
    "* 75% percentile  have 198 m² or less size"
   ]
  },
  {
   "cell_type": "markdown",
   "metadata": {},
   "source": [
    "## City"
   ]
  },
  {
   "cell_type": "code",
   "execution_count": 23,
   "metadata": {},
   "outputs": [
    {
     "name": "stdout",
     "output_type": "stream",
     "text": [
      "Share Count\n",
      "city\n",
      "Ariana         2374\n",
      "Ben arous      1123\n",
      "Bizerte         455\n",
      "Béja             63\n",
      "Gabès           191\n",
      "Gafsa            88\n",
      "Jendouba         92\n",
      "Kairouan        116\n",
      "Kasserine        59\n",
      "Kébili           11\n",
      "La manouba      663\n",
      "Le kef           63\n",
      "Mahdia          268\n",
      "Monastir        479\n",
      "Médenine        230\n",
      "Nabeul          821\n",
      "Sfax            646\n",
      "Sidi bouzid      53\n",
      "Siliana          31\n",
      "Sousse         2270\n",
      "Tataouine        17\n",
      "Tozeur           46\n",
      "Tunis          2408\n",
      "Zaghouan        181\n",
      "Name: city, dtype: int64\n",
      "\n",
      "Share in %:\n",
      "city\n",
      "Ariana         18.622529\n",
      "Ben arous       8.809225\n",
      "Bizerte         3.569187\n",
      "Béja            0.494195\n",
      "Gabès           1.498274\n",
      "Gafsa           0.690304\n",
      "Jendouba        0.721682\n",
      "Kairouan        0.909947\n",
      "Kasserine       0.462818\n",
      "Kébili          0.086288\n",
      "La manouba      5.200816\n",
      "Le kef          0.494195\n",
      "Mahdia          2.102291\n",
      "Monastir        3.757452\n",
      "Médenine        1.804205\n",
      "Nabeul          6.440226\n",
      "Sfax            5.067462\n",
      "Sidi bouzid     0.415751\n",
      "Siliana         0.243175\n",
      "Sousse         17.806715\n",
      "Tataouine       0.133354\n",
      "Tozeur          0.360841\n",
      "Tunis          18.889238\n",
      "Zaghouan        1.419831\n",
      "Name: city, dtype: float64\n"
     ]
    },
    {
     "data": {
      "image/png": "[encoded data removed]",
      "text/plain": [
       "<Figure size 720x576 with 1 Axes>"
      ]
     },
     "metadata": {},
     "output_type": "display_data"
    }
   ],
   "source": [
    "plot_and_describe_pie('city')\n"
   ]
  },
  {
   "cell_type": "code",
   "execution_count": 24,
   "metadata": {},
   "outputs": [
    {
     "data": {
      "text/plain": [
       "4.573266394728584"
      ]
     },
     "execution_count": 24,
     "metadata": {},
     "output_type": "execute_result"
    }
   ],
   "source": [
    "#grand_tunis = ((df[\"city\"] == 'Ariana') | (df[\"city\"] == 'Tunis') | (df[\"city\"] == 'Ben arous')   | (df[\"city\"] == 'La manouba'))\n",
    "#grand_tunis.sum() / len(df)*100\n",
    "\n",
    "# sahel = ((df[\"city\"] == 'Monastir') | (df[\"city\"] == 'Mahdia') | (df[\"city\"] == 'Sousse') )\n",
    "# sahel.sum() / len(df)*100\n",
    "\n",
    "#nord_ouest = ((df[\"city\"] == 'Béja') | (df[\"city\"] == 'Jendouba') | (df[\"city\"] == 'Siliana')  | (df[\"city\"] == 'Le kef') )\n",
    "# #nord_ouest.sum() / len(df)*100\n",
    "\n",
    "#nord_est = ((df[\"city\"] == 'Nabeul') | (df[\"city\"] == 'Bizerte') | (df[\"city\"] == 'Zaghouan') ) \n",
    "#nord_est.sum() / len(df)*100\n",
    "\n",
    "#centre_est = ((df[\"city\"] == 'Kairouan') | (df[\"city\"] == 'Kasserine') | (df[\"city\"] == 'Sidi bouzid') ) \n",
    "#centre_est.sum() / len(df)*100\n",
    "\n",
    "sud_ouest = ((df[\"city\"] == 'Tozeur') | (df[\"city\"] == 'Kébili') | (df[\"city\"] == 'Gafsa') ) \n",
    "sud_est = ((df[\"city\"] == 'Gabès') | (df[\"city\"] == 'Médenine') | (df[\"city\"] == 'Tataouine') ) \n",
    "(sud_ouest|sud_est).sum() / len(df)*100"
   ]
  },
  {
   "cell_type": "code",
   "execution_count": 25,
   "metadata": {},
   "outputs": [
    {
     "data": {
      "text/plain": [
       "False"
      ]
     },
     "execution_count": 25,
     "metadata": {},
     "output_type": "execute_result"
    }
   ],
   "source": [
    "#df.groupby(\"city\")[\"city\"].count().sort_values(ascending=False)\n",
    "df.groupby(\"city\")[\"city\"] == 'Ariana'\n"
   ]
  },
  {
   "cell_type": "markdown",
   "metadata": {},
   "source": [
    "Since this is my home country, I'll explain it better:\n",
    "* The capital \"Tunis\" has most offers (18.89%)\n",
    "* The \"metropole\" ; Grand Tunis, which contains Ariana, Tunis, Mannouba, and Ben Arous; has 51% offers\n",
    "* The \"Sahel\"; Shore/Coast region, which contains Monastir, Sousse, and Mahdia, has 23% offers\n",
    "* Nabeul; from Napolis; has 6% offers, but if we include \"North east\" (Nabeul+Bizerte+Zaghouan): 11%\n",
    "* The \"Capital of the South\"; Sfax; has 5% offers; but if it's added to Sahel to form the \"center-east\": 16%\n",
    "* The Nord-Ouest (Béja + Le Kef + Jendouba + Siliana): 1.95 % of the offers\n",
    "* Center-west (Kairouan, Kasserine & Sidi Bouzid): 1.75% of the offers\n",
    "* South (excluding Sfax): 4.57% of the offers\n",
    "\n",
    "_if interested, offtopic_\n",
    "* South has Tataouine (Yes, where Tatooine from Star Wars was shot) but it's a bit hot\n",
    "* Monastir, Sousse, Mahdia, and Sfax contains many roman monuments, Life of Brian was shot in Monastir, for example"
   ]
  },
  {
   "cell_type": "markdown",
   "metadata": {},
   "source": [
    "## Region"
   ]
  },
  {
   "cell_type": "code",
   "execution_count": 26,
   "metadata": {},
   "outputs": [
    {
     "name": "stdout",
     "output_type": "stream",
     "text": [
      "city         region                  \n",
      "Ariana       Ariana                      155\n",
      "             Ariana Ville                 95\n",
      "             Borj Louzir                 158\n",
      "             Chotrana                     86\n",
      "             Ennasr                      304\n",
      "             Ettadhamen                   10\n",
      "             Ghazela                     183\n",
      "             Jardins D'el Menzah         149\n",
      "             La Soukra                   446\n",
      "             Mnihla                       74\n",
      "             Others                      356\n",
      "             Raoued                      268\n",
      "             Sidi Thabet                  90\n",
      "Ben arous    Ben arous                    45\n",
      "             Boumhel                     162\n",
      "             El Mourouj                  193\n",
      "             Ezzahra                      94\n",
      "             Fouchana                     48\n",
      "             Hammam Chott                 93\n",
      "             Hammam Lif                   32\n",
      "             Medina Jedida                68\n",
      "             Mohamedia                    25\n",
      "             Mornag                       59\n",
      "             Mégrine                      74\n",
      "             Others                      140\n",
      "             Radès                        90\n",
      "Bizerte      Bizerte                      49\n",
      "             Bizerte Nord                 95\n",
      "             Bizerte Sud                  12\n",
      "             Ghar El Melh                 25\n",
      "             Ghezala                       1\n",
      "             Mateur                        7\n",
      "             Menzel Bourguiba             16\n",
      "             Others                      152\n",
      "             Ras Jebel                    78\n",
      "             Sejenane                      2\n",
      "             Tinja                         2\n",
      "             Utique                        8\n",
      "             Zarzouna                      8\n",
      "Béja         Amdoun                        1\n",
      "             Béja                          3\n",
      "             Béja Nord                     8\n",
      "             Béja Sud                      2\n",
      "             Goubellat                     2\n",
      "             Medjez el-Bab                11\n",
      "             Nefza                         1\n",
      "             Others                       24\n",
      "             Testour                       6\n",
      "             Téboursouk                    5\n",
      "Gabès        El Hamma                      9\n",
      "             Gabès                        28\n",
      "             Gabès Médina                 21\n",
      "             Gabès Ouest                   5\n",
      "             Gabès Sud                    40\n",
      "             Ghanouch                      2\n",
      "             Mareth                        8\n",
      "             Métouia                       7\n",
      "             Nouvelle Matmata              3\n",
      "             Others                       68\n",
      "Gafsa        El Guettar                    2\n",
      "             Gafsa                        10\n",
      "             Gafsa Nord                    8\n",
      "             Gafsa Sud                    28\n",
      "             Métlaoui                      1\n",
      "             Others                       31\n",
      "             Oum El Araies                 2\n",
      "             Redeyef                       2\n",
      "             Sened                         1\n",
      "             Sidi Aïch                     3\n",
      "Jendouba     Ain Draham                   10\n",
      "             Bou Salem                     6\n",
      "             Fernana                       1\n",
      "             Ghardimaou                    1\n",
      "             Jendouba                     13\n",
      "             Others                       33\n",
      "             Oued Meliz                    1\n",
      "             Tabarka                      27\n",
      "Kairouan     Chebika                       3\n",
      "             El Ouslatia                   2\n",
      "             Haffouz                       2\n",
      "             Hajeb El Ayoun                1\n",
      "             Kairouan                     30\n",
      "             Kairouan Nord                21\n",
      "             Kairouan Sud                 19\n",
      "             Others                       33\n",
      "             Sbikha                        5\n",
      "Kasserine    Fériana                       1\n",
      "             Kasserine                    10\n",
      "             Kasserine Nord                9\n",
      "             Kasserine Sud                 7\n",
      "             Others                       19\n",
      "             Sbeïtla                       9\n",
      "             Sbiba                         2\n",
      "             Thala                         2\n",
      "Kébili       Douz Sud                      1\n",
      "             Kébili                        1\n",
      "             Kébili Nord                   2\n",
      "             Kébili Sud                    2\n",
      "             Others                        5\n",
      "La manouba   Borj El Amri                 24\n",
      "             Denden                       59\n",
      "             Djedeida                     38\n",
      "             Douar Hicher                 32\n",
      "             El Battan                     3\n",
      "             La manouba                  117\n",
      "             Manouba Ville                66\n",
      "             Menzel El Habib               3\n",
      "             Mornaguia                    64\n",
      "             Others                      150\n",
      "             Oued Ellil                   84\n",
      "             Tebourba                     23\n",
      "Le kef       Dahmani                       1\n",
      "             Djerissa                      3\n",
      "             El Ksour                      2\n",
      "             Es-Sers                       3\n",
      "             Kalâat Khasbah                1\n",
      "             Kalâat Snan                   1\n",
      "             Kef Est                       3\n",
      "             Kef Ouest                    13\n",
      "             Le kef                       16\n",
      "             Nebeur                        2\n",
      "             Others                       10\n",
      "             Tajerouine                    8\n",
      "Mahdia       Chebba                       13\n",
      "             Chorbane                      1\n",
      "             El Jem                        1\n",
      "             Essouassi                     2\n",
      "             Ksour Essef                  21\n",
      "             Mahdia                      179\n",
      "             Melloulèche                   1\n",
      "             Others                       49\n",
      "             Sidi Alouane                  1\n",
      "Monastir     Bekalta                      10\n",
      "             Bembla                        2\n",
      "             Beni Hassen                   6\n",
      "             Jemmal                       17\n",
      "             Ksar Hellal                  18\n",
      "             Ksibet el-Médiouni            7\n",
      "             Moknine                      17\n",
      "             Monastir                    244\n",
      "             Others                      105\n",
      "             Ouerdanine                   14\n",
      "             Sahline                      28\n",
      "             Sayada-Lamta-Bou Hajar        6\n",
      "             Téboulba                      4\n",
      "             Zéramdine                     1\n",
      "Médenine     Ben Gardane                   4\n",
      "             Djerba - Ajim                 7\n",
      "             Djerba - Midoun              86\n",
      "             Djerba-Houmt Souk            58\n",
      "             Médenine                     11\n",
      "             Médenine Nord                 9\n",
      "             Médenine Sud                  5\n",
      "             Others                       43\n",
      "             Zarzis                        7\n",
      "Nabeul       Bou Argoub                    2\n",
      "             Béni Khalled                  2\n",
      "             Béni Khiar                    4\n",
      "             Dar Châabane El Fehri         6\n",
      "             El Haouaria                  17\n",
      "             El Mida                       1\n",
      "             Grombalia                     5\n",
      "             Hammam Ghezèze                5\n",
      "             Hammamet                    580\n",
      "             Hammamet Centre              16\n",
      "             Hammamet Nord                27\n",
      "             Korba                         4\n",
      "             Kélibia                      35\n",
      "             Menzel Bouzelfa               1\n",
      "             Menzel Temime                 5\n",
      "             Mrezga                       42\n",
      "             Nabeul                       41\n",
      "             Others                       18\n",
      "             Soliman                      10\n",
      "Sfax         Agareb                        4\n",
      "             Kerkennah                    11\n",
      "             Mahrès                       16\n",
      "             Menzel Chaker                11\n",
      "             Others                      172\n",
      "             Route Mehdia                 27\n",
      "             Route Menzel Chaker          42\n",
      "             Route Soukra                 36\n",
      "             Route Tunis                  23\n",
      "             Route el Afrane              21\n",
      "             Route el Ain                 35\n",
      "             Sakiet Eddaïer               35\n",
      "             Sakiet Ezzit                 27\n",
      "             Sfax                        114\n",
      "             Sfax Médina                   9\n",
      "             Sfax Ville                   48\n",
      "             Skhira                        2\n",
      "             Thyna                        13\n",
      "Sidi bouzid  Bir El Hafey                  6\n",
      "             Cebbala Ouled Asker           1\n",
      "             Jilma                         4\n",
      "             Meknassy                      1\n",
      "             Mezzouna                      3\n",
      "             Others                       11\n",
      "             Ouled Haffouz                 1\n",
      "             Regueb                        6\n",
      "             Sidi Ali Ben Aoun             3\n",
      "             Sidi Bouzid Est               5\n",
      "             Sidi Bouzid Ouest             6\n",
      "             Sidi bouzid                   3\n",
      "             Souk Jedid                    3\n",
      "Siliana      Bou Arada                     1\n",
      "             El Aroussa                    1\n",
      "             El Krib                       2\n",
      "             Makthar                       2\n",
      "             Others                        8\n",
      "             Rouhia                        1\n",
      "             Siliana                      10\n",
      "             Siliana Nord                  5\n",
      "             Siliana Sud                   1\n",
      "Sousse       Akouda                      163\n",
      "             Bouficha                      8\n",
      "             Enfidha                       8\n",
      "             Hammam Sousse               306\n",
      "             Hergla                       88\n",
      "             Kalaâ Kebira                 55\n",
      "             Kalaâ Sghira                 56\n",
      "             Kantaoui                    162\n",
      "             Kondar                       11\n",
      "             M'saken                      31\n",
      "             Others                      225\n",
      "             Sahloul                     349\n",
      "             Sidi Bou Ali                 13\n",
      "             Sidi El Héni                  1\n",
      "             Sousse                      263\n",
      "             Sousse Jawhara              292\n",
      "             Sousse Médina                47\n",
      "             Sousse Riadh                108\n",
      "             Sousse Sidi Abdelhamid       29\n",
      "             Zaouit-Ksibat Thrayett       55\n",
      "Tataouine    Ghomrassen                    3\n",
      "             Others                        2\n",
      "             Remada                        1\n",
      "             Tataouine Nord                9\n",
      "             Tataouine Sud                 2\n",
      "Tozeur       Degache                       1\n",
      "             Nefta                         2\n",
      "             Others                        7\n",
      "             Tozeur                       36\n",
      "Tunis        Agba                         19\n",
      "             Carthage                     93\n",
      "             Centre Urbain Nord           39\n",
      "             Centre Ville - Lafayette     82\n",
      "             Cité El Khadra               18\n",
      "             Cité Olympique                2\n",
      "             Djebel Jelloud                2\n",
      "             El Kabaria                   11\n",
      "             El Omrane                     5\n",
      "             El Omrane supérieur          22\n",
      "             El Ouardia                   25\n",
      "             Ettahrir                      9\n",
      "             Ezzouhour                    19\n",
      "             Hraïria                      12\n",
      "             L'aouina                    276\n",
      "             La Goulette                  27\n",
      "             La Marsa                    572\n",
      "             Le Bardo                    103\n",
      "             Le Kram                      89\n",
      "             Manar                        49\n",
      "             Menzah                      194\n",
      "             Mutuelleville                30\n",
      "             Médina                        9\n",
      "             Others                      474\n",
      "             Sidi Bou Said                22\n",
      "             Sidi Daoud                   20\n",
      "             Sidi El Béchir               10\n",
      "             Sidi Hassine                 19\n",
      "             Séjoumi                       4\n",
      "             Tunis                       152\n",
      "Zaghouan     Bir Mchergua                  9\n",
      "             El Fahs                      16\n",
      "             En-Nadhour                    2\n",
      "             Ez-Zeriba                    14\n",
      "             Others                       44\n",
      "             Saouaf                        2\n",
      "             Zaghouan                     94\n"
     ]
    }
   ],
   "source": [
    "print(df.groupby(['city','region'])[\"region\"].count().to_string())"
   ]
  },
  {
   "cell_type": "markdown",
   "metadata": {},
   "source": [
    "The database has some deficiency in the \"region\", it must be proceed with caution.\n",
    "\n",
    "In some cities (such as Le Kef), only one sample per region could be found. Therefore, during training or testing, this could become very lethal!\n",
    "\n",
    "**Otherwise said: We hope that ***city*** could be enough to get a good place range, but, for some cities, regions aren't enough to provide a good result.**"
   ]
  },
  {
   "cell_type": "markdown",
   "metadata": {},
   "source": [
    "## Price"
   ]
  },
  {
   "cell_type": "code",
   "execution_count": 27,
   "metadata": {},
   "outputs": [
    {
     "name": "stdout",
     "output_type": "stream",
     "text": [
      "Share Count\n",
      "(89750.0, 150000.0]          1455\n",
      "(380.0, 650.0]               1306\n",
      "(9.999, 380.0]               1295\n",
      "(650.0, 1200.0]              1295\n",
      "(320000.0, 600000.0]         1274\n",
      "(24000.0, 89750.0]           1273\n",
      "(600000.0, 99999999999.0]    1260\n",
      "(1200.0, 24000.0]            1205\n",
      "(220000.0, 320000.0]         1199\n",
      "(150000.0, 220000.0]         1186\n",
      "Name: price, dtype: int64\n",
      "\n",
      "Share in %:\n",
      "(89750.0, 150000.0]          11.413555\n",
      "(380.0, 650.0]               10.244744\n",
      "(9.999, 380.0]               10.158456\n",
      "(650.0, 1200.0]              10.158456\n",
      "(320000.0, 600000.0]          9.993725\n",
      "(24000.0, 89750.0]            9.985880\n",
      "(600000.0, 99999999999.0]     9.883903\n",
      "(1200.0, 24000.0]             9.452463\n",
      "(220000.0, 320000.0]          9.405397\n",
      "(150000.0, 220000.0]          9.303420\n",
      "Name: price, dtype: float64\n"
     ]
    },
    {
     "data": {
      "image/png": "[encoded data removed]",
      "text/plain": [
       "<Figure size 576x432 with 1 Axes>"
      ]
     },
     "metadata": {
      "needs_background": "light"
     },
     "output_type": "display_data"
    }
   ],
   "source": [
    "plot_and_describe_qhist('price')"
   ]
  },
  {
   "cell_type": "code",
   "execution_count": 28,
   "metadata": {},
   "outputs": [
    {
     "data": {
      "text/plain": [
       "count    1.274800e+04\n",
       "mean     1.601575e+07\n",
       "std      1.016644e+09\n",
       "min      1.000000e+01\n",
       "25%      8.500000e+02\n",
       "50%      8.975000e+04\n",
       "75%      2.600000e+05\n",
       "max      1.000000e+11\n",
       "Name: price, dtype: float64"
      ]
     },
     "execution_count": 28,
     "metadata": {},
     "output_type": "execute_result"
    }
   ],
   "source": [
    "df.price.describe()"
   ]
  },
  {
   "cell_type": "markdown",
   "metadata": {},
   "source": [
    "Prices: (is around TND= 1/3 euros/dollars)\n",
    "- Min: 10 TND\n",
    "- Max: 10^11 TND (hmm, yes, it's a castle!)\n",
    "- average of 16 (in billions TND)\n",
    "- median of 89 (in millions TND)"
   ]
  },
  {
   "cell_type": "code",
   "execution_count": 58,
   "metadata": {},
   "outputs": [
    {
     "ename": "KeyError",
     "evalue": "'price'",
     "output_type": "error",
     "traceback": [
      "\u001b[1;31m---------------------------------------------------------------------------\u001b[0m",
      "\u001b[1;31mKeyError\u001b[0m                                  Traceback (most recent call last)",
      "\u001b[1;32m~\\AppData\\Local\\Packages\\PythonSoftwareFoundation.Python.3.9_qbz5n2kfra8p0\\LocalCache\\local-packages\\Python39\\site-packages\\pandas\\core\\indexes\\base.py\u001b[0m in \u001b[0;36mget_loc\u001b[1;34m(self, key, method, tolerance)\u001b[0m\n\u001b[0;32m   3360\u001b[0m             \u001b[1;32mtry\u001b[0m\u001b[1;33m:\u001b[0m\u001b[1;33m\u001b[0m\u001b[1;33m\u001b[0m\u001b[0m\n\u001b[1;32m-> 3361\u001b[1;33m                 \u001b[1;32mreturn\u001b[0m \u001b[0mself\u001b[0m\u001b[1;33m.\u001b[0m\u001b[0m_engine\u001b[0m\u001b[1;33m.\u001b[0m\u001b[0mget_loc\u001b[0m\u001b[1;33m(\u001b[0m\u001b[0mcasted_key\u001b[0m\u001b[1;33m)\u001b[0m\u001b[1;33m\u001b[0m\u001b[1;33m\u001b[0m\u001b[0m\n\u001b[0m\u001b[0;32m   3362\u001b[0m             \u001b[1;32mexcept\u001b[0m \u001b[0mKeyError\u001b[0m \u001b[1;32mas\u001b[0m \u001b[0merr\u001b[0m\u001b[1;33m:\u001b[0m\u001b[1;33m\u001b[0m\u001b[1;33m\u001b[0m\u001b[0m\n",
      "\u001b[1;32m~\\AppData\\Local\\Packages\\PythonSoftwareFoundation.Python.3.9_qbz5n2kfra8p0\\LocalCache\\local-packages\\Python39\\site-packages\\pandas\\_libs\\index.pyx\u001b[0m in \u001b[0;36mpandas._libs.index.IndexEngine.get_loc\u001b[1;34m()\u001b[0m\n",
      "\u001b[1;32m~\\AppData\\Local\\Packages\\PythonSoftwareFoundation.Python.3.9_qbz5n2kfra8p0\\LocalCache\\local-packages\\Python39\\site-packages\\pandas\\_libs\\index.pyx\u001b[0m in \u001b[0;36mpandas._libs.index.IndexEngine.get_loc\u001b[1;34m()\u001b[0m\n",
      "\u001b[1;32mpandas\\_libs\\hashtable_class_helper.pxi\u001b[0m in \u001b[0;36mpandas._libs.hashtable.PyObjectHashTable.get_item\u001b[1;34m()\u001b[0m\n",
      "\u001b[1;32mpandas\\_libs\\hashtable_class_helper.pxi\u001b[0m in \u001b[0;36mpandas._libs.hashtable.PyObjectHashTable.get_item\u001b[1;34m()\u001b[0m\n",
      "\u001b[1;31mKeyError\u001b[0m: 'price'",
      "\nThe above exception was the direct cause of the following exception:\n",
      "\u001b[1;31mKeyError\u001b[0m                                  Traceback (most recent call last)",
      "\u001b[1;32m~\\AppData\\Local\\Temp/ipykernel_31372/730900812.py\u001b[0m in \u001b[0;36m<module>\u001b[1;34m\u001b[0m\n\u001b[1;32m----> 1\u001b[1;33m \u001b[1;32mdel\u001b[0m \u001b[0mdf\u001b[0m\u001b[1;33m[\u001b[0m\u001b[1;34m\"price\"\u001b[0m\u001b[1;33m]\u001b[0m \u001b[1;31m#since we'll be using log price anyway (will be done after visualization)\u001b[0m\u001b[1;33m\u001b[0m\u001b[1;33m\u001b[0m\u001b[0m\n\u001b[0m",
      "\u001b[1;32m~\\AppData\\Local\\Packages\\PythonSoftwareFoundation.Python.3.9_qbz5n2kfra8p0\\LocalCache\\local-packages\\Python39\\site-packages\\pandas\\core\\generic.py\u001b[0m in \u001b[0;36m__delitem__\u001b[1;34m(self, key)\u001b[0m\n\u001b[0;32m   3961\u001b[0m             \u001b[1;31m# there was no match, this call should raise the appropriate\u001b[0m\u001b[1;33m\u001b[0m\u001b[1;33m\u001b[0m\u001b[0m\n\u001b[0;32m   3962\u001b[0m             \u001b[1;31m# exception:\u001b[0m\u001b[1;33m\u001b[0m\u001b[1;33m\u001b[0m\u001b[0m\n\u001b[1;32m-> 3963\u001b[1;33m             \u001b[0mloc\u001b[0m \u001b[1;33m=\u001b[0m \u001b[0mself\u001b[0m\u001b[1;33m.\u001b[0m\u001b[0maxes\u001b[0m\u001b[1;33m[\u001b[0m\u001b[1;33m-\u001b[0m\u001b[1;36m1\u001b[0m\u001b[1;33m]\u001b[0m\u001b[1;33m.\u001b[0m\u001b[0mget_loc\u001b[0m\u001b[1;33m(\u001b[0m\u001b[0mkey\u001b[0m\u001b[1;33m)\u001b[0m\u001b[1;33m\u001b[0m\u001b[1;33m\u001b[0m\u001b[0m\n\u001b[0m\u001b[0;32m   3964\u001b[0m             \u001b[0mself\u001b[0m\u001b[1;33m.\u001b[0m\u001b[0m_mgr\u001b[0m \u001b[1;33m=\u001b[0m \u001b[0mself\u001b[0m\u001b[1;33m.\u001b[0m\u001b[0m_mgr\u001b[0m\u001b[1;33m.\u001b[0m\u001b[0midelete\u001b[0m\u001b[1;33m(\u001b[0m\u001b[0mloc\u001b[0m\u001b[1;33m)\u001b[0m\u001b[1;33m\u001b[0m\u001b[1;33m\u001b[0m\u001b[0m\n\u001b[0;32m   3965\u001b[0m \u001b[1;33m\u001b[0m\u001b[0m\n",
      "\u001b[1;32m~\\AppData\\Local\\Packages\\PythonSoftwareFoundation.Python.3.9_qbz5n2kfra8p0\\LocalCache\\local-packages\\Python39\\site-packages\\pandas\\core\\indexes\\base.py\u001b[0m in \u001b[0;36mget_loc\u001b[1;34m(self, key, method, tolerance)\u001b[0m\n\u001b[0;32m   3361\u001b[0m                 \u001b[1;32mreturn\u001b[0m \u001b[0mself\u001b[0m\u001b[1;33m.\u001b[0m\u001b[0m_engine\u001b[0m\u001b[1;33m.\u001b[0m\u001b[0mget_loc\u001b[0m\u001b[1;33m(\u001b[0m\u001b[0mcasted_key\u001b[0m\u001b[1;33m)\u001b[0m\u001b[1;33m\u001b[0m\u001b[1;33m\u001b[0m\u001b[0m\n\u001b[0;32m   3362\u001b[0m             \u001b[1;32mexcept\u001b[0m \u001b[0mKeyError\u001b[0m \u001b[1;32mas\u001b[0m \u001b[0merr\u001b[0m\u001b[1;33m:\u001b[0m\u001b[1;33m\u001b[0m\u001b[1;33m\u001b[0m\u001b[0m\n\u001b[1;32m-> 3363\u001b[1;33m                 \u001b[1;32mraise\u001b[0m \u001b[0mKeyError\u001b[0m\u001b[1;33m(\u001b[0m\u001b[0mkey\u001b[0m\u001b[1;33m)\u001b[0m \u001b[1;32mfrom\u001b[0m \u001b[0merr\u001b[0m\u001b[1;33m\u001b[0m\u001b[1;33m\u001b[0m\u001b[0m\n\u001b[0m\u001b[0;32m   3364\u001b[0m \u001b[1;33m\u001b[0m\u001b[0m\n\u001b[0;32m   3365\u001b[0m         \u001b[1;32mif\u001b[0m \u001b[0mis_scalar\u001b[0m\u001b[1;33m(\u001b[0m\u001b[0mkey\u001b[0m\u001b[1;33m)\u001b[0m \u001b[1;32mand\u001b[0m \u001b[0misna\u001b[0m\u001b[1;33m(\u001b[0m\u001b[0mkey\u001b[0m\u001b[1;33m)\u001b[0m \u001b[1;32mand\u001b[0m \u001b[1;32mnot\u001b[0m \u001b[0mself\u001b[0m\u001b[1;33m.\u001b[0m\u001b[0mhasnans\u001b[0m\u001b[1;33m:\u001b[0m\u001b[1;33m\u001b[0m\u001b[1;33m\u001b[0m\u001b[0m\n",
      "\u001b[1;31mKeyError\u001b[0m: 'price'"
     ]
    }
   ],
   "source": [
    "del df[\"price\"] #since we'll be using log price anyway (will be done after visualization)"
   ]
  },
  {
   "cell_type": "markdown",
   "metadata": {},
   "source": [
    "# Data splitting (training/validation/test)\n",
    "split the data into training/val/test: 60/20/20"
   ]
  },
  {
   "cell_type": "code",
   "execution_count": 30,
   "metadata": {},
   "outputs": [
    {
     "data": {
      "text/html": [
       "<div>\n",
       "<style scoped>\n",
       "    .dataframe tbody tr th:only-of-type {\n",
       "        vertical-align: middle;\n",
       "    }\n",
       "\n",
       "    .dataframe tbody tr th {\n",
       "        vertical-align: top;\n",
       "    }\n",
       "\n",
       "    .dataframe thead th {\n",
       "        text-align: right;\n",
       "    }\n",
       "</style>\n",
       "<table border=\"1\" class=\"dataframe\">\n",
       "  <thead>\n",
       "    <tr style=\"text-align: right;\">\n",
       "      <th></th>\n",
       "      <th>category</th>\n",
       "      <th>room_count</th>\n",
       "      <th>bathroom_count</th>\n",
       "      <th>size</th>\n",
       "      <th>type</th>\n",
       "      <th>city</th>\n",
       "      <th>region</th>\n",
       "    </tr>\n",
       "  </thead>\n",
       "  <tbody>\n",
       "    <tr>\n",
       "      <th>0</th>\n",
       "      <td>Houses and Villas</td>\n",
       "      <td>2.0</td>\n",
       "      <td>1.0</td>\n",
       "      <td>110.0</td>\n",
       "      <td>For sale</td>\n",
       "      <td>Ben arous</td>\n",
       "      <td>Hammam Chott</td>\n",
       "    </tr>\n",
       "    <tr>\n",
       "      <th>1</th>\n",
       "      <td>Apartments</td>\n",
       "      <td>2.0</td>\n",
       "      <td>1.0</td>\n",
       "      <td>70.0</td>\n",
       "      <td>For rent</td>\n",
       "      <td>Tunis</td>\n",
       "      <td>L'aouina</td>\n",
       "    </tr>\n",
       "    <tr>\n",
       "      <th>2</th>\n",
       "      <td>Apartments</td>\n",
       "      <td>2.0</td>\n",
       "      <td>1.0</td>\n",
       "      <td>80.0</td>\n",
       "      <td>For sale</td>\n",
       "      <td>Tunis</td>\n",
       "      <td>Tunis</td>\n",
       "    </tr>\n",
       "    <tr>\n",
       "      <th>3</th>\n",
       "      <td>Land and Farms</td>\n",
       "      <td>-1.0</td>\n",
       "      <td>-1.0</td>\n",
       "      <td>-1.0</td>\n",
       "      <td>For sale</td>\n",
       "      <td>Monastir</td>\n",
       "      <td>Others</td>\n",
       "    </tr>\n",
       "    <tr>\n",
       "      <th>4</th>\n",
       "      <td>Apartments</td>\n",
       "      <td>2.0</td>\n",
       "      <td>1.0</td>\n",
       "      <td>56.0</td>\n",
       "      <td>For sale</td>\n",
       "      <td>Jendouba</td>\n",
       "      <td>Tabarka</td>\n",
       "    </tr>\n",
       "    <tr>\n",
       "      <th>...</th>\n",
       "      <td>...</td>\n",
       "      <td>...</td>\n",
       "      <td>...</td>\n",
       "      <td>...</td>\n",
       "      <td>...</td>\n",
       "      <td>...</td>\n",
       "      <td>...</td>\n",
       "    </tr>\n",
       "    <tr>\n",
       "      <th>7643</th>\n",
       "      <td>Land and Farms</td>\n",
       "      <td>-1.0</td>\n",
       "      <td>-1.0</td>\n",
       "      <td>-1.0</td>\n",
       "      <td>For sale</td>\n",
       "      <td>Sfax</td>\n",
       "      <td>Others</td>\n",
       "    </tr>\n",
       "    <tr>\n",
       "      <th>7644</th>\n",
       "      <td>Houses and Villas</td>\n",
       "      <td>1.0</td>\n",
       "      <td>8.0</td>\n",
       "      <td>84.0</td>\n",
       "      <td>For rent</td>\n",
       "      <td>Tunis</td>\n",
       "      <td>Others</td>\n",
       "    </tr>\n",
       "    <tr>\n",
       "      <th>7645</th>\n",
       "      <td>Houses and Villas</td>\n",
       "      <td>2.0</td>\n",
       "      <td>1.0</td>\n",
       "      <td>100.0</td>\n",
       "      <td>For rent</td>\n",
       "      <td>Ben arous</td>\n",
       "      <td>El Mourouj</td>\n",
       "    </tr>\n",
       "    <tr>\n",
       "      <th>7646</th>\n",
       "      <td>Land and Farms</td>\n",
       "      <td>-1.0</td>\n",
       "      <td>-1.0</td>\n",
       "      <td>-1.0</td>\n",
       "      <td>For sale</td>\n",
       "      <td>Monastir</td>\n",
       "      <td>Jemmal</td>\n",
       "    </tr>\n",
       "    <tr>\n",
       "      <th>7647</th>\n",
       "      <td>Land and Farms</td>\n",
       "      <td>-1.0</td>\n",
       "      <td>-1.0</td>\n",
       "      <td>-1.0</td>\n",
       "      <td>For sale</td>\n",
       "      <td>Ariana</td>\n",
       "      <td>Raoued</td>\n",
       "    </tr>\n",
       "  </tbody>\n",
       "</table>\n",
       "<p>7648 rows × 7 columns</p>\n",
       "</div>"
      ],
      "text/plain": [
       "               category  room_count  bathroom_count   size      type  \\\n",
       "0     Houses and Villas         2.0             1.0  110.0  For sale   \n",
       "1            Apartments         2.0             1.0   70.0  For rent   \n",
       "2            Apartments         2.0             1.0   80.0  For sale   \n",
       "3        Land and Farms        -1.0            -1.0   -1.0  For sale   \n",
       "4            Apartments         2.0             1.0   56.0  For sale   \n",
       "...                 ...         ...             ...    ...       ...   \n",
       "7643     Land and Farms        -1.0            -1.0   -1.0  For sale   \n",
       "7644  Houses and Villas         1.0             8.0   84.0  For rent   \n",
       "7645  Houses and Villas         2.0             1.0  100.0  For rent   \n",
       "7646     Land and Farms        -1.0            -1.0   -1.0  For sale   \n",
       "7647     Land and Farms        -1.0            -1.0   -1.0  For sale   \n",
       "\n",
       "           city        region  \n",
       "0     Ben arous  Hammam Chott  \n",
       "1         Tunis      L'aouina  \n",
       "2         Tunis         Tunis  \n",
       "3      Monastir        Others  \n",
       "4      Jendouba       Tabarka  \n",
       "...         ...           ...  \n",
       "7643       Sfax        Others  \n",
       "7644      Tunis        Others  \n",
       "7645  Ben arous    El Mourouj  \n",
       "7646   Monastir        Jemmal  \n",
       "7647     Ariana        Raoued  \n",
       "\n",
       "[7648 rows x 7 columns]"
      ]
     },
     "execution_count": 30,
     "metadata": {},
     "output_type": "execute_result"
    }
   ],
   "source": [
    "#split according to random state = 1\n",
    "df_trainval, df_test = train_test_split(df, test_size=0.2, random_state=1) #split train+val [80%], test [20%]\n",
    "df_train, df_val = train_test_split(df_trainval, test_size=0.25, random_state=1) #split train[60%] val [20%]\n",
    "\n",
    "#reset, drop index\n",
    "df_train = df_train.reset_index(drop=True)\n",
    "df_test = df_test.reset_index(drop=True)\n",
    "df_val = df_val.reset_index(drop=True)\n",
    "\n",
    "y_test = df_test[\"log_price\"].values\n",
    "y_train = df_train[\"log_price\"].values\n",
    "y_val = df_val[\"log_price\"].values\n",
    "\n",
    "del df_test[\"log_price\"]\n",
    "del df_train[\"log_price\"]\n",
    "del df_val[\"log_price\"]\n",
    "\n",
    "df_train"
   ]
  },
  {
   "cell_type": "markdown",
   "metadata": {},
   "source": [
    "## Check splitting"
   ]
  },
  {
   "cell_type": "code",
   "execution_count": 31,
   "metadata": {},
   "outputs": [
    {
     "name": "stdout",
     "output_type": "stream",
     "text": [
      "After splitting\n"
     ]
    },
    {
     "data": {
      "text/html": [
       "<div>\n",
       "<style scoped>\n",
       "    .dataframe tbody tr th:only-of-type {\n",
       "        vertical-align: middle;\n",
       "    }\n",
       "\n",
       "    .dataframe tbody tr th {\n",
       "        vertical-align: top;\n",
       "    }\n",
       "\n",
       "    .dataframe thead th {\n",
       "        text-align: right;\n",
       "    }\n",
       "</style>\n",
       "<table border=\"1\" class=\"dataframe\">\n",
       "  <thead>\n",
       "    <tr style=\"text-align: right;\">\n",
       "      <th></th>\n",
       "      <th>Name</th>\n",
       "      <th>Count</th>\n",
       "      <th>Percentage</th>\n",
       "      <th>log_price (median)</th>\n",
       "      <th>log_price (min)</th>\n",
       "      <th>log_price (max)</th>\n",
       "    </tr>\n",
       "  </thead>\n",
       "  <tbody>\n",
       "    <tr>\n",
       "      <th>0</th>\n",
       "      <td>Training</td>\n",
       "      <td>7648</td>\n",
       "      <td>59.993725</td>\n",
       "      <td>4.929419</td>\n",
       "      <td>1.0</td>\n",
       "      <td>10.740363</td>\n",
       "    </tr>\n",
       "    <tr>\n",
       "      <th>1</th>\n",
       "      <td>Validation</td>\n",
       "      <td>2550</td>\n",
       "      <td>20.003138</td>\n",
       "      <td>4.929419</td>\n",
       "      <td>1.0</td>\n",
       "      <td>8.698970</td>\n",
       "    </tr>\n",
       "    <tr>\n",
       "      <th>2</th>\n",
       "      <td>Test</td>\n",
       "      <td>2550</td>\n",
       "      <td>20.003138</td>\n",
       "      <td>4.975426</td>\n",
       "      <td>1.0</td>\n",
       "      <td>11.000000</td>\n",
       "    </tr>\n",
       "  </tbody>\n",
       "</table>\n",
       "</div>"
      ],
      "text/plain": [
       "         Name  Count  Percentage  log_price (median)  log_price (min)  \\\n",
       "0    Training   7648   59.993725            4.929419              1.0   \n",
       "1  Validation   2550   20.003138            4.929419              1.0   \n",
       "2        Test   2550   20.003138            4.975426              1.0   \n",
       "\n",
       "   log_price (max)  \n",
       "0        10.740363  \n",
       "1         8.698970  \n",
       "2        11.000000  "
      ]
     },
     "execution_count": 31,
     "metadata": {},
     "output_type": "execute_result"
    }
   ],
   "source": [
    "print(\"After splitting\")\n",
    "dfdesc = pd.DataFrame({ 'Name':[\"Training\",\"Validation\",\"Test\"], 'Count': [len(df_train), len(df_val), len(df_test)]})\n",
    "dfdesc[\"Percentage\"] = dfdesc[\"Count\"] *100 / len(df)\n",
    "dfdesc[\"log_price (median)\"] = [np.median(y_train),np.median(y_val),np.median(y_test)]\n",
    "dfdesc[\"log_price (min)\"] = [np.min(y_train),np.min(y_val),np.min(y_test)]\n",
    "dfdesc[\"log_price (max)\"] = [np.max(y_train),np.max(y_val),np.max(y_test)]\n",
    "dfdesc"
   ]
  },
  {
   "cell_type": "markdown",
   "metadata": {},
   "source": [
    "# Feature categorization \n"
   ]
  },
  {
   "cell_type": "code",
   "execution_count": 32,
   "metadata": {},
   "outputs": [
    {
     "name": "stdout",
     "output_type": "stream",
     "text": [
      "Total Number of features are 7, 4 are categorical and 3 are numerical\n"
     ]
    }
   ],
   "source": [
    "feat_cat = ['category','type','city','region']\n",
    "feat_num = ['room_count','bathroom_count','size']\n",
    "\n",
    "print(\"Total Number of features are %d, %d are categorical and %d are numerical\" %(len(df_train.columns),len(feat_cat), len(feat_num)))"
   ]
  },
  {
   "cell_type": "markdown",
   "metadata": {},
   "source": [
    "# Features Analysis & Feature importance "
   ]
  },
  {
   "cell_type": "markdown",
   "metadata": {},
   "source": [
    "## Features analysis"
   ]
  },
  {
   "cell_type": "markdown",
   "metadata": {},
   "source": [
    "### numerical"
   ]
  },
  {
   "cell_type": "code",
   "execution_count": 33,
   "metadata": {},
   "outputs": [
    {
     "data": {
      "text/html": [
       "<div>\n",
       "<style scoped>\n",
       "    .dataframe tbody tr th:only-of-type {\n",
       "        vertical-align: middle;\n",
       "    }\n",
       "\n",
       "    .dataframe tbody tr th {\n",
       "        vertical-align: top;\n",
       "    }\n",
       "\n",
       "    .dataframe thead th {\n",
       "        text-align: right;\n",
       "    }\n",
       "</style>\n",
       "<table border=\"1\" class=\"dataframe\">\n",
       "  <thead>\n",
       "    <tr style=\"text-align: right;\">\n",
       "      <th></th>\n",
       "      <th>room_count</th>\n",
       "      <th>bathroom_count</th>\n",
       "      <th>size</th>\n",
       "    </tr>\n",
       "  </thead>\n",
       "  <tbody>\n",
       "    <tr>\n",
       "      <th>room_count</th>\n",
       "      <td>1.000000</td>\n",
       "      <td>0.846328</td>\n",
       "      <td>0.589139</td>\n",
       "    </tr>\n",
       "    <tr>\n",
       "      <th>bathroom_count</th>\n",
       "      <td>0.846328</td>\n",
       "      <td>1.000000</td>\n",
       "      <td>0.587654</td>\n",
       "    </tr>\n",
       "    <tr>\n",
       "      <th>size</th>\n",
       "      <td>0.589139</td>\n",
       "      <td>0.587654</td>\n",
       "      <td>1.000000</td>\n",
       "    </tr>\n",
       "  </tbody>\n",
       "</table>\n",
       "</div>"
      ],
      "text/plain": [
       "                room_count  bathroom_count      size\n",
       "room_count        1.000000        0.846328  0.589139\n",
       "bathroom_count    0.846328        1.000000  0.587654\n",
       "size              0.589139        0.587654  1.000000"
      ]
     },
     "execution_count": 33,
     "metadata": {},
     "output_type": "execute_result"
    }
   ],
   "source": [
    "df_train.corr()"
   ]
  },
  {
   "cell_type": "markdown",
   "metadata": {},
   "source": [
    "Well... I mean, 84% correlation is probably ok, for 20 room and 10 bathrooms "
   ]
  },
  {
   "cell_type": "markdown",
   "metadata": {},
   "source": [
    "### categorical"
   ]
  },
  {
   "cell_type": "markdown",
   "metadata": {},
   "source": [
    "#### Category"
   ]
  },
  {
   "cell_type": "code",
   "execution_count": 34,
   "metadata": {},
   "outputs": [
    {
     "data": {
      "text/html": [
       "<div>\n",
       "<style scoped>\n",
       "    .dataframe tbody tr th:only-of-type {\n",
       "        vertical-align: middle;\n",
       "    }\n",
       "\n",
       "    .dataframe tbody tr th {\n",
       "        vertical-align: top;\n",
       "    }\n",
       "\n",
       "    .dataframe thead th {\n",
       "        text-align: right;\n",
       "    }\n",
       "</style>\n",
       "<table border=\"1\" class=\"dataframe\">\n",
       "  <thead>\n",
       "    <tr style=\"text-align: right;\">\n",
       "      <th></th>\n",
       "      <th>category</th>\n",
       "      <th>type</th>\n",
       "      <th>city</th>\n",
       "      <th>region</th>\n",
       "    </tr>\n",
       "  </thead>\n",
       "  <tbody>\n",
       "    <tr>\n",
       "      <th>category</th>\n",
       "      <td>1.453092</td>\n",
       "      <td>0.212590</td>\n",
       "      <td>0.103830</td>\n",
       "      <td>0.236970</td>\n",
       "    </tr>\n",
       "    <tr>\n",
       "      <th>type</th>\n",
       "      <td>0.212590</td>\n",
       "      <td>0.669385</td>\n",
       "      <td>0.047319</td>\n",
       "      <td>0.094936</td>\n",
       "    </tr>\n",
       "    <tr>\n",
       "      <th>city</th>\n",
       "      <td>0.103830</td>\n",
       "      <td>0.047319</td>\n",
       "      <td>2.412546</td>\n",
       "      <td>1.979448</td>\n",
       "    </tr>\n",
       "    <tr>\n",
       "      <th>region</th>\n",
       "      <td>0.236970</td>\n",
       "      <td>0.094936</td>\n",
       "      <td>1.979448</td>\n",
       "      <td>4.182949</td>\n",
       "    </tr>\n",
       "  </tbody>\n",
       "</table>\n",
       "</div>"
      ],
      "text/plain": [
       "          category      type      city    region\n",
       "category  1.453092  0.212590  0.103830  0.236970\n",
       "type      0.212590  0.669385  0.047319  0.094936\n",
       "city      0.103830  0.047319  2.412546  1.979448\n",
       "region    0.236970  0.094936  1.979448  4.182949"
      ]
     },
     "execution_count": 34,
     "metadata": {},
     "output_type": "execute_result"
    }
   ],
   "source": [
    "w = list()\n",
    "for cati in feat_cat:\n",
    "    v = list()\n",
    "    for catj in feat_cat:\n",
    "        v.append(mutual_info_score(df[cati],df[catj]))\n",
    "    w.append(v)\n",
    "pd.DataFrame(w,index=feat_cat,columns=feat_cat)"
   ]
  },
  {
   "cell_type": "markdown",
   "metadata": {},
   "source": [
    "Nothing much to say here...  I mean they should be independent from each other..."
   ]
  },
  {
   "cell_type": "markdown",
   "metadata": {},
   "source": [
    "## Feature importance"
   ]
  },
  {
   "cell_type": "markdown",
   "metadata": {},
   "source": [
    "### numerical"
   ]
  },
  {
   "cell_type": "code",
   "execution_count": 35,
   "metadata": {},
   "outputs": [
    {
     "data": {
      "text/plain": [
       "room_count        0.126714\n",
       "bathroom_count    0.207630\n",
       "size              0.074403\n",
       "dtype: float64"
      ]
     },
     "execution_count": 35,
     "metadata": {},
     "output_type": "execute_result"
    }
   ],
   "source": [
    "#num_columns\n",
    "df_train_x = df_train; #extended\n",
    "df_train_x[\"log_price\"] = y_train #return the log_price to database for a little bit!\n",
    "df_train_x[feat_num].corrwith(df_train_x.log_price).abs()\n"
   ]
  },
  {
   "cell_type": "markdown",
   "metadata": {},
   "source": [
    "well.... the price has a slope of 0.12 and 0.2 (respectively) with the room count and bathroom_count, well yeah\n",
    "But the size seems like it is not as relevant, I mean it's due to the sizing, but yes overall the room_count and bathroom_count are most important and perhaps seem to be more important than the size itself!"
   ]
  },
  {
   "cell_type": "markdown",
   "metadata": {},
   "source": [
    "### categorical\n"
   ]
  },
  {
   "cell_type": "code",
   "execution_count": 36,
   "metadata": {},
   "outputs": [
    {
     "name": "stderr",
     "output_type": "stream",
     "text": [
      "C:\\Users\\kay_t\\AppData\\Local\\Packages\\PythonSoftwareFoundation.Python.3.9_qbz5n2kfra8p0\\LocalCache\\local-packages\\Python39\\site-packages\\sklearn\\metrics\\cluster\\_supervised.py:65: UserWarning: Clustering metrics expects discrete values but received multiclass values for label, and continuous values for target\n",
      "  warnings.warn(msg, UserWarning)\n",
      "C:\\Users\\kay_t\\AppData\\Local\\Packages\\PythonSoftwareFoundation.Python.3.9_qbz5n2kfra8p0\\LocalCache\\local-packages\\Python39\\site-packages\\sklearn\\metrics\\cluster\\_supervised.py:65: UserWarning: Clustering metrics expects discrete values but received binary values for label, and continuous values for target\n",
      "  warnings.warn(msg, UserWarning)\n",
      "C:\\Users\\kay_t\\AppData\\Local\\Packages\\PythonSoftwareFoundation.Python.3.9_qbz5n2kfra8p0\\LocalCache\\local-packages\\Python39\\site-packages\\sklearn\\metrics\\cluster\\_supervised.py:65: UserWarning: Clustering metrics expects discrete values but received multiclass values for label, and continuous values for target\n",
      "  warnings.warn(msg, UserWarning)\n",
      "C:\\Users\\kay_t\\AppData\\Local\\Packages\\PythonSoftwareFoundation.Python.3.9_qbz5n2kfra8p0\\LocalCache\\local-packages\\Python39\\site-packages\\sklearn\\metrics\\cluster\\_supervised.py:65: UserWarning: Clustering metrics expects discrete values but received multiclass values for label, and continuous values for target\n",
      "  warnings.warn(msg, UserWarning)\n"
     ]
    },
    {
     "data": {
      "text/html": [
       "<div>\n",
       "<style scoped>\n",
       "    .dataframe tbody tr th:only-of-type {\n",
       "        vertical-align: middle;\n",
       "    }\n",
       "\n",
       "    .dataframe tbody tr th {\n",
       "        vertical-align: top;\n",
       "    }\n",
       "\n",
       "    .dataframe thead th {\n",
       "        text-align: right;\n",
       "    }\n",
       "</style>\n",
       "<table border=\"1\" class=\"dataframe\">\n",
       "  <thead>\n",
       "    <tr style=\"text-align: right;\">\n",
       "      <th></th>\n",
       "      <th>price (log)</th>\n",
       "    </tr>\n",
       "  </thead>\n",
       "  <tbody>\n",
       "    <tr>\n",
       "      <th>category</th>\n",
       "      <td>0.539796</td>\n",
       "    </tr>\n",
       "    <tr>\n",
       "      <th>type</th>\n",
       "      <td>0.648045</td>\n",
       "    </tr>\n",
       "    <tr>\n",
       "      <th>city</th>\n",
       "      <td>0.649260</td>\n",
       "    </tr>\n",
       "    <tr>\n",
       "      <th>region</th>\n",
       "      <td>1.659293</td>\n",
       "    </tr>\n",
       "  </tbody>\n",
       "</table>\n",
       "</div>"
      ],
      "text/plain": [
       "          price (log)\n",
       "category     0.539796\n",
       "type         0.648045\n",
       "city         0.649260\n",
       "region       1.659293"
      ]
     },
     "execution_count": 36,
     "metadata": {},
     "output_type": "execute_result"
    },
    {
     "data": {
      "image/png": "[encoded data removed]",
      "text/plain": [
       "<Figure size 432x288 with 1 Axes>"
      ]
     },
     "metadata": {
      "needs_background": "light"
     },
     "output_type": "display_data"
    }
   ],
   "source": [
    "v= list()\n",
    "for cati in feat_cat:\n",
    "   v.append(mutual_info_score(df_train[cati], y_train))\n",
    "cat_data_analy = pd.DataFrame(v,index= feat_cat,columns = ['price (log)'])\n",
    "\n",
    "cat_data_analy.plot.bar()\n",
    "cat_data_analy"
   ]
  },
  {
   "cell_type": "markdown",
   "metadata": {},
   "source": [
    "in general, city-region, then the type impact the price. However, it's seen that category seems to be as important as the random classifier. Does this mean that category is not influencing the price much? "
   ]
  },
  {
   "cell_type": "markdown",
   "metadata": {},
   "source": [
    "# Regression part"
   ]
  },
  {
   "cell_type": "code",
   "execution_count": 37,
   "metadata": {},
   "outputs": [],
   "source": [
    "from sklearn.pipeline import Pipeline\n",
    "\n",
    "#transformers\n",
    "from sklearn.compose import ColumnTransformer\n",
    "from sklearn.feature_extraction.text import CountVectorizer\n",
    "from sklearn.preprocessing import OneHotEncoder\n",
    "from sklearn.preprocessing import StandardScaler, RobustScaler\n",
    "\n",
    "\n",
    "#models\n",
    "from sklearn.linear_model import LinearRegression\n",
    "from sklearn.svm import SVR\n",
    "from sklearn.tree import DecisionTreeRegressor\n",
    "from sklearn.ensemble import RandomForestRegressor\n",
    "from sklearn.linear_model import ElasticNet\n",
    "from sklearn.ensemble import GradientBoostingRegressor\n",
    "#from sklearn.ensemble import StackingRegressor\n"
   ]
  },
  {
   "cell_type": "markdown",
   "metadata": {},
   "source": [
    "### Transformation"
   ]
  },
  {
   "cell_type": "code",
   "execution_count": 129,
   "metadata": {},
   "outputs": [],
   "source": [
    "transformations = [\n",
    "    #('numerical', 'passthrough', feat_num),\n",
    "    #('Scal_num', StandardScaler() , feat_num),\n",
    "    ('Scal_num', RobustScaler() , feat_num),\n",
    "    ('categorical', OneHotEncoder(dtype=np.int32,handle_unknown = 'ignore'), feat_cat)\n",
    "]\n",
    "\n",
    "transf = ColumnTransformer(transformations, remainder='drop')\n",
    "\n",
    "## comment for future me or future something looking for how to get things done by counting keywords into a string\n",
    "# ('transf_name', CountVectorizer(token_pattern='.*', min_df=50, dtype='int32'), 'feature_name'),"
   ]
  },
  {
   "cell_type": "markdown",
   "metadata": {},
   "source": [
    "Robust scaler performed better than standard scaler and no scaler at all"
   ]
  },
  {
   "cell_type": "code",
   "execution_count": 118,
   "metadata": {},
   "outputs": [],
   "source": [
    "transf.fit(df_train)\n",
    "X = transf.transform(df_train)"
   ]
  },
  {
   "cell_type": "markdown",
   "metadata": {},
   "source": [
    "### Regression"
   ]
  },
  {
   "cell_type": "code",
   "execution_count": 135,
   "metadata": {},
   "outputs": [],
   "source": [
    "def rmse(v):\n",
    "    return np.sqrt(np.mean(v**2))\n",
    "\n",
    "def eval_method(y_train,y_val,predictor,method_name):\n",
    "    print(method_name)\n",
    "    df_reg_res[method_name] = [rmse(y_train -  predictor(df_train)), rmse(y_val - predictor(df_val))]\n",
    "    print('\\tTraining RMSE: %2.3f ' % rmse(y_train -  predictor(df_train)))\n",
    "    print('\\tValidation RMSE: %2.3f ' % rmse(y_val - predictor(df_val)))\n",
    "\n",
    "def eval_method_noadd(y_train,y_val,predictor):\n",
    "   return [rmse(y_train -  predictor(df_train)), rmse(y_val - predictor(df_val))]\n"
   ]
  },
  {
   "cell_type": "code",
   "execution_count": 136,
   "metadata": {},
   "outputs": [
    {
     "data": {
      "text/html": [
       "<div>\n",
       "<style scoped>\n",
       "    .dataframe tbody tr th:only-of-type {\n",
       "        vertical-align: middle;\n",
       "    }\n",
       "\n",
       "    .dataframe tbody tr th {\n",
       "        vertical-align: top;\n",
       "    }\n",
       "\n",
       "    .dataframe thead th {\n",
       "        text-align: right;\n",
       "    }\n",
       "</style>\n",
       "<table border=\"1\" class=\"dataframe\">\n",
       "  <thead>\n",
       "    <tr style=\"text-align: right;\">\n",
       "      <th></th>\n",
       "    </tr>\n",
       "  </thead>\n",
       "  <tbody>\n",
       "    <tr>\n",
       "      <th>train</th>\n",
       "    </tr>\n",
       "    <tr>\n",
       "      <th>val</th>\n",
       "    </tr>\n",
       "  </tbody>\n",
       "</table>\n",
       "</div>"
      ],
      "text/plain": [
       "Empty DataFrame\n",
       "Columns: []\n",
       "Index: [(train,), (val,)]"
      ]
     },
     "execution_count": 136,
     "metadata": {},
     "output_type": "execute_result"
    }
   ],
   "source": [
    "df_reg_res = pd.DataFrame(index=[['train','val']])\n",
    "df_reg_res"
   ]
  },
  {
   "cell_type": "markdown",
   "metadata": {},
   "source": [
    "#### linear regression"
   ]
  },
  {
   "cell_type": "code",
   "execution_count": 137,
   "metadata": {},
   "outputs": [],
   "source": [
    "pipeline_linear_regression = Pipeline([\n",
    "    ('transformer', transf),\n",
    "    ('lr', LinearRegression())\n",
    "])"
   ]
  },
  {
   "cell_type": "code",
   "execution_count": 138,
   "metadata": {},
   "outputs": [
    {
     "data": {
      "text/plain": [
       "Pipeline(steps=[('transformer',\n",
       "                 ColumnTransformer(transformers=[('Scal_num', RobustScaler(),\n",
       "                                                  ['room_count',\n",
       "                                                   'bathroom_count', 'size']),\n",
       "                                                 ('categorical',\n",
       "                                                  OneHotEncoder(dtype=<class 'numpy.int32'>,\n",
       "                                                                handle_unknown='ignore'),\n",
       "                                                  ['category', 'type', 'city',\n",
       "                                                   'region'])])),\n",
       "                ('lr', LinearRegression())])"
      ]
     },
     "execution_count": 138,
     "metadata": {},
     "output_type": "execute_result"
    }
   ],
   "source": [
    "pipeline_linear_regression.fit(df_train, y_train)"
   ]
  },
  {
   "cell_type": "code",
   "execution_count": 139,
   "metadata": {},
   "outputs": [
    {
     "name": "stdout",
     "output_type": "stream",
     "text": [
      "LinearRegression-default\n",
      "\tTraining RMSE: 0.522 \n",
      "\tValidation RMSE: 0.560 \n"
     ]
    }
   ],
   "source": [
    "eval_method(y_train,y_val,pipeline_linear_regression.predict,'LinearRegression-default')"
   ]
  },
  {
   "cell_type": "markdown",
   "metadata": {},
   "source": [
    "#### Support Vector Machine"
   ]
  },
  {
   "cell_type": "code",
   "execution_count": 141,
   "metadata": {},
   "outputs": [
    {
     "name": "stdout",
     "output_type": "stream",
     "text": [
      "SVR-default\n",
      "\tTraining RMSE: 0.502 \n",
      "\tValidation RMSE: 0.545 \n"
     ]
    },
    {
     "data": {
      "text/html": [
       "<div>\n",
       "<style scoped>\n",
       "    .dataframe tbody tr th:only-of-type {\n",
       "        vertical-align: middle;\n",
       "    }\n",
       "\n",
       "    .dataframe tbody tr th {\n",
       "        vertical-align: top;\n",
       "    }\n",
       "\n",
       "    .dataframe thead th {\n",
       "        text-align: right;\n",
       "    }\n",
       "</style>\n",
       "<table border=\"1\" class=\"dataframe\">\n",
       "  <thead>\n",
       "    <tr style=\"text-align: right;\">\n",
       "      <th></th>\n",
       "      <th>LinearRegression-default</th>\n",
       "      <th>SVR-default</th>\n",
       "    </tr>\n",
       "  </thead>\n",
       "  <tbody>\n",
       "    <tr>\n",
       "      <th>train</th>\n",
       "      <td>0.522273</td>\n",
       "      <td>0.502043</td>\n",
       "    </tr>\n",
       "    <tr>\n",
       "      <th>val</th>\n",
       "      <td>0.559898</td>\n",
       "      <td>0.545259</td>\n",
       "    </tr>\n",
       "  </tbody>\n",
       "</table>\n",
       "</div>"
      ],
      "text/plain": [
       "       LinearRegression-default  SVR-default\n",
       "train                  0.522273     0.502043\n",
       "val                    0.559898     0.545259"
      ]
     },
     "execution_count": 141,
     "metadata": {},
     "output_type": "execute_result"
    }
   ],
   "source": [
    "pipe_svr = Pipeline([\n",
    "    ('transformer', transf),\n",
    "    ('svr', SVR())\n",
    "])\n",
    "pipe_svr.fit(df_train, y_train)\n",
    "eval_method(y_train,y_val,pipe_svr.predict,'SVR-default')\n",
    "df_reg_res"
   ]
  },
  {
   "cell_type": "markdown",
   "metadata": {},
   "source": [
    "##### Let's do some trial-and-error parameter tuning\n",
    "Here I'll be tuning the parameter, then the best will be added to the summary table.\n",
    "\n",
    "SVR can have the C (1/lambda) and epsilon parameters tuned"
   ]
  },
  {
   "cell_type": "code",
   "execution_count": 142,
   "metadata": {},
   "outputs": [],
   "source": [
    "svr_df = pd.DataFrame(columns=[['c','eps','train','val']])\n",
    "for c in [0.1, 0.5, 0.8, 0.9, 1, 1.1 ,10]:\n",
    "    for epsi in [0.09, 0.1, 0.11, 0.15, 0.2, 0.5,0.01]:\n",
    "        pipe_svr_test = Pipeline([\n",
    "         ('transformer', transf),\n",
    "        ('svr', SVR(C=c, epsilon = epsi))\n",
    "    ])\n",
    "        pipe_svr_test.fit(df_train, y_train)\n",
    "        v = eval_method_noadd(y_train,y_val,pipe_svr_test.predict)\n",
    "        svr_df=svr_df.append({'c':c,'eps':epsi,'train':v[0],'val':v[1]},ignore_index=True)"
   ]
  },
  {
   "cell_type": "code",
   "execution_count": 143,
   "metadata": {},
   "outputs": [
    {
     "data": {
      "text/plain": [
       "<AxesSubplot:xlabel='None-eps', ylabel='c'>"
      ]
     },
     "execution_count": 143,
     "metadata": {},
     "output_type": "execute_result"
    },
    {
     "data": {
      "image/png": "[encoded data removed]",
      "text/plain": [
       "<Figure size 720x720 with 2 Axes>"
      ]
     },
     "metadata": {
      "needs_background": "light"
     },
     "output_type": "display_data"
    }
   ],
   "source": [
    "fig, ax = plt.subplots(figsize=(10,10))         # Sample figsize in inches\n",
    "svr_df_piv = svr_df.pivot(index='c', columns=['eps'], values=[\"val\"])\n",
    "sns.heatmap(svr_df_piv, annot=True, fmt=\".5f\",ax=ax,cmap=\"YlGnBu\")\n",
    "#df_linclf_th007_pivot = df_linclf_th007.pivot(index='C', columns=['maxit'], values=['auc'])\n",
    "# sns.heatmap(df_linclf_th007_pivot, annot=True, fmt=\".5f\")"
   ]
  },
  {
   "cell_type": "code",
   "execution_count": 144,
   "metadata": {},
   "outputs": [
    {
     "name": "stdout",
     "output_type": "stream",
     "text": [
      "SVR-C0.9eps0.15\n",
      "\tTraining RMSE: 0.503 \n",
      "\tValidation RMSE: 0.545 \n"
     ]
    }
   ],
   "source": [
    "pipe_svr = Pipeline([\n",
    "    ('transformer', transf),\n",
    "    ('svr', SVR(C=0.9,epsilon=0.15))\n",
    "])\n",
    "pipe_svr.fit(df_train, y_train)\n",
    "eval_method(y_train,y_val,pipe_svr.predict,'SVR-C0.9eps0.15')"
   ]
  },
  {
   "cell_type": "markdown",
   "metadata": {},
   "source": [
    "#### Decision Tree Regressor"
   ]
  },
  {
   "cell_type": "code",
   "execution_count": 145,
   "metadata": {},
   "outputs": [
    {
     "name": "stdout",
     "output_type": "stream",
     "text": [
      "DT-default\n",
      "\tTraining RMSE: 0.344 \n",
      "\tValidation RMSE: 0.655 \n"
     ]
    },
    {
     "data": {
      "text/html": [
       "<div>\n",
       "<style scoped>\n",
       "    .dataframe tbody tr th:only-of-type {\n",
       "        vertical-align: middle;\n",
       "    }\n",
       "\n",
       "    .dataframe tbody tr th {\n",
       "        vertical-align: top;\n",
       "    }\n",
       "\n",
       "    .dataframe thead th {\n",
       "        text-align: right;\n",
       "    }\n",
       "</style>\n",
       "<table border=\"1\" class=\"dataframe\">\n",
       "  <thead>\n",
       "    <tr style=\"text-align: right;\">\n",
       "      <th></th>\n",
       "      <th>LinearRegression-default</th>\n",
       "      <th>SVR-default</th>\n",
       "      <th>SVR-C0.9eps0.15</th>\n",
       "      <th>DT-default</th>\n",
       "    </tr>\n",
       "  </thead>\n",
       "  <tbody>\n",
       "    <tr>\n",
       "      <th>train</th>\n",
       "      <td>0.522273</td>\n",
       "      <td>0.502043</td>\n",
       "      <td>0.502613</td>\n",
       "      <td>0.344086</td>\n",
       "    </tr>\n",
       "    <tr>\n",
       "      <th>val</th>\n",
       "      <td>0.559898</td>\n",
       "      <td>0.545259</td>\n",
       "      <td>0.545021</td>\n",
       "      <td>0.655376</td>\n",
       "    </tr>\n",
       "  </tbody>\n",
       "</table>\n",
       "</div>"
      ],
      "text/plain": [
       "       LinearRegression-default  SVR-default  SVR-C0.9eps0.15  DT-default\n",
       "train                  0.522273     0.502043         0.502613    0.344086\n",
       "val                    0.559898     0.545259         0.545021    0.655376"
      ]
     },
     "execution_count": 145,
     "metadata": {},
     "output_type": "execute_result"
    }
   ],
   "source": [
    "# speed run with default vals\n",
    "pipeline = Pipeline([\n",
    "    ('transformer', transf),\n",
    "    ('dt', DecisionTreeRegressor())\n",
    "])\n",
    "pipeline.fit(df_train, y_train)\n",
    "eval_method(y_train,y_val,pipeline.predict,'DT-default')\n",
    "df_reg_res\n"
   ]
  },
  {
   "cell_type": "code",
   "execution_count": 146,
   "metadata": {},
   "outputs": [],
   "source": [
    "dt_df = pd.DataFrame(columns=[['maxdep','train','val']])\n",
    "for maxd in np.arange(1,100):\n",
    "        pipe_dt_test = Pipeline([\n",
    "         ('transformer', transf),\n",
    "        ('dt', DecisionTreeRegressor(max_depth=maxd))\n",
    "    ])\n",
    "        pipe_dt_test.fit(df_train, y_train)\n",
    "        v = eval_method_noadd(y_train,y_val,pipe_dt_test.predict)\n",
    "        dt_df=dt_df.append({'maxdep':maxd,'train':v[0],'val':v[1]},ignore_index=True)"
   ]
  },
  {
   "cell_type": "code",
   "execution_count": 147,
   "metadata": {},
   "outputs": [
    {
     "data": {
      "image/png": "[encoded data removed]",
      "text/plain": [
       "<Figure size 432x288 with 1 Axes>"
      ]
     },
     "metadata": {
      "needs_background": "light"
     },
     "output_type": "display_data"
    }
   ],
   "source": [
    "plt.plot(dt_df.maxdep,dt_df.val,'x-')\n",
    "plt.xlabel('Max Depth')\n",
    "plt.ylabel('Validation RMSE')\n",
    "plt.grid(True)\n",
    "plt.box(True)"
   ]
  },
  {
   "cell_type": "code",
   "execution_count": 148,
   "metadata": {},
   "outputs": [
    {
     "name": "stdout",
     "output_type": "stream",
     "text": [
      "DT-maxdep3\n",
      "\tTraining RMSE: 0.563 \n",
      "\tValidation RMSE: 0.565 \n"
     ]
    },
    {
     "data": {
      "text/html": [
       "<div>\n",
       "<style scoped>\n",
       "    .dataframe tbody tr th:only-of-type {\n",
       "        vertical-align: middle;\n",
       "    }\n",
       "\n",
       "    .dataframe tbody tr th {\n",
       "        vertical-align: top;\n",
       "    }\n",
       "\n",
       "    .dataframe thead th {\n",
       "        text-align: right;\n",
       "    }\n",
       "</style>\n",
       "<table border=\"1\" class=\"dataframe\">\n",
       "  <thead>\n",
       "    <tr style=\"text-align: right;\">\n",
       "      <th></th>\n",
       "      <th>LinearRegression-default</th>\n",
       "      <th>SVR-default</th>\n",
       "      <th>SVR-C0.9eps0.15</th>\n",
       "      <th>DT-default</th>\n",
       "      <th>DT-maxdep3</th>\n",
       "    </tr>\n",
       "  </thead>\n",
       "  <tbody>\n",
       "    <tr>\n",
       "      <th>train</th>\n",
       "      <td>0.522273</td>\n",
       "      <td>0.502043</td>\n",
       "      <td>0.502613</td>\n",
       "      <td>0.344086</td>\n",
       "      <td>0.562987</td>\n",
       "    </tr>\n",
       "    <tr>\n",
       "      <th>val</th>\n",
       "      <td>0.559898</td>\n",
       "      <td>0.545259</td>\n",
       "      <td>0.545021</td>\n",
       "      <td>0.655376</td>\n",
       "      <td>0.564742</td>\n",
       "    </tr>\n",
       "  </tbody>\n",
       "</table>\n",
       "</div>"
      ],
      "text/plain": [
       "       LinearRegression-default  SVR-default  SVR-C0.9eps0.15  DT-default  \\\n",
       "train                  0.522273     0.502043         0.502613    0.344086   \n",
       "val                    0.559898     0.545259         0.545021    0.655376   \n",
       "\n",
       "       DT-maxdep3  \n",
       "train    0.562987  \n",
       "val      0.564742  "
      ]
     },
     "execution_count": 148,
     "metadata": {},
     "output_type": "execute_result"
    }
   ],
   "source": [
    "# speed run with default vals\n",
    "pipeline = Pipeline([\n",
    "    ('transformer', transf),\n",
    "    ('dt', DecisionTreeRegressor(max_depth=3))\n",
    "])\n",
    "pipeline.fit(df_train, y_train)\n",
    "eval_method(y_train,y_val,pipeline.predict,'DT-maxdep3')\n",
    "df_reg_res\n"
   ]
  },
  {
   "cell_type": "markdown",
   "metadata": {},
   "source": [
    "#### Random Forest"
   ]
  },
  {
   "cell_type": "code",
   "execution_count": 149,
   "metadata": {},
   "outputs": [
    {
     "name": "stdout",
     "output_type": "stream",
     "text": [
      "RF-default\n",
      "\tTraining RMSE: 0.373 \n",
      "\tValidation RMSE: 0.564 \n"
     ]
    },
    {
     "data": {
      "text/html": [
       "<div>\n",
       "<style scoped>\n",
       "    .dataframe tbody tr th:only-of-type {\n",
       "        vertical-align: middle;\n",
       "    }\n",
       "\n",
       "    .dataframe tbody tr th {\n",
       "        vertical-align: top;\n",
       "    }\n",
       "\n",
       "    .dataframe thead th {\n",
       "        text-align: right;\n",
       "    }\n",
       "</style>\n",
       "<table border=\"1\" class=\"dataframe\">\n",
       "  <thead>\n",
       "    <tr style=\"text-align: right;\">\n",
       "      <th></th>\n",
       "      <th>LinearRegression-default</th>\n",
       "      <th>SVR-default</th>\n",
       "      <th>SVR-C0.9eps0.15</th>\n",
       "      <th>DT-default</th>\n",
       "      <th>DT-maxdep3</th>\n",
       "      <th>RF-default</th>\n",
       "    </tr>\n",
       "  </thead>\n",
       "  <tbody>\n",
       "    <tr>\n",
       "      <th>train</th>\n",
       "      <td>0.522273</td>\n",
       "      <td>0.502043</td>\n",
       "      <td>0.502613</td>\n",
       "      <td>0.344086</td>\n",
       "      <td>0.562987</td>\n",
       "      <td>0.372921</td>\n",
       "    </tr>\n",
       "    <tr>\n",
       "      <th>val</th>\n",
       "      <td>0.559898</td>\n",
       "      <td>0.545259</td>\n",
       "      <td>0.545021</td>\n",
       "      <td>0.655376</td>\n",
       "      <td>0.564742</td>\n",
       "      <td>0.564084</td>\n",
       "    </tr>\n",
       "  </tbody>\n",
       "</table>\n",
       "</div>"
      ],
      "text/plain": [
       "       LinearRegression-default  SVR-default  SVR-C0.9eps0.15  DT-default  \\\n",
       "train                  0.522273     0.502043         0.502613    0.344086   \n",
       "val                    0.559898     0.545259         0.545021    0.655376   \n",
       "\n",
       "       DT-maxdep3  RF-default  \n",
       "train    0.562987    0.372921  \n",
       "val      0.564742    0.564084  "
      ]
     },
     "execution_count": 149,
     "metadata": {},
     "output_type": "execute_result"
    }
   ],
   "source": [
    "# test run with default vals\n",
    "pipeline_rfr_regression = Pipeline([\n",
    "    ('transformer', transf),\n",
    "    ('rfr', RandomForestRegressor())\n",
    "])\n",
    "pipeline_rfr_regression.fit(df_train, y_train)\n",
    "eval_method(y_train,y_val,pipeline_rfr_regression.predict,'RF-default')\n",
    "df_reg_res\n"
   ]
  },
  {
   "cell_type": "code",
   "execution_count": 172,
   "metadata": {},
   "outputs": [
    {
     "data": {
      "text/html": [
       "<div>\n",
       "<style scoped>\n",
       "    .dataframe tbody tr th:only-of-type {\n",
       "        vertical-align: middle;\n",
       "    }\n",
       "\n",
       "    .dataframe tbody tr th {\n",
       "        vertical-align: top;\n",
       "    }\n",
       "\n",
       "    .dataframe thead th {\n",
       "        text-align: right;\n",
       "    }\n",
       "</style>\n",
       "<table border=\"1\" class=\"dataframe\">\n",
       "  <thead>\n",
       "    <tr style=\"text-align: right;\">\n",
       "      <th></th>\n",
       "      <th>nestim</th>\n",
       "      <th>maxdepth</th>\n",
       "      <th>train</th>\n",
       "      <th>val</th>\n",
       "    </tr>\n",
       "  </thead>\n",
       "  <tbody>\n",
       "    <tr>\n",
       "      <th>0</th>\n",
       "      <td>1.0</td>\n",
       "      <td>1.0</td>\n",
       "      <td>0.461862</td>\n",
       "      <td>0.647106</td>\n",
       "    </tr>\n",
       "    <tr>\n",
       "      <th>1</th>\n",
       "      <td>2.0</td>\n",
       "      <td>1.0</td>\n",
       "      <td>0.423888</td>\n",
       "      <td>0.612756</td>\n",
       "    </tr>\n",
       "    <tr>\n",
       "      <th>2</th>\n",
       "      <td>10.0</td>\n",
       "      <td>1.0</td>\n",
       "      <td>0.384225</td>\n",
       "      <td>0.570676</td>\n",
       "    </tr>\n",
       "    <tr>\n",
       "      <th>3</th>\n",
       "      <td>20.0</td>\n",
       "      <td>1.0</td>\n",
       "      <td>0.377744</td>\n",
       "      <td>0.566398</td>\n",
       "    </tr>\n",
       "    <tr>\n",
       "      <th>4</th>\n",
       "      <td>30.0</td>\n",
       "      <td>1.0</td>\n",
       "      <td>0.375506</td>\n",
       "      <td>0.568533</td>\n",
       "    </tr>\n",
       "    <tr>\n",
       "      <th>...</th>\n",
       "      <td>...</td>\n",
       "      <td>...</td>\n",
       "      <td>...</td>\n",
       "      <td>...</td>\n",
       "    </tr>\n",
       "    <tr>\n",
       "      <th>99</th>\n",
       "      <td>35.0</td>\n",
       "      <td>100.0</td>\n",
       "      <td>0.374632</td>\n",
       "      <td>0.565864</td>\n",
       "    </tr>\n",
       "    <tr>\n",
       "      <th>100</th>\n",
       "      <td>37.0</td>\n",
       "      <td>100.0</td>\n",
       "      <td>0.373689</td>\n",
       "      <td>0.562470</td>\n",
       "    </tr>\n",
       "    <tr>\n",
       "      <th>101</th>\n",
       "      <td>40.0</td>\n",
       "      <td>100.0</td>\n",
       "      <td>0.376303</td>\n",
       "      <td>0.563481</td>\n",
       "    </tr>\n",
       "    <tr>\n",
       "      <th>102</th>\n",
       "      <td>50.0</td>\n",
       "      <td>100.0</td>\n",
       "      <td>0.374570</td>\n",
       "      <td>0.561603</td>\n",
       "    </tr>\n",
       "    <tr>\n",
       "      <th>103</th>\n",
       "      <td>100.0</td>\n",
       "      <td>100.0</td>\n",
       "      <td>0.372467</td>\n",
       "      <td>0.560070</td>\n",
       "    </tr>\n",
       "  </tbody>\n",
       "</table>\n",
       "<p>104 rows × 4 columns</p>\n",
       "</div>"
      ],
      "text/plain": [
       "     nestim  maxdepth     train       val\n",
       "0       1.0       1.0  0.461862  0.647106\n",
       "1       2.0       1.0  0.423888  0.612756\n",
       "2      10.0       1.0  0.384225  0.570676\n",
       "3      20.0       1.0  0.377744  0.566398\n",
       "4      30.0       1.0  0.375506  0.568533\n",
       "..      ...       ...       ...       ...\n",
       "99     35.0     100.0  0.374632  0.565864\n",
       "100    37.0     100.0  0.373689  0.562470\n",
       "101    40.0     100.0  0.376303  0.563481\n",
       "102    50.0     100.0  0.374570  0.561603\n",
       "103   100.0     100.0  0.372467  0.560070\n",
       "\n",
       "[104 rows x 4 columns]"
      ]
     },
     "execution_count": 172,
     "metadata": {},
     "output_type": "execute_result"
    }
   ],
   "source": [
    "df_rf = pd.DataFrame(columns=['nestim','maxdepth','train','val'])\n",
    "for max_dep in [1,5,10,15,20,25,50,100]:\n",
    "        for n_est in [1,2,10,20,30,31,33,34,35,37,40,50,100]:\n",
    "                pipe_dt_test = Pipeline([\n",
    "                ('transformer', transf),\n",
    "                ('dt', RandomForestRegressor(max_depth=maxd,n_estimators=n_est))\n",
    "        ])\n",
    "                pipe_dt_test.fit(df_train, y_train)\n",
    "                v = eval_method_noadd(y_train,y_val,pipe_dt_test.predict)\n",
    "                df_rf=df_rf.append({'nestim': n_est, 'maxdepth':max_dep,'train':v[0],'val':v[1]},ignore_index=True)\n",
    "\n",
    "               \n",
    "df_rf                "
   ]
  },
  {
   "cell_type": "code",
   "execution_count": 173,
   "metadata": {},
   "outputs": [
    {
     "data": {
      "text/plain": [
       "<AxesSubplot:xlabel='None-maxdepth', ylabel='nestim'>"
      ]
     },
     "execution_count": 173,
     "metadata": {},
     "output_type": "execute_result"
    },
    {
     "data": {
      "image/png": "[encoded data removed]",
      "text/plain": [
       "<Figure size 1440x1440 with 2 Axes>"
      ]
     },
     "metadata": {
      "needs_background": "light"
     },
     "output_type": "display_data"
    }
   ],
   "source": [
    "plt.figure(figsize=(20,20))\n",
    "df_rf_pivot = df_rf.pivot(index='nestim', columns=['maxdepth'], values=['val'])\n",
    "sns.heatmap(df_rf_pivot, annot=True, fmt=\".5f\",cmap=\"YlGnBu\")"
   ]
  },
  {
   "cell_type": "code",
   "execution_count": 176,
   "metadata": {},
   "outputs": [
    {
     "name": "stdout",
     "output_type": "stream",
     "text": [
      "RF-madep5nest31\n",
      "\tTraining RMSE: 0.529 \n",
      "\tValidation RMSE: 0.559 \n"
     ]
    },
    {
     "data": {
      "text/html": [
       "<div>\n",
       "<style scoped>\n",
       "    .dataframe tbody tr th:only-of-type {\n",
       "        vertical-align: middle;\n",
       "    }\n",
       "\n",
       "    .dataframe tbody tr th {\n",
       "        vertical-align: top;\n",
       "    }\n",
       "\n",
       "    .dataframe thead th {\n",
       "        text-align: right;\n",
       "    }\n",
       "</style>\n",
       "<table border=\"1\" class=\"dataframe\">\n",
       "  <thead>\n",
       "    <tr style=\"text-align: right;\">\n",
       "      <th></th>\n",
       "      <th>LinearRegression-default</th>\n",
       "      <th>SVR-default</th>\n",
       "      <th>SVR-C0.9eps0.15</th>\n",
       "      <th>DT-default</th>\n",
       "      <th>DT-maxdep3</th>\n",
       "      <th>RF-default</th>\n",
       "      <th>RF-madep5nest34</th>\n",
       "      <th>RF-madep2nest89</th>\n",
       "      <th>RF-madep5nest31</th>\n",
       "    </tr>\n",
       "  </thead>\n",
       "  <tbody>\n",
       "    <tr>\n",
       "      <th>train</th>\n",
       "      <td>0.522273</td>\n",
       "      <td>0.502043</td>\n",
       "      <td>0.502613</td>\n",
       "      <td>0.344086</td>\n",
       "      <td>0.562987</td>\n",
       "      <td>0.372921</td>\n",
       "      <td>0.528873</td>\n",
       "      <td>0.573620</td>\n",
       "      <td>0.529143</td>\n",
       "    </tr>\n",
       "    <tr>\n",
       "      <th>val</th>\n",
       "      <td>0.559898</td>\n",
       "      <td>0.545259</td>\n",
       "      <td>0.545021</td>\n",
       "      <td>0.655376</td>\n",
       "      <td>0.564742</td>\n",
       "      <td>0.564084</td>\n",
       "      <td>0.557415</td>\n",
       "      <td>0.574794</td>\n",
       "      <td>0.558589</td>\n",
       "    </tr>\n",
       "  </tbody>\n",
       "</table>\n",
       "</div>"
      ],
      "text/plain": [
       "       LinearRegression-default  SVR-default  SVR-C0.9eps0.15  DT-default  \\\n",
       "train                  0.522273     0.502043         0.502613    0.344086   \n",
       "val                    0.559898     0.545259         0.545021    0.655376   \n",
       "\n",
       "       DT-maxdep3  RF-default  RF-madep5nest34  RF-madep2nest89  \\\n",
       "train    0.562987    0.372921         0.528873         0.573620   \n",
       "val      0.564742    0.564084         0.557415         0.574794   \n",
       "\n",
       "       RF-madep5nest31  \n",
       "train         0.529143  \n",
       "val           0.558589  "
      ]
     },
     "execution_count": 176,
     "metadata": {},
     "output_type": "execute_result"
    }
   ],
   "source": [
    "# test run with default vals\n",
    "pipeline_rfr_regression = Pipeline([\n",
    "    ('transformer', transf),\n",
    "    ('rfr', RandomForestRegressor(max_depth=5, n_estimators=31))\n",
    "])\n",
    "pipeline_rfr_regression.fit(df_train, y_train)\n",
    "eval_method(y_train,y_val,pipeline_rfr_regression.predict,'RF-madep5nest31')\n",
    "df_reg_res\n"
   ]
  },
  {
   "cell_type": "markdown",
   "metadata": {},
   "source": [
    "#### elasticNet"
   ]
  },
  {
   "cell_type": "code",
   "execution_count": 179,
   "metadata": {},
   "outputs": [
    {
     "name": "stdout",
     "output_type": "stream",
     "text": [
      "EN-default\n",
      "\tTraining RMSE: 1.293 \n",
      "\tValidation RMSE: 1.278 \n"
     ]
    },
    {
     "data": {
      "text/html": [
       "<div>\n",
       "<style scoped>\n",
       "    .dataframe tbody tr th:only-of-type {\n",
       "        vertical-align: middle;\n",
       "    }\n",
       "\n",
       "    .dataframe tbody tr th {\n",
       "        vertical-align: top;\n",
       "    }\n",
       "\n",
       "    .dataframe thead th {\n",
       "        text-align: right;\n",
       "    }\n",
       "</style>\n",
       "<table border=\"1\" class=\"dataframe\">\n",
       "  <thead>\n",
       "    <tr style=\"text-align: right;\">\n",
       "      <th></th>\n",
       "      <th>LinearRegression-default</th>\n",
       "      <th>SVR-default</th>\n",
       "      <th>SVR-C0.9eps0.15</th>\n",
       "      <th>DT-default</th>\n",
       "      <th>DT-maxdep3</th>\n",
       "      <th>RF-default</th>\n",
       "      <th>RF-madep5nest34</th>\n",
       "      <th>RF-madep2nest89</th>\n",
       "      <th>RF-madep5nest31</th>\n",
       "      <th>EN-default</th>\n",
       "    </tr>\n",
       "  </thead>\n",
       "  <tbody>\n",
       "    <tr>\n",
       "      <th>train</th>\n",
       "      <td>0.522273</td>\n",
       "      <td>0.502043</td>\n",
       "      <td>0.502613</td>\n",
       "      <td>0.344086</td>\n",
       "      <td>0.562987</td>\n",
       "      <td>0.372921</td>\n",
       "      <td>0.528873</td>\n",
       "      <td>0.573620</td>\n",
       "      <td>0.529143</td>\n",
       "      <td>1.293389</td>\n",
       "    </tr>\n",
       "    <tr>\n",
       "      <th>val</th>\n",
       "      <td>0.559898</td>\n",
       "      <td>0.545259</td>\n",
       "      <td>0.545021</td>\n",
       "      <td>0.655376</td>\n",
       "      <td>0.564742</td>\n",
       "      <td>0.564084</td>\n",
       "      <td>0.557415</td>\n",
       "      <td>0.574794</td>\n",
       "      <td>0.558589</td>\n",
       "      <td>1.277913</td>\n",
       "    </tr>\n",
       "  </tbody>\n",
       "</table>\n",
       "</div>"
      ],
      "text/plain": [
       "       LinearRegression-default  SVR-default  SVR-C0.9eps0.15  DT-default  \\\n",
       "train                  0.522273     0.502043         0.502613    0.344086   \n",
       "val                    0.559898     0.545259         0.545021    0.655376   \n",
       "\n",
       "       DT-maxdep3  RF-default  RF-madep5nest34  RF-madep2nest89  \\\n",
       "train    0.562987    0.372921         0.528873         0.573620   \n",
       "val      0.564742    0.564084         0.557415         0.574794   \n",
       "\n",
       "       RF-madep5nest31  EN-default  \n",
       "train         0.529143    1.293389  \n",
       "val           0.558589    1.277913  "
      ]
     },
     "execution_count": 179,
     "metadata": {},
     "output_type": "execute_result"
    }
   ],
   "source": [
    "# speed run with default vals\n",
    "pipeline = Pipeline([\n",
    "    ('transformer', transf),\n",
    "    ('en', ElasticNet())\n",
    "])\n",
    "pipeline.fit(df_train, y_train)\n",
    "eval_method(y_train,y_val,pipeline.predict,'EN-default')\n",
    "df_reg_res\n"
   ]
  },
  {
   "cell_type": "code",
   "execution_count": 184,
   "metadata": {},
   "outputs": [
    {
     "name": "stderr",
     "output_type": "stream",
     "text": [
      "C:\\Users\\kay_t\\AppData\\Local\\Packages\\PythonSoftwareFoundation.Python.3.9_qbz5n2kfra8p0\\LocalCache\\local-packages\\Python39\\site-packages\\sklearn\\linear_model\\_coordinate_descent.py:609: ConvergenceWarning: Objective did not converge. You might want to increase the number of iterations. Duality gap: 1045.2569561938344, tolerance: 1.4867533221138227\n",
      "  model = cd_fast.sparse_enet_coordinate_descent(\n",
      "C:\\Users\\kay_t\\AppData\\Local\\Packages\\PythonSoftwareFoundation.Python.3.9_qbz5n2kfra8p0\\LocalCache\\local-packages\\Python39\\site-packages\\sklearn\\linear_model\\_coordinate_descent.py:609: ConvergenceWarning: Objective did not converge. You might want to increase the number of iterations. Duality gap: 991.8688965772216, tolerance: 1.4867533221138227\n",
      "  model = cd_fast.sparse_enet_coordinate_descent(\n",
      "C:\\Users\\kay_t\\AppData\\Local\\Packages\\PythonSoftwareFoundation.Python.3.9_qbz5n2kfra8p0\\LocalCache\\local-packages\\Python39\\site-packages\\sklearn\\linear_model\\_coordinate_descent.py:609: ConvergenceWarning: Objective did not converge. You might want to increase the number of iterations. Duality gap: 930.6977598646049, tolerance: 1.4867533221138227\n",
      "  model = cd_fast.sparse_enet_coordinate_descent(\n",
      "C:\\Users\\kay_t\\AppData\\Local\\Packages\\PythonSoftwareFoundation.Python.3.9_qbz5n2kfra8p0\\LocalCache\\local-packages\\Python39\\site-packages\\sklearn\\linear_model\\_coordinate_descent.py:609: ConvergenceWarning: Objective did not converge. You might want to increase the number of iterations. Duality gap: 859.9810841385245, tolerance: 1.4867533221138227\n",
      "  model = cd_fast.sparse_enet_coordinate_descent(\n",
      "C:\\Users\\kay_t\\AppData\\Local\\Packages\\PythonSoftwareFoundation.Python.3.9_qbz5n2kfra8p0\\LocalCache\\local-packages\\Python39\\site-packages\\sklearn\\linear_model\\_coordinate_descent.py:609: ConvergenceWarning: Objective did not converge. You might want to increase the number of iterations. Duality gap: 777.361972573626, tolerance: 1.4867533221138227\n",
      "  model = cd_fast.sparse_enet_coordinate_descent(\n",
      "C:\\Users\\kay_t\\AppData\\Local\\Packages\\PythonSoftwareFoundation.Python.3.9_qbz5n2kfra8p0\\LocalCache\\local-packages\\Python39\\site-packages\\sklearn\\linear_model\\_coordinate_descent.py:609: ConvergenceWarning: Objective did not converge. You might want to increase the number of iterations. Duality gap: 679.9258082658591, tolerance: 1.4867533221138227\n",
      "  model = cd_fast.sparse_enet_coordinate_descent(\n",
      "C:\\Users\\kay_t\\AppData\\Local\\Packages\\PythonSoftwareFoundation.Python.3.9_qbz5n2kfra8p0\\LocalCache\\local-packages\\Python39\\site-packages\\sklearn\\linear_model\\_coordinate_descent.py:609: ConvergenceWarning: Objective did not converge. You might want to increase the number of iterations. Duality gap: 563.8026141055408, tolerance: 1.4867533221138227\n",
      "  model = cd_fast.sparse_enet_coordinate_descent(\n",
      "C:\\Users\\kay_t\\AppData\\Local\\Packages\\PythonSoftwareFoundation.Python.3.9_qbz5n2kfra8p0\\LocalCache\\local-packages\\Python39\\site-packages\\sklearn\\linear_model\\_coordinate_descent.py:609: ConvergenceWarning: Objective did not converge. You might want to increase the number of iterations. Duality gap: 425.11956708966966, tolerance: 1.4867533221138227\n",
      "  model = cd_fast.sparse_enet_coordinate_descent(\n",
      "C:\\Users\\kay_t\\AppData\\Local\\Packages\\PythonSoftwareFoundation.Python.3.9_qbz5n2kfra8p0\\LocalCache\\local-packages\\Python39\\site-packages\\sklearn\\linear_model\\_coordinate_descent.py:609: ConvergenceWarning: Objective did not converge. You might want to increase the number of iterations. Duality gap: 287.1939024402634, tolerance: 1.4867533221138227\n",
      "  model = cd_fast.sparse_enet_coordinate_descent(\n",
      "C:\\Users\\kay_t\\AppData\\Local\\Packages\\PythonSoftwareFoundation.Python.3.9_qbz5n2kfra8p0\\LocalCache\\local-packages\\Python39\\site-packages\\sklearn\\linear_model\\_coordinate_descent.py:609: ConvergenceWarning: Objective did not converge. You might want to increase the number of iterations. Duality gap: 221.5052248890579, tolerance: 1.4867533221138227\n",
      "  model = cd_fast.sparse_enet_coordinate_descent(\n",
      "C:\\Users\\kay_t\\AppData\\Local\\Packages\\PythonSoftwareFoundation.Python.3.9_qbz5n2kfra8p0\\LocalCache\\local-packages\\Python39\\site-packages\\sklearn\\linear_model\\_coordinate_descent.py:609: ConvergenceWarning: Objective did not converge. You might want to increase the number of iterations. Duality gap: 1048.6193311994946, tolerance: 1.4867533221138227\n",
      "  model = cd_fast.sparse_enet_coordinate_descent(\n",
      "C:\\Users\\kay_t\\AppData\\Local\\Packages\\PythonSoftwareFoundation.Python.3.9_qbz5n2kfra8p0\\LocalCache\\local-packages\\Python39\\site-packages\\sklearn\\linear_model\\_coordinate_descent.py:609: ConvergenceWarning: Objective did not converge. You might want to increase the number of iterations. Duality gap: 987.2009376264837, tolerance: 1.4867533221138227\n",
      "  model = cd_fast.sparse_enet_coordinate_descent(\n",
      "C:\\Users\\kay_t\\AppData\\Local\\Packages\\PythonSoftwareFoundation.Python.3.9_qbz5n2kfra8p0\\LocalCache\\local-packages\\Python39\\site-packages\\sklearn\\linear_model\\_coordinate_descent.py:609: ConvergenceWarning: Objective did not converge. You might want to increase the number of iterations. Duality gap: 917.6576681847831, tolerance: 1.4867533221138227\n",
      "  model = cd_fast.sparse_enet_coordinate_descent(\n",
      "C:\\Users\\kay_t\\AppData\\Local\\Packages\\PythonSoftwareFoundation.Python.3.9_qbz5n2kfra8p0\\LocalCache\\local-packages\\Python39\\site-packages\\sklearn\\linear_model\\_coordinate_descent.py:609: ConvergenceWarning: Objective did not converge. You might want to increase the number of iterations. Duality gap: 838.1241291533561, tolerance: 1.4867533221138227\n",
      "  model = cd_fast.sparse_enet_coordinate_descent(\n",
      "C:\\Users\\kay_t\\AppData\\Local\\Packages\\PythonSoftwareFoundation.Python.3.9_qbz5n2kfra8p0\\LocalCache\\local-packages\\Python39\\site-packages\\sklearn\\linear_model\\_coordinate_descent.py:609: ConvergenceWarning: Objective did not converge. You might want to increase the number of iterations. Duality gap: 746.191663699942, tolerance: 1.4867533221138227\n",
      "  model = cd_fast.sparse_enet_coordinate_descent(\n",
      "C:\\Users\\kay_t\\AppData\\Local\\Packages\\PythonSoftwareFoundation.Python.3.9_qbz5n2kfra8p0\\LocalCache\\local-packages\\Python39\\site-packages\\sklearn\\linear_model\\_coordinate_descent.py:609: ConvergenceWarning: Objective did not converge. You might want to increase the number of iterations. Duality gap: 638.9839360849746, tolerance: 1.4867533221138227\n",
      "  model = cd_fast.sparse_enet_coordinate_descent(\n",
      "C:\\Users\\kay_t\\AppData\\Local\\Packages\\PythonSoftwareFoundation.Python.3.9_qbz5n2kfra8p0\\LocalCache\\local-packages\\Python39\\site-packages\\sklearn\\linear_model\\_coordinate_descent.py:609: ConvergenceWarning: Objective did not converge. You might want to increase the number of iterations. Duality gap: 513.040739571094, tolerance: 1.4867533221138227\n",
      "  model = cd_fast.sparse_enet_coordinate_descent(\n",
      "C:\\Users\\kay_t\\AppData\\Local\\Packages\\PythonSoftwareFoundation.Python.3.9_qbz5n2kfra8p0\\LocalCache\\local-packages\\Python39\\site-packages\\sklearn\\linear_model\\_coordinate_descent.py:609: ConvergenceWarning: Objective did not converge. You might want to increase the number of iterations. Duality gap: 365.534535345433, tolerance: 1.4867533221138227\n",
      "  model = cd_fast.sparse_enet_coordinate_descent(\n",
      "C:\\Users\\kay_t\\AppData\\Local\\Packages\\PythonSoftwareFoundation.Python.3.9_qbz5n2kfra8p0\\LocalCache\\local-packages\\Python39\\site-packages\\sklearn\\linear_model\\_coordinate_descent.py:609: ConvergenceWarning: Objective did not converge. You might want to increase the number of iterations. Duality gap: 198.75264119494113, tolerance: 1.4867533221138227\n",
      "  model = cd_fast.sparse_enet_coordinate_descent(\n",
      "C:\\Users\\kay_t\\AppData\\Local\\Packages\\PythonSoftwareFoundation.Python.3.9_qbz5n2kfra8p0\\LocalCache\\local-packages\\Python39\\site-packages\\sklearn\\linear_model\\_coordinate_descent.py:609: ConvergenceWarning: Objective did not converge. You might want to increase the number of iterations. Duality gap: 40.516420561879386, tolerance: 1.4867533221138227\n",
      "  model = cd_fast.sparse_enet_coordinate_descent(\n",
      "C:\\Users\\kay_t\\AppData\\Local\\Packages\\PythonSoftwareFoundation.Python.3.9_qbz5n2kfra8p0\\LocalCache\\local-packages\\Python39\\site-packages\\sklearn\\linear_model\\_coordinate_descent.py:609: ConvergenceWarning: Objective did not converge. You might want to increase the number of iterations. Duality gap: 1055.7400863404987, tolerance: 1.4867533221138227\n",
      "  model = cd_fast.sparse_enet_coordinate_descent(\n",
      "C:\\Users\\kay_t\\AppData\\Local\\Packages\\PythonSoftwareFoundation.Python.3.9_qbz5n2kfra8p0\\LocalCache\\local-packages\\Python39\\site-packages\\sklearn\\linear_model\\_coordinate_descent.py:609: ConvergenceWarning: Objective did not converge. You might want to increase the number of iterations. Duality gap: 964.324503735915, tolerance: 1.4867533221138227\n",
      "  model = cd_fast.sparse_enet_coordinate_descent(\n",
      "C:\\Users\\kay_t\\AppData\\Local\\Packages\\PythonSoftwareFoundation.Python.3.9_qbz5n2kfra8p0\\LocalCache\\local-packages\\Python39\\site-packages\\sklearn\\linear_model\\_coordinate_descent.py:609: ConvergenceWarning: Objective did not converge. You might want to increase the number of iterations. Duality gap: 863.9693931012803, tolerance: 1.4867533221138227\n",
      "  model = cd_fast.sparse_enet_coordinate_descent(\n",
      "C:\\Users\\kay_t\\AppData\\Local\\Packages\\PythonSoftwareFoundation.Python.3.9_qbz5n2kfra8p0\\LocalCache\\local-packages\\Python39\\site-packages\\sklearn\\linear_model\\_coordinate_descent.py:609: ConvergenceWarning: Objective did not converge. You might want to increase the number of iterations. Duality gap: 752.8008226696109, tolerance: 1.4867533221138227\n",
      "  model = cd_fast.sparse_enet_coordinate_descent(\n",
      "C:\\Users\\kay_t\\AppData\\Local\\Packages\\PythonSoftwareFoundation.Python.3.9_qbz5n2kfra8p0\\LocalCache\\local-packages\\Python39\\site-packages\\sklearn\\linear_model\\_coordinate_descent.py:609: ConvergenceWarning: Objective did not converge. You might want to increase the number of iterations. Duality gap: 628.7448314160434, tolerance: 1.4867533221138227\n",
      "  model = cd_fast.sparse_enet_coordinate_descent(\n",
      "C:\\Users\\kay_t\\AppData\\Local\\Packages\\PythonSoftwareFoundation.Python.3.9_qbz5n2kfra8p0\\LocalCache\\local-packages\\Python39\\site-packages\\sklearn\\linear_model\\_coordinate_descent.py:609: ConvergenceWarning: Objective did not converge. You might want to increase the number of iterations. Duality gap: 489.83646445624663, tolerance: 1.4867533221138227\n",
      "  model = cd_fast.sparse_enet_coordinate_descent(\n",
      "C:\\Users\\kay_t\\AppData\\Local\\Packages\\PythonSoftwareFoundation.Python.3.9_qbz5n2kfra8p0\\LocalCache\\local-packages\\Python39\\site-packages\\sklearn\\linear_model\\_coordinate_descent.py:609: ConvergenceWarning: Objective did not converge. You might want to increase the number of iterations. Duality gap: 335.70661128685947, tolerance: 1.4867533221138227\n",
      "  model = cd_fast.sparse_enet_coordinate_descent(\n",
      "C:\\Users\\kay_t\\AppData\\Local\\Packages\\PythonSoftwareFoundation.Python.3.9_qbz5n2kfra8p0\\LocalCache\\local-packages\\Python39\\site-packages\\sklearn\\linear_model\\_coordinate_descent.py:609: ConvergenceWarning: Objective did not converge. You might want to increase the number of iterations. Duality gap: 172.4528585210678, tolerance: 1.4867533221138227\n",
      "  model = cd_fast.sparse_enet_coordinate_descent(\n",
      "C:\\Users\\kay_t\\AppData\\Local\\Packages\\PythonSoftwareFoundation.Python.3.9_qbz5n2kfra8p0\\LocalCache\\local-packages\\Python39\\site-packages\\sklearn\\linear_model\\_coordinate_descent.py:609: ConvergenceWarning: Objective did not converge. You might want to increase the number of iterations. Duality gap: 31.088099983699976, tolerance: 1.4867533221138227\n",
      "  model = cd_fast.sparse_enet_coordinate_descent(\n",
      "C:\\Users\\kay_t\\AppData\\Local\\Packages\\PythonSoftwareFoundation.Python.3.9_qbz5n2kfra8p0\\LocalCache\\local-packages\\Python39\\site-packages\\sklearn\\linear_model\\_coordinate_descent.py:609: ConvergenceWarning: Objective did not converge. You might want to increase the number of iterations. Duality gap: 1068.274385213728, tolerance: 1.4867533221138227\n",
      "  model = cd_fast.sparse_enet_coordinate_descent(\n",
      "C:\\Users\\kay_t\\AppData\\Local\\Packages\\PythonSoftwareFoundation.Python.3.9_qbz5n2kfra8p0\\LocalCache\\local-packages\\Python39\\site-packages\\sklearn\\linear_model\\_coordinate_descent.py:609: ConvergenceWarning: Objective did not converge. You might want to increase the number of iterations. Duality gap: 780.8229095677807, tolerance: 1.4867533221138227\n",
      "  model = cd_fast.sparse_enet_coordinate_descent(\n",
      "C:\\Users\\kay_t\\AppData\\Local\\Packages\\PythonSoftwareFoundation.Python.3.9_qbz5n2kfra8p0\\LocalCache\\local-packages\\Python39\\site-packages\\sklearn\\linear_model\\_coordinate_descent.py:609: ConvergenceWarning: Objective did not converge. You might want to increase the number of iterations. Duality gap: 489.6129015511293, tolerance: 1.4867533221138227\n",
      "  model = cd_fast.sparse_enet_coordinate_descent(\n",
      "C:\\Users\\kay_t\\AppData\\Local\\Packages\\PythonSoftwareFoundation.Python.3.9_qbz5n2kfra8p0\\LocalCache\\local-packages\\Python39\\site-packages\\sklearn\\linear_model\\_coordinate_descent.py:609: ConvergenceWarning: Objective did not converge. You might want to increase the number of iterations. Duality gap: 218.01693759339173, tolerance: 1.4867533221138227\n",
      "  model = cd_fast.sparse_enet_coordinate_descent(\n",
      "C:\\Users\\kay_t\\AppData\\Local\\Packages\\PythonSoftwareFoundation.Python.3.9_qbz5n2kfra8p0\\LocalCache\\local-packages\\Python39\\site-packages\\sklearn\\linear_model\\_coordinate_descent.py:609: ConvergenceWarning: Objective did not converge. You might want to increase the number of iterations. Duality gap: 25.707908710164247, tolerance: 1.4867533221138227\n",
      "  model = cd_fast.sparse_enet_coordinate_descent(\n",
      "C:\\Users\\kay_t\\AppData\\Local\\Packages\\PythonSoftwareFoundation.Python.3.9_qbz5n2kfra8p0\\LocalCache\\local-packages\\Python39\\site-packages\\sklearn\\linear_model\\_coordinate_descent.py:609: ConvergenceWarning: Objective did not converge. You might want to increase the number of iterations. Duality gap: 1.4973776373935834, tolerance: 1.4867533221138227\n",
      "  model = cd_fast.sparse_enet_coordinate_descent(\n",
      "C:\\Users\\kay_t\\AppData\\Local\\Packages\\PythonSoftwareFoundation.Python.3.9_qbz5n2kfra8p0\\LocalCache\\local-packages\\Python39\\site-packages\\sklearn\\linear_model\\_coordinate_descent.py:609: ConvergenceWarning: Objective did not converge. You might want to increase the number of iterations. Duality gap: 1087.9290860827691, tolerance: 1.4867533221138227\n",
      "  model = cd_fast.sparse_enet_coordinate_descent(\n",
      "C:\\Users\\kay_t\\AppData\\Local\\Packages\\PythonSoftwareFoundation.Python.3.9_qbz5n2kfra8p0\\LocalCache\\local-packages\\Python39\\site-packages\\sklearn\\linear_model\\_coordinate_descent.py:609: ConvergenceWarning: Objective did not converge. You might want to increase the number of iterations. Duality gap: 1119.444089636617, tolerance: 1.4867533221138227\n",
      "  model = cd_fast.sparse_enet_coordinate_descent(\n",
      "C:\\Users\\kay_t\\AppData\\Local\\Packages\\PythonSoftwareFoundation.Python.3.9_qbz5n2kfra8p0\\LocalCache\\local-packages\\Python39\\site-packages\\sklearn\\linear_model\\_coordinate_descent.py:609: ConvergenceWarning: Objective did not converge. You might want to increase the number of iterations. Duality gap: 1179.1555619963415, tolerance: 1.4867533221138227\n",
      "  model = cd_fast.sparse_enet_coordinate_descent(\n",
      "C:\\Users\\kay_t\\AppData\\Local\\Packages\\PythonSoftwareFoundation.Python.3.9_qbz5n2kfra8p0\\LocalCache\\local-packages\\Python39\\site-packages\\sklearn\\linear_model\\_coordinate_descent.py:609: ConvergenceWarning: Objective did not converge. You might want to increase the number of iterations. Duality gap: 1310.1196040555274, tolerance: 1.4867533221138227\n",
      "  model = cd_fast.sparse_enet_coordinate_descent(\n",
      "C:\\Users\\kay_t\\AppData\\Local\\Packages\\PythonSoftwareFoundation.Python.3.9_qbz5n2kfra8p0\\LocalCache\\local-packages\\Python39\\site-packages\\sklearn\\linear_model\\_coordinate_descent.py:609: ConvergenceWarning: Objective did not converge. You might want to increase the number of iterations. Duality gap: 1609.6042910302876, tolerance: 1.4867533221138227\n",
      "  model = cd_fast.sparse_enet_coordinate_descent(\n",
      "C:\\Users\\kay_t\\AppData\\Local\\Packages\\PythonSoftwareFoundation.Python.3.9_qbz5n2kfra8p0\\LocalCache\\local-packages\\Python39\\site-packages\\sklearn\\linear_model\\_coordinate_descent.py:609: ConvergenceWarning: Objective did not converge. You might want to increase the number of iterations. Duality gap: 2252.9331316351986, tolerance: 1.4867533221138227\n",
      "  model = cd_fast.sparse_enet_coordinate_descent(\n"
     ]
    },
    {
     "data": {
      "text/html": [
       "<div>\n",
       "<style scoped>\n",
       "    .dataframe tbody tr th:only-of-type {\n",
       "        vertical-align: middle;\n",
       "    }\n",
       "\n",
       "    .dataframe tbody tr th {\n",
       "        vertical-align: top;\n",
       "    }\n",
       "\n",
       "    .dataframe thead th {\n",
       "        text-align: right;\n",
       "    }\n",
       "</style>\n",
       "<table border=\"1\" class=\"dataframe\">\n",
       "  <thead>\n",
       "    <tr style=\"text-align: right;\">\n",
       "      <th></th>\n",
       "      <th>a</th>\n",
       "      <th>l1</th>\n",
       "      <th>train</th>\n",
       "      <th>val</th>\n",
       "    </tr>\n",
       "  </thead>\n",
       "  <tbody>\n",
       "    <tr>\n",
       "      <th>0</th>\n",
       "      <td>0.00001</td>\n",
       "      <td>0.000000</td>\n",
       "      <td>0.522298</td>\n",
       "      <td>0.559453</td>\n",
       "    </tr>\n",
       "    <tr>\n",
       "      <th>1</th>\n",
       "      <td>0.00001</td>\n",
       "      <td>0.055556</td>\n",
       "      <td>0.522299</td>\n",
       "      <td>0.559432</td>\n",
       "    </tr>\n",
       "    <tr>\n",
       "      <th>2</th>\n",
       "      <td>0.00001</td>\n",
       "      <td>0.111111</td>\n",
       "      <td>0.522299</td>\n",
       "      <td>0.559410</td>\n",
       "    </tr>\n",
       "    <tr>\n",
       "      <th>3</th>\n",
       "      <td>0.00001</td>\n",
       "      <td>0.166667</td>\n",
       "      <td>0.522300</td>\n",
       "      <td>0.559385</td>\n",
       "    </tr>\n",
       "    <tr>\n",
       "      <th>4</th>\n",
       "      <td>0.00001</td>\n",
       "      <td>0.222222</td>\n",
       "      <td>0.522301</td>\n",
       "      <td>0.559359</td>\n",
       "    </tr>\n",
       "    <tr>\n",
       "      <th>...</th>\n",
       "      <td>...</td>\n",
       "      <td>...</td>\n",
       "      <td>...</td>\n",
       "      <td>...</td>\n",
       "    </tr>\n",
       "    <tr>\n",
       "      <th>95</th>\n",
       "      <td>0.10000</td>\n",
       "      <td>0.277778</td>\n",
       "      <td>0.620265</td>\n",
       "      <td>0.615166</td>\n",
       "    </tr>\n",
       "    <tr>\n",
       "      <th>96</th>\n",
       "      <td>0.10000</td>\n",
       "      <td>0.333333</td>\n",
       "      <td>0.620640</td>\n",
       "      <td>0.615129</td>\n",
       "    </tr>\n",
       "    <tr>\n",
       "      <th>97</th>\n",
       "      <td>0.10000</td>\n",
       "      <td>0.388889</td>\n",
       "      <td>0.621236</td>\n",
       "      <td>0.615291</td>\n",
       "    </tr>\n",
       "    <tr>\n",
       "      <th>98</th>\n",
       "      <td>0.10000</td>\n",
       "      <td>0.444444</td>\n",
       "      <td>0.622056</td>\n",
       "      <td>0.615649</td>\n",
       "    </tr>\n",
       "    <tr>\n",
       "      <th>99</th>\n",
       "      <td>0.10000</td>\n",
       "      <td>0.500000</td>\n",
       "      <td>0.623011</td>\n",
       "      <td>0.616169</td>\n",
       "    </tr>\n",
       "  </tbody>\n",
       "</table>\n",
       "<p>100 rows × 4 columns</p>\n",
       "</div>"
      ],
      "text/plain": [
       "          a        l1     train       val\n",
       "0   0.00001  0.000000  0.522298  0.559453\n",
       "1   0.00001  0.055556  0.522299  0.559432\n",
       "2   0.00001  0.111111  0.522299  0.559410\n",
       "3   0.00001  0.166667  0.522300  0.559385\n",
       "4   0.00001  0.222222  0.522301  0.559359\n",
       "..      ...       ...       ...       ...\n",
       "95  0.10000  0.277778  0.620265  0.615166\n",
       "96  0.10000  0.333333  0.620640  0.615129\n",
       "97  0.10000  0.388889  0.621236  0.615291\n",
       "98  0.10000  0.444444  0.622056  0.615649\n",
       "99  0.10000  0.500000  0.623011  0.616169\n",
       "\n",
       "[100 rows x 4 columns]"
      ]
     },
     "execution_count": 184,
     "metadata": {},
     "output_type": "execute_result"
    }
   ],
   "source": [
    "df_en = pd.DataFrame(columns=['a','l1','train','val'])\n",
    "for a in np.logspace(-5,-1,10):\n",
    "    for l1 in np.linspace(0,0.5,10):\n",
    "        # speed run with default vals\n",
    "        pipeline = Pipeline([\n",
    "            ('transformer', transf),\n",
    "            ('en', ElasticNet(alpha=a,l1_ratio=l1))\n",
    "        ])\n",
    "        pipeline.fit(df_train, y_train)\n",
    "        v = eval_method_noadd(y_train,y_val,pipeline.predict)\n",
    "        df_en = df_en.append({'a': a, 'l1':l1,'train':v[0],'val':v[1]},ignore_index=True)\n",
    "df_en"
   ]
  },
  {
   "cell_type": "code",
   "execution_count": 185,
   "metadata": {},
   "outputs": [
    {
     "data": {
      "text/plain": [
       "<AxesSubplot:xlabel='None-l1', ylabel='a'>"
      ]
     },
     "execution_count": 185,
     "metadata": {},
     "output_type": "execute_result"
    },
    {
     "data": {
      "image/png": "[encoded data removed]",
      "text/plain": [
       "<Figure size 1440x1440 with 2 Axes>"
      ]
     },
     "metadata": {
      "needs_background": "light"
     },
     "output_type": "display_data"
    }
   ],
   "source": [
    "plt.figure(figsize=(20,20))\n",
    "df_en_pivot = df_en.pivot(index='a', columns=['l1'], values=['val'])\n",
    "sns.heatmap(df_en_pivot, annot=True, fmt=\".5f\",cmap=\"YlGnBu\")"
   ]
  },
  {
   "cell_type": "code",
   "execution_count": 186,
   "metadata": {},
   "outputs": [
    {
     "name": "stdout",
     "output_type": "stream",
     "text": [
      "EN-a0.04lone0.05\n",
      "\tTraining RMSE: 0.537 \n",
      "\tValidation RMSE: 0.549 \n"
     ]
    },
    {
     "data": {
      "text/html": [
       "<div>\n",
       "<style scoped>\n",
       "    .dataframe tbody tr th:only-of-type {\n",
       "        vertical-align: middle;\n",
       "    }\n",
       "\n",
       "    .dataframe tbody tr th {\n",
       "        vertical-align: top;\n",
       "    }\n",
       "\n",
       "    .dataframe thead th {\n",
       "        text-align: right;\n",
       "    }\n",
       "</style>\n",
       "<table border=\"1\" class=\"dataframe\">\n",
       "  <thead>\n",
       "    <tr style=\"text-align: right;\">\n",
       "      <th></th>\n",
       "      <th>LinearRegression-default</th>\n",
       "      <th>SVR-default</th>\n",
       "      <th>SVR-C0.9eps0.15</th>\n",
       "      <th>DT-default</th>\n",
       "      <th>DT-maxdep3</th>\n",
       "      <th>RF-default</th>\n",
       "      <th>RF-madep5nest34</th>\n",
       "      <th>RF-madep2nest89</th>\n",
       "      <th>RF-madep5nest31</th>\n",
       "      <th>EN-default</th>\n",
       "      <th>EN-a0.04lone0.05</th>\n",
       "    </tr>\n",
       "  </thead>\n",
       "  <tbody>\n",
       "    <tr>\n",
       "      <th>train</th>\n",
       "      <td>0.522273</td>\n",
       "      <td>0.502043</td>\n",
       "      <td>0.502613</td>\n",
       "      <td>0.344086</td>\n",
       "      <td>0.562987</td>\n",
       "      <td>0.372921</td>\n",
       "      <td>0.528873</td>\n",
       "      <td>0.573620</td>\n",
       "      <td>0.529143</td>\n",
       "      <td>1.293389</td>\n",
       "      <td>0.537431</td>\n",
       "    </tr>\n",
       "    <tr>\n",
       "      <th>val</th>\n",
       "      <td>0.559898</td>\n",
       "      <td>0.545259</td>\n",
       "      <td>0.545021</td>\n",
       "      <td>0.655376</td>\n",
       "      <td>0.564742</td>\n",
       "      <td>0.564084</td>\n",
       "      <td>0.557415</td>\n",
       "      <td>0.574794</td>\n",
       "      <td>0.558589</td>\n",
       "      <td>1.277913</td>\n",
       "      <td>0.548775</td>\n",
       "    </tr>\n",
       "  </tbody>\n",
       "</table>\n",
       "</div>"
      ],
      "text/plain": [
       "       LinearRegression-default  SVR-default  SVR-C0.9eps0.15  DT-default  \\\n",
       "train                  0.522273     0.502043         0.502613    0.344086   \n",
       "val                    0.559898     0.545259         0.545021    0.655376   \n",
       "\n",
       "       DT-maxdep3  RF-default  RF-madep5nest34  RF-madep2nest89  \\\n",
       "train    0.562987    0.372921         0.528873         0.573620   \n",
       "val      0.564742    0.564084         0.557415         0.574794   \n",
       "\n",
       "       RF-madep5nest31  EN-default  EN-a0.04lone0.05  \n",
       "train         0.529143    1.293389          0.537431  \n",
       "val           0.558589    1.277913          0.548775  "
      ]
     },
     "execution_count": 186,
     "metadata": {},
     "output_type": "execute_result"
    }
   ],
   "source": [
    "# speed run with default vals\n",
    "pipeline = Pipeline([\n",
    "    ('transformer', transf),\n",
    "    ('en', ElasticNet(alpha=0.004, l1_ratio=0.055))\n",
    "])\n",
    "pipeline.fit(df_train, y_train)\n",
    "eval_method(y_train,y_val,pipeline.predict,'EN-a0.04lone0.05')\n",
    "df_reg_res\n"
   ]
  },
  {
   "cell_type": "markdown",
   "metadata": {},
   "source": []
  },
  {
   "cell_type": "markdown",
   "metadata": {},
   "source": [
    "#### Gradient Boosting Regressor\n"
   ]
  },
  {
   "cell_type": "code",
   "execution_count": 189,
   "metadata": {},
   "outputs": [
    {
     "name": "stdout",
     "output_type": "stream",
     "text": [
      "GB-default\n",
      "\tTraining RMSE: 0.511 \n",
      "\tValidation RMSE: 0.544 \n"
     ]
    },
    {
     "data": {
      "text/html": [
       "<div>\n",
       "<style scoped>\n",
       "    .dataframe tbody tr th:only-of-type {\n",
       "        vertical-align: middle;\n",
       "    }\n",
       "\n",
       "    .dataframe tbody tr th {\n",
       "        vertical-align: top;\n",
       "    }\n",
       "\n",
       "    .dataframe thead th {\n",
       "        text-align: right;\n",
       "    }\n",
       "</style>\n",
       "<table border=\"1\" class=\"dataframe\">\n",
       "  <thead>\n",
       "    <tr style=\"text-align: right;\">\n",
       "      <th></th>\n",
       "      <th>LinearRegression-default</th>\n",
       "      <th>SVR-default</th>\n",
       "      <th>SVR-C0.9eps0.15</th>\n",
       "      <th>DT-default</th>\n",
       "      <th>DT-maxdep3</th>\n",
       "      <th>RF-default</th>\n",
       "      <th>RF-madep5nest34</th>\n",
       "      <th>RF-madep2nest89</th>\n",
       "      <th>RF-madep5nest31</th>\n",
       "      <th>EN-default</th>\n",
       "      <th>EN-a0.04lone0.05</th>\n",
       "      <th>GB-default</th>\n",
       "    </tr>\n",
       "  </thead>\n",
       "  <tbody>\n",
       "    <tr>\n",
       "      <th>train</th>\n",
       "      <td>0.522273</td>\n",
       "      <td>0.502043</td>\n",
       "      <td>0.502613</td>\n",
       "      <td>0.344086</td>\n",
       "      <td>0.562987</td>\n",
       "      <td>0.372921</td>\n",
       "      <td>0.528873</td>\n",
       "      <td>0.573620</td>\n",
       "      <td>0.529143</td>\n",
       "      <td>1.293389</td>\n",
       "      <td>0.537431</td>\n",
       "      <td>0.511446</td>\n",
       "    </tr>\n",
       "    <tr>\n",
       "      <th>val</th>\n",
       "      <td>0.559898</td>\n",
       "      <td>0.545259</td>\n",
       "      <td>0.545021</td>\n",
       "      <td>0.655376</td>\n",
       "      <td>0.564742</td>\n",
       "      <td>0.564084</td>\n",
       "      <td>0.557415</td>\n",
       "      <td>0.574794</td>\n",
       "      <td>0.558589</td>\n",
       "      <td>1.277913</td>\n",
       "      <td>0.548775</td>\n",
       "      <td>0.544403</td>\n",
       "    </tr>\n",
       "  </tbody>\n",
       "</table>\n",
       "</div>"
      ],
      "text/plain": [
       "       LinearRegression-default  SVR-default  SVR-C0.9eps0.15  DT-default  \\\n",
       "train                  0.522273     0.502043         0.502613    0.344086   \n",
       "val                    0.559898     0.545259         0.545021    0.655376   \n",
       "\n",
       "       DT-maxdep3  RF-default  RF-madep5nest34  RF-madep2nest89  \\\n",
       "train    0.562987    0.372921         0.528873         0.573620   \n",
       "val      0.564742    0.564084         0.557415         0.574794   \n",
       "\n",
       "       RF-madep5nest31  EN-default  EN-a0.04lone0.05  GB-default  \n",
       "train         0.529143    1.293389          0.537431    0.511446  \n",
       "val           0.558589    1.277913          0.548775    0.544403  "
      ]
     },
     "execution_count": 189,
     "metadata": {},
     "output_type": "execute_result"
    }
   ],
   "source": [
    "# speed run with default vals\n",
    "pipeline = Pipeline([\n",
    "    ('transformer', transf),\n",
    "    ('gb', GradientBoostingRegressor())\n",
    "])\n",
    "pipeline.fit(df_train, y_train)\n",
    "eval_method(y_train,y_val,pipeline.predict,'GB-default')\n",
    "df_reg_res\n"
   ]
  },
  {
   "cell_type": "code",
   "execution_count": 198,
   "metadata": {},
   "outputs": [
    {
     "data": {
      "text/html": [
       "<div>\n",
       "<style scoped>\n",
       "    .dataframe tbody tr th:only-of-type {\n",
       "        vertical-align: middle;\n",
       "    }\n",
       "\n",
       "    .dataframe tbody tr th {\n",
       "        vertical-align: top;\n",
       "    }\n",
       "\n",
       "    .dataframe thead th {\n",
       "        text-align: right;\n",
       "    }\n",
       "</style>\n",
       "<table border=\"1\" class=\"dataframe\">\n",
       "  <thead>\n",
       "    <tr style=\"text-align: right;\">\n",
       "      <th></th>\n",
       "      <th>lr</th>\n",
       "      <th>n_est</th>\n",
       "      <th>train</th>\n",
       "      <th>val</th>\n",
       "    </tr>\n",
       "  </thead>\n",
       "  <tbody>\n",
       "    <tr>\n",
       "      <th>0</th>\n",
       "      <td>0.001000</td>\n",
       "      <td>1.0</td>\n",
       "      <td>1.393099</td>\n",
       "      <td>1.377252</td>\n",
       "    </tr>\n",
       "    <tr>\n",
       "      <th>1</th>\n",
       "      <td>0.003162</td>\n",
       "      <td>1.0</td>\n",
       "      <td>1.390576</td>\n",
       "      <td>1.374762</td>\n",
       "    </tr>\n",
       "    <tr>\n",
       "      <th>2</th>\n",
       "      <td>0.010000</td>\n",
       "      <td>1.0</td>\n",
       "      <td>1.382606</td>\n",
       "      <td>1.366891</td>\n",
       "    </tr>\n",
       "    <tr>\n",
       "      <th>3</th>\n",
       "      <td>0.031623</td>\n",
       "      <td>1.0</td>\n",
       "      <td>1.357462</td>\n",
       "      <td>1.342064</td>\n",
       "    </tr>\n",
       "    <tr>\n",
       "      <th>4</th>\n",
       "      <td>0.100000</td>\n",
       "      <td>1.0</td>\n",
       "      <td>1.278610</td>\n",
       "      <td>1.264231</td>\n",
       "    </tr>\n",
       "    <tr>\n",
       "      <th>5</th>\n",
       "      <td>0.001000</td>\n",
       "      <td>10.0</td>\n",
       "      <td>1.382658</td>\n",
       "      <td>1.366943</td>\n",
       "    </tr>\n",
       "    <tr>\n",
       "      <th>6</th>\n",
       "      <td>0.003162</td>\n",
       "      <td>10.0</td>\n",
       "      <td>1.357979</td>\n",
       "      <td>1.342576</td>\n",
       "    </tr>\n",
       "    <tr>\n",
       "      <th>7</th>\n",
       "      <td>0.010000</td>\n",
       "      <td>10.0</td>\n",
       "      <td>1.283626</td>\n",
       "      <td>1.269169</td>\n",
       "    </tr>\n",
       "    <tr>\n",
       "      <th>8</th>\n",
       "      <td>0.031623</td>\n",
       "      <td>10.0</td>\n",
       "      <td>1.082533</td>\n",
       "      <td>1.071027</td>\n",
       "    </tr>\n",
       "    <tr>\n",
       "      <th>9</th>\n",
       "      <td>0.100000</td>\n",
       "      <td>10.0</td>\n",
       "      <td>0.711560</td>\n",
       "      <td>0.709553</td>\n",
       "    </tr>\n",
       "    <tr>\n",
       "      <th>10</th>\n",
       "      <td>0.001000</td>\n",
       "      <td>20.0</td>\n",
       "      <td>1.371185</td>\n",
       "      <td>1.355614</td>\n",
       "    </tr>\n",
       "    <tr>\n",
       "      <th>11</th>\n",
       "      <td>0.003162</td>\n",
       "      <td>20.0</td>\n",
       "      <td>1.323015</td>\n",
       "      <td>1.308060</td>\n",
       "    </tr>\n",
       "    <tr>\n",
       "      <th>12</th>\n",
       "      <td>0.010000</td>\n",
       "      <td>20.0</td>\n",
       "      <td>1.185386</td>\n",
       "      <td>1.172284</td>\n",
       "    </tr>\n",
       "    <tr>\n",
       "      <th>13</th>\n",
       "      <td>0.031623</td>\n",
       "      <td>20.0</td>\n",
       "      <td>0.873901</td>\n",
       "      <td>0.866966</td>\n",
       "    </tr>\n",
       "    <tr>\n",
       "      <th>14</th>\n",
       "      <td>0.100000</td>\n",
       "      <td>20.0</td>\n",
       "      <td>0.565081</td>\n",
       "      <td>0.574547</td>\n",
       "    </tr>\n",
       "    <tr>\n",
       "      <th>15</th>\n",
       "      <td>0.001000</td>\n",
       "      <td>50.0</td>\n",
       "      <td>1.337562</td>\n",
       "      <td>1.322418</td>\n",
       "    </tr>\n",
       "    <tr>\n",
       "      <th>16</th>\n",
       "      <td>0.003162</td>\n",
       "      <td>50.0</td>\n",
       "      <td>1.225627</td>\n",
       "      <td>1.211931</td>\n",
       "    </tr>\n",
       "    <tr>\n",
       "      <th>17</th>\n",
       "      <td>0.010000</td>\n",
       "      <td>50.0</td>\n",
       "      <td>0.954277</td>\n",
       "      <td>0.945225</td>\n",
       "    </tr>\n",
       "    <tr>\n",
       "      <th>18</th>\n",
       "      <td>0.031623</td>\n",
       "      <td>50.0</td>\n",
       "      <td>0.605680</td>\n",
       "      <td>0.610389</td>\n",
       "    </tr>\n",
       "    <tr>\n",
       "      <th>19</th>\n",
       "      <td>0.100000</td>\n",
       "      <td>50.0</td>\n",
       "      <td>0.524169</td>\n",
       "      <td>0.548100</td>\n",
       "    </tr>\n",
       "    <tr>\n",
       "      <th>20</th>\n",
       "      <td>0.001000</td>\n",
       "      <td>100.0</td>\n",
       "      <td>1.284096</td>\n",
       "      <td>1.269636</td>\n",
       "    </tr>\n",
       "    <tr>\n",
       "      <th>21</th>\n",
       "      <td>0.003162</td>\n",
       "      <td>100.0</td>\n",
       "      <td>1.086196</td>\n",
       "      <td>1.074655</td>\n",
       "    </tr>\n",
       "    <tr>\n",
       "      <th>22</th>\n",
       "      <td>0.010000</td>\n",
       "      <td>100.0</td>\n",
       "      <td>0.726172</td>\n",
       "      <td>0.723897</td>\n",
       "    </tr>\n",
       "    <tr>\n",
       "      <th>23</th>\n",
       "      <td>0.031623</td>\n",
       "      <td>100.0</td>\n",
       "      <td>0.537964</td>\n",
       "      <td>0.553955</td>\n",
       "    </tr>\n",
       "    <tr>\n",
       "      <th>24</th>\n",
       "      <td>0.100000</td>\n",
       "      <td>100.0</td>\n",
       "      <td>0.511446</td>\n",
       "      <td>0.544293</td>\n",
       "    </tr>\n",
       "    <tr>\n",
       "      <th>25</th>\n",
       "      <td>0.001000</td>\n",
       "      <td>200.0</td>\n",
       "      <td>1.186221</td>\n",
       "      <td>1.173111</td>\n",
       "    </tr>\n",
       "    <tr>\n",
       "      <th>26</th>\n",
       "      <td>0.003162</td>\n",
       "      <td>200.0</td>\n",
       "      <td>0.878712</td>\n",
       "      <td>0.871685</td>\n",
       "    </tr>\n",
       "    <tr>\n",
       "      <th>27</th>\n",
       "      <td>0.010000</td>\n",
       "      <td>200.0</td>\n",
       "      <td>0.570673</td>\n",
       "      <td>0.579279</td>\n",
       "    </tr>\n",
       "    <tr>\n",
       "      <th>28</th>\n",
       "      <td>0.031623</td>\n",
       "      <td>200.0</td>\n",
       "      <td>0.520964</td>\n",
       "      <td>0.547641</td>\n",
       "    </tr>\n",
       "    <tr>\n",
       "      <th>29</th>\n",
       "      <td>0.100000</td>\n",
       "      <td>200.0</td>\n",
       "      <td>0.499121</td>\n",
       "      <td>0.542678</td>\n",
       "    </tr>\n",
       "    <tr>\n",
       "      <th>30</th>\n",
       "      <td>0.001000</td>\n",
       "      <td>500.0</td>\n",
       "      <td>0.955697</td>\n",
       "      <td>0.946677</td>\n",
       "    </tr>\n",
       "    <tr>\n",
       "      <th>31</th>\n",
       "      <td>0.003162</td>\n",
       "      <td>500.0</td>\n",
       "      <td>0.608302</td>\n",
       "      <td>0.612917</td>\n",
       "    </tr>\n",
       "    <tr>\n",
       "      <th>32</th>\n",
       "      <td>0.010000</td>\n",
       "      <td>500.0</td>\n",
       "      <td>0.525576</td>\n",
       "      <td>0.548983</td>\n",
       "    </tr>\n",
       "    <tr>\n",
       "      <th>33</th>\n",
       "      <td>0.031623</td>\n",
       "      <td>500.0</td>\n",
       "      <td>0.505699</td>\n",
       "      <td>0.543938</td>\n",
       "    </tr>\n",
       "    <tr>\n",
       "      <th>34</th>\n",
       "      <td>0.100000</td>\n",
       "      <td>500.0</td>\n",
       "      <td>0.482684</td>\n",
       "      <td>0.544754</td>\n",
       "    </tr>\n",
       "    <tr>\n",
       "      <th>35</th>\n",
       "      <td>0.001000</td>\n",
       "      <td>1000.0</td>\n",
       "      <td>0.727559</td>\n",
       "      <td>0.725232</td>\n",
       "    </tr>\n",
       "    <tr>\n",
       "      <th>36</th>\n",
       "      <td>0.003162</td>\n",
       "      <td>1000.0</td>\n",
       "      <td>0.538499</td>\n",
       "      <td>0.554189</td>\n",
       "    </tr>\n",
       "    <tr>\n",
       "      <th>37</th>\n",
       "      <td>0.010000</td>\n",
       "      <td>1000.0</td>\n",
       "      <td>0.514380</td>\n",
       "      <td>0.545589</td>\n",
       "    </tr>\n",
       "    <tr>\n",
       "      <th>38</th>\n",
       "      <td>0.031623</td>\n",
       "      <td>1000.0</td>\n",
       "      <td>0.493913</td>\n",
       "      <td>0.544215</td>\n",
       "    </tr>\n",
       "    <tr>\n",
       "      <th>39</th>\n",
       "      <td>0.100000</td>\n",
       "      <td>1000.0</td>\n",
       "      <td>0.461313</td>\n",
       "      <td>0.548404</td>\n",
       "    </tr>\n",
       "    <tr>\n",
       "      <th>40</th>\n",
       "      <td>0.001000</td>\n",
       "      <td>2000.0</td>\n",
       "      <td>0.571242</td>\n",
       "      <td>0.579724</td>\n",
       "    </tr>\n",
       "    <tr>\n",
       "      <th>41</th>\n",
       "      <td>0.003162</td>\n",
       "      <td>2000.0</td>\n",
       "      <td>0.521671</td>\n",
       "      <td>0.547893</td>\n",
       "    </tr>\n",
       "    <tr>\n",
       "      <th>42</th>\n",
       "      <td>0.010000</td>\n",
       "      <td>2000.0</td>\n",
       "      <td>0.503001</td>\n",
       "      <td>0.544417</td>\n",
       "    </tr>\n",
       "    <tr>\n",
       "      <th>43</th>\n",
       "      <td>0.031623</td>\n",
       "      <td>2000.0</td>\n",
       "      <td>0.480879</td>\n",
       "      <td>0.546591</td>\n",
       "    </tr>\n",
       "    <tr>\n",
       "      <th>44</th>\n",
       "      <td>0.100000</td>\n",
       "      <td>2000.0</td>\n",
       "      <td>0.436544</td>\n",
       "      <td>0.556143</td>\n",
       "    </tr>\n",
       "    <tr>\n",
       "      <th>45</th>\n",
       "      <td>0.001000</td>\n",
       "      <td>50000.0</td>\n",
       "      <td>0.489648</td>\n",
       "      <td>0.547564</td>\n",
       "    </tr>\n",
       "    <tr>\n",
       "      <th>46</th>\n",
       "      <td>0.003162</td>\n",
       "      <td>50000.0</td>\n",
       "      <td>0.459043</td>\n",
       "      <td>0.554261</td>\n",
       "    </tr>\n",
       "    <tr>\n",
       "      <th>47</th>\n",
       "      <td>0.010000</td>\n",
       "      <td>50000.0</td>\n",
       "      <td>0.414799</td>\n",
       "      <td>0.566038</td>\n",
       "    </tr>\n",
       "    <tr>\n",
       "      <th>48</th>\n",
       "      <td>0.031623</td>\n",
       "      <td>50000.0</td>\n",
       "      <td>0.378827</td>\n",
       "      <td>0.582514</td>\n",
       "    </tr>\n",
       "    <tr>\n",
       "      <th>49</th>\n",
       "      <td>0.100000</td>\n",
       "      <td>50000.0</td>\n",
       "      <td>0.357285</td>\n",
       "      <td>0.611542</td>\n",
       "    </tr>\n",
       "  </tbody>\n",
       "</table>\n",
       "</div>"
      ],
      "text/plain": [
       "          lr    n_est     train       val\n",
       "0   0.001000      1.0  1.393099  1.377252\n",
       "1   0.003162      1.0  1.390576  1.374762\n",
       "2   0.010000      1.0  1.382606  1.366891\n",
       "3   0.031623      1.0  1.357462  1.342064\n",
       "4   0.100000      1.0  1.278610  1.264231\n",
       "5   0.001000     10.0  1.382658  1.366943\n",
       "6   0.003162     10.0  1.357979  1.342576\n",
       "7   0.010000     10.0  1.283626  1.269169\n",
       "8   0.031623     10.0  1.082533  1.071027\n",
       "9   0.100000     10.0  0.711560  0.709553\n",
       "10  0.001000     20.0  1.371185  1.355614\n",
       "11  0.003162     20.0  1.323015  1.308060\n",
       "12  0.010000     20.0  1.185386  1.172284\n",
       "13  0.031623     20.0  0.873901  0.866966\n",
       "14  0.100000     20.0  0.565081  0.574547\n",
       "15  0.001000     50.0  1.337562  1.322418\n",
       "16  0.003162     50.0  1.225627  1.211931\n",
       "17  0.010000     50.0  0.954277  0.945225\n",
       "18  0.031623     50.0  0.605680  0.610389\n",
       "19  0.100000     50.0  0.524169  0.548100\n",
       "20  0.001000    100.0  1.284096  1.269636\n",
       "21  0.003162    100.0  1.086196  1.074655\n",
       "22  0.010000    100.0  0.726172  0.723897\n",
       "23  0.031623    100.0  0.537964  0.553955\n",
       "24  0.100000    100.0  0.511446  0.544293\n",
       "25  0.001000    200.0  1.186221  1.173111\n",
       "26  0.003162    200.0  0.878712  0.871685\n",
       "27  0.010000    200.0  0.570673  0.579279\n",
       "28  0.031623    200.0  0.520964  0.547641\n",
       "29  0.100000    200.0  0.499121  0.542678\n",
       "30  0.001000    500.0  0.955697  0.946677\n",
       "31  0.003162    500.0  0.608302  0.612917\n",
       "32  0.010000    500.0  0.525576  0.548983\n",
       "33  0.031623    500.0  0.505699  0.543938\n",
       "34  0.100000    500.0  0.482684  0.544754\n",
       "35  0.001000   1000.0  0.727559  0.725232\n",
       "36  0.003162   1000.0  0.538499  0.554189\n",
       "37  0.010000   1000.0  0.514380  0.545589\n",
       "38  0.031623   1000.0  0.493913  0.544215\n",
       "39  0.100000   1000.0  0.461313  0.548404\n",
       "40  0.001000   2000.0  0.571242  0.579724\n",
       "41  0.003162   2000.0  0.521671  0.547893\n",
       "42  0.010000   2000.0  0.503001  0.544417\n",
       "43  0.031623   2000.0  0.480879  0.546591\n",
       "44  0.100000   2000.0  0.436544  0.556143\n",
       "45  0.001000  50000.0  0.489648  0.547564\n",
       "46  0.003162  50000.0  0.459043  0.554261\n",
       "47  0.010000  50000.0  0.414799  0.566038\n",
       "48  0.031623  50000.0  0.378827  0.582514\n",
       "49  0.100000  50000.0  0.357285  0.611542"
      ]
     },
     "execution_count": 198,
     "metadata": {},
     "output_type": "execute_result"
    }
   ],
   "source": [
    "df_t = pd.DataFrame(columns=['lr','n_est','train','val'])\n",
    "for n_est in [1,10,20,50,100,200,500,1000,2000,50000]:\n",
    "    for lr in np.logspace(-3,-1,5):\n",
    "        # speed run with default vals\n",
    "        pipeline = Pipeline([\n",
    "            ('transformer', transf),\n",
    "            ('gb', GradientBoostingRegressor(learning_rate=lr,n_estimators=n_est))\n",
    "        ])\n",
    "        pipeline.fit(df_train, y_train)\n",
    "        v = eval_method_noadd(y_train,y_val,pipeline.predict)\n",
    "        df_t = df_t.append({'lr': lr, 'n_est':n_est,'train':v[0],'val':v[1]},ignore_index=True)\n",
    "df_t"
   ]
  },
  {
   "cell_type": "code",
   "execution_count": 200,
   "metadata": {},
   "outputs": [
    {
     "data": {
      "text/plain": [
       "<AxesSubplot:xlabel='None-n_est', ylabel='lr'>"
      ]
     },
     "execution_count": 200,
     "metadata": {},
     "output_type": "execute_result"
    },
    {
     "data": {
      "image/png": "[encoded data removed]",
      "text/plain": [
       "<Figure size 1440x1440 with 2 Axes>"
      ]
     },
     "metadata": {
      "needs_background": "light"
     },
     "output_type": "display_data"
    }
   ],
   "source": [
    "plt.figure(figsize=(20,20))\n",
    "df_t_pivot = df_t.pivot(index='lr', columns=['n_est'], values=['val'])\n",
    "sns.heatmap(df_t_pivot, annot=True, fmt=\".5f\",cmap=\"YlGnBu\")"
   ]
  },
  {
   "cell_type": "code",
   "execution_count": 201,
   "metadata": {},
   "outputs": [
    {
     "name": "stdout",
     "output_type": "stream",
     "text": [
      "GB-lr003nest1000\n",
      "\tTraining RMSE: 0.495 \n",
      "\tValidation RMSE: 0.544 \n"
     ]
    },
    {
     "data": {
      "text/html": [
       "<div>\n",
       "<style scoped>\n",
       "    .dataframe tbody tr th:only-of-type {\n",
       "        vertical-align: middle;\n",
       "    }\n",
       "\n",
       "    .dataframe tbody tr th {\n",
       "        vertical-align: top;\n",
       "    }\n",
       "\n",
       "    .dataframe thead th {\n",
       "        text-align: right;\n",
       "    }\n",
       "</style>\n",
       "<table border=\"1\" class=\"dataframe\">\n",
       "  <thead>\n",
       "    <tr style=\"text-align: right;\">\n",
       "      <th></th>\n",
       "      <th>LinearRegression-default</th>\n",
       "      <th>SVR-default</th>\n",
       "      <th>SVR-C0.9eps0.15</th>\n",
       "      <th>DT-default</th>\n",
       "      <th>DT-maxdep3</th>\n",
       "      <th>RF-default</th>\n",
       "      <th>RF-madep5nest34</th>\n",
       "      <th>RF-madep2nest89</th>\n",
       "      <th>RF-madep5nest31</th>\n",
       "      <th>EN-default</th>\n",
       "      <th>EN-a0.04lone0.05</th>\n",
       "      <th>GB-default</th>\n",
       "      <th>GB-lr003nest1000</th>\n",
       "    </tr>\n",
       "  </thead>\n",
       "  <tbody>\n",
       "    <tr>\n",
       "      <th>train</th>\n",
       "      <td>0.522273</td>\n",
       "      <td>0.502043</td>\n",
       "      <td>0.502613</td>\n",
       "      <td>0.344086</td>\n",
       "      <td>0.562987</td>\n",
       "      <td>0.372921</td>\n",
       "      <td>0.528873</td>\n",
       "      <td>0.573620</td>\n",
       "      <td>0.529143</td>\n",
       "      <td>1.293389</td>\n",
       "      <td>0.537431</td>\n",
       "      <td>0.511446</td>\n",
       "      <td>0.494942</td>\n",
       "    </tr>\n",
       "    <tr>\n",
       "      <th>val</th>\n",
       "      <td>0.559898</td>\n",
       "      <td>0.545259</td>\n",
       "      <td>0.545021</td>\n",
       "      <td>0.655376</td>\n",
       "      <td>0.564742</td>\n",
       "      <td>0.564084</td>\n",
       "      <td>0.557415</td>\n",
       "      <td>0.574794</td>\n",
       "      <td>0.558589</td>\n",
       "      <td>1.277913</td>\n",
       "      <td>0.548775</td>\n",
       "      <td>0.544403</td>\n",
       "      <td>0.544177</td>\n",
       "    </tr>\n",
       "  </tbody>\n",
       "</table>\n",
       "</div>"
      ],
      "text/plain": [
       "       LinearRegression-default  SVR-default  SVR-C0.9eps0.15  DT-default  \\\n",
       "train                  0.522273     0.502043         0.502613    0.344086   \n",
       "val                    0.559898     0.545259         0.545021    0.655376   \n",
       "\n",
       "       DT-maxdep3  RF-default  RF-madep5nest34  RF-madep2nest89  \\\n",
       "train    0.562987    0.372921         0.528873         0.573620   \n",
       "val      0.564742    0.564084         0.557415         0.574794   \n",
       "\n",
       "       RF-madep5nest31  EN-default  EN-a0.04lone0.05  GB-default  \\\n",
       "train         0.529143    1.293389          0.537431    0.511446   \n",
       "val           0.558589    1.277913          0.548775    0.544403   \n",
       "\n",
       "       GB-lr003nest1000  \n",
       "train          0.494942  \n",
       "val            0.544177  "
      ]
     },
     "execution_count": 201,
     "metadata": {},
     "output_type": "execute_result"
    }
   ],
   "source": [
    "# speed run with default vals\n",
    "pipeline = Pipeline([\n",
    "    ('transformer', transf),\n",
    "    ('gb', GradientBoostingRegressor(learning_rate=0.03,n_estimators=1000 ))\n",
    "])\n",
    "pipeline.fit(df_train, y_train)\n",
    "eval_method(y_train,y_val,pipeline.predict,'GB-lr003nest1000')\n",
    "df_reg_res\n"
   ]
  },
  {
   "cell_type": "markdown",
   "metadata": {},
   "source": [
    "#### xgboost"
   ]
  },
  {
   "cell_type": "code",
   "execution_count": 218,
   "metadata": {},
   "outputs": [],
   "source": [
    "import xgboost as xgb"
   ]
  },
  {
   "cell_type": "code",
   "execution_count": 219,
   "metadata": {},
   "outputs": [],
   "source": [
    "from sklearn.feature_extraction import DictVectorizer\n",
    "dv = DictVectorizer(sparse=False) #import encoder\n",
    "\n",
    "# Serialize non-numerical data using DictVectorizer (aka One-Hot Encoding)\n",
    "train_dict = df_train.to_dict(orient='records') # get categorial variables from train db, sort them by x and put them into dictionary \n",
    "X_train = dv.fit_transform(train_dict) #one-hot encoding "
   ]
  },
  {
   "cell_type": "code",
   "execution_count": 277,
   "metadata": {},
   "outputs": [
    {
     "name": "stderr",
     "output_type": "stream",
     "text": [
      "C:\\Users\\kay_t\\AppData\\Local\\Packages\\PythonSoftwareFoundation.Python.3.9_qbz5n2kfra8p0\\LocalCache\\local-packages\\Python39\\site-packages\\sklearn\\utils\\deprecation.py:87: FutureWarning: Function get_feature_names is deprecated; get_feature_names is deprecated in 1.0 and will be removed in 1.2. Please use get_feature_names_out instead.\n",
      "  warnings.warn(msg, category=FutureWarning)\n"
     ]
    }
   ],
   "source": [
    "dtrain = xgb.DMatrix(X_train, label=y_train, feature_names = dv.get_feature_names())\n",
    "dval = xgb.DMatrix(X_val,label=y_val, feature_names = dv.get_feature_names())\n",
    "\n",
    "xgb_params = {\n",
    "    'eta': 0.3, \n",
    "    'tree_method':'gpu_hist',\n",
    "    'max_depth': 10,\n",
    "    'gpu_id':0,\n",
    "    \n",
    "    'objective': 'reg:squarederror',\n",
    "    'nthread': 16,\n",
    "    \n",
    "    'seed': 1,\n",
    "    'verbosity': 1,\n",
    "}\n",
    "\n",
    "watchlist = [(dtrain, 'train'), (dval, 'val')]"
   ]
  },
  {
   "cell_type": "code",
   "execution_count": 278,
   "metadata": {},
   "outputs": [],
   "source": [
    "#parser\n",
    "def parse_xgb_output(output):\n",
    "    results = []\n",
    "\n",
    "    for line in output.stdout.strip().split('\\n'):\n",
    "        it_line, train_line, val_line = line.split('\\t')\n",
    "\n",
    "        it = int(it_line.strip('[]'))\n",
    "        train = float(train_line.split(':')[1])\n",
    "        val = float(val_line.split(':')[1])\n",
    "\n",
    "        results.append((it, train, val))\n",
    "    \n",
    "    columns = ['num_iter', 'train_rmse', 'val_rmse']\n",
    "    df_results = pd.DataFrame(results, columns=columns)\n",
    "    return df_results"
   ]
  },
  {
   "cell_type": "code",
   "execution_count": 279,
   "metadata": {},
   "outputs": [],
   "source": [
    "%%capture output1\n",
    "xgb_params['eta'] = 0.1;\n",
    "model = xgb.train(xgb_params, dtrain, num_boost_round=500, verbose_eval=1, evals=watchlist)\n"
   ]
  },
  {
   "cell_type": "code",
   "execution_count": 280,
   "metadata": {},
   "outputs": [
    {
     "data": {
      "text/html": [
       "<div>\n",
       "<style scoped>\n",
       "    .dataframe tbody tr th:only-of-type {\n",
       "        vertical-align: middle;\n",
       "    }\n",
       "\n",
       "    .dataframe tbody tr th {\n",
       "        vertical-align: top;\n",
       "    }\n",
       "\n",
       "    .dataframe thead th {\n",
       "        text-align: right;\n",
       "    }\n",
       "</style>\n",
       "<table border=\"1\" class=\"dataframe\">\n",
       "  <thead>\n",
       "    <tr style=\"text-align: right;\">\n",
       "      <th></th>\n",
       "      <th>num_iter</th>\n",
       "      <th>train_rmse</th>\n",
       "      <th>val_rmse</th>\n",
       "    </tr>\n",
       "  </thead>\n",
       "  <tbody>\n",
       "    <tr>\n",
       "      <th>0</th>\n",
       "      <td>0</td>\n",
       "      <td>3.69994</td>\n",
       "      <td>3.99187</td>\n",
       "    </tr>\n",
       "    <tr>\n",
       "      <th>1</th>\n",
       "      <td>1</td>\n",
       "      <td>3.33108</td>\n",
       "      <td>3.90862</td>\n",
       "    </tr>\n",
       "    <tr>\n",
       "      <th>2</th>\n",
       "      <td>2</td>\n",
       "      <td>2.99903</td>\n",
       "      <td>3.81912</td>\n",
       "    </tr>\n",
       "    <tr>\n",
       "      <th>3</th>\n",
       "      <td>3</td>\n",
       "      <td>2.70005</td>\n",
       "      <td>3.74400</td>\n",
       "    </tr>\n",
       "    <tr>\n",
       "      <th>4</th>\n",
       "      <td>4</td>\n",
       "      <td>2.43093</td>\n",
       "      <td>3.68358</td>\n",
       "    </tr>\n",
       "    <tr>\n",
       "      <th>...</th>\n",
       "      <td>...</td>\n",
       "      <td>...</td>\n",
       "      <td>...</td>\n",
       "    </tr>\n",
       "    <tr>\n",
       "      <th>495</th>\n",
       "      <td>495</td>\n",
       "      <td>0.00515</td>\n",
       "      <td>3.09162</td>\n",
       "    </tr>\n",
       "    <tr>\n",
       "      <th>496</th>\n",
       "      <td>496</td>\n",
       "      <td>0.00515</td>\n",
       "      <td>3.09159</td>\n",
       "    </tr>\n",
       "    <tr>\n",
       "      <th>497</th>\n",
       "      <td>497</td>\n",
       "      <td>0.00514</td>\n",
       "      <td>3.09159</td>\n",
       "    </tr>\n",
       "    <tr>\n",
       "      <th>498</th>\n",
       "      <td>498</td>\n",
       "      <td>0.00513</td>\n",
       "      <td>3.09158</td>\n",
       "    </tr>\n",
       "    <tr>\n",
       "      <th>499</th>\n",
       "      <td>499</td>\n",
       "      <td>0.00513</td>\n",
       "      <td>3.09159</td>\n",
       "    </tr>\n",
       "  </tbody>\n",
       "</table>\n",
       "<p>500 rows × 3 columns</p>\n",
       "</div>"
      ],
      "text/plain": [
       "     num_iter  train_rmse  val_rmse\n",
       "0           0     3.69994   3.99187\n",
       "1           1     3.33108   3.90862\n",
       "2           2     2.99903   3.81912\n",
       "3           3     2.70005   3.74400\n",
       "4           4     2.43093   3.68358\n",
       "..        ...         ...       ...\n",
       "495       495     0.00515   3.09162\n",
       "496       496     0.00515   3.09159\n",
       "497       497     0.00514   3.09159\n",
       "498       498     0.00513   3.09158\n",
       "499       499     0.00513   3.09159\n",
       "\n",
       "[500 rows x 3 columns]"
      ]
     },
     "execution_count": 280,
     "metadata": {},
     "output_type": "execute_result"
    }
   ],
   "source": [
    "df_score = parse_xgb_output(output1)\n",
    "df_score"
   ]
  },
  {
   "cell_type": "markdown",
   "metadata": {},
   "source": [
    "XGBoost has 3 as val RMSE"
   ]
  },
  {
   "cell_type": "markdown",
   "metadata": {},
   "source": [
    "#### Summary\n",
    "In Summary:"
   ]
  },
  {
   "cell_type": "code",
   "execution_count": 281,
   "metadata": {},
   "outputs": [
    {
     "data": {
      "text/html": [
       "<div>\n",
       "<style scoped>\n",
       "    .dataframe tbody tr th:only-of-type {\n",
       "        vertical-align: middle;\n",
       "    }\n",
       "\n",
       "    .dataframe tbody tr th {\n",
       "        vertical-align: top;\n",
       "    }\n",
       "\n",
       "    .dataframe thead th {\n",
       "        text-align: right;\n",
       "    }\n",
       "</style>\n",
       "<table border=\"1\" class=\"dataframe\">\n",
       "  <thead>\n",
       "    <tr style=\"text-align: right;\">\n",
       "      <th></th>\n",
       "      <th>LinearRegression-default</th>\n",
       "      <th>SVR-default</th>\n",
       "      <th>SVR-C0.9eps0.15</th>\n",
       "      <th>DT-default</th>\n",
       "      <th>DT-maxdep3</th>\n",
       "      <th>RF-default</th>\n",
       "      <th>RF-madep5nest34</th>\n",
       "      <th>RF-madep2nest89</th>\n",
       "      <th>RF-madep5nest31</th>\n",
       "      <th>EN-default</th>\n",
       "      <th>EN-a0.04lone0.05</th>\n",
       "      <th>GB-default</th>\n",
       "      <th>GB-lr003nest1000</th>\n",
       "    </tr>\n",
       "  </thead>\n",
       "  <tbody>\n",
       "    <tr>\n",
       "      <th>train</th>\n",
       "      <td>0.522273</td>\n",
       "      <td>0.502043</td>\n",
       "      <td>0.502613</td>\n",
       "      <td>0.344086</td>\n",
       "      <td>0.562987</td>\n",
       "      <td>0.372921</td>\n",
       "      <td>0.528873</td>\n",
       "      <td>0.573620</td>\n",
       "      <td>0.529143</td>\n",
       "      <td>1.293389</td>\n",
       "      <td>0.537431</td>\n",
       "      <td>0.511446</td>\n",
       "      <td>0.494942</td>\n",
       "    </tr>\n",
       "    <tr>\n",
       "      <th>val</th>\n",
       "      <td>0.559898</td>\n",
       "      <td>0.545259</td>\n",
       "      <td>0.545021</td>\n",
       "      <td>0.655376</td>\n",
       "      <td>0.564742</td>\n",
       "      <td>0.564084</td>\n",
       "      <td>0.557415</td>\n",
       "      <td>0.574794</td>\n",
       "      <td>0.558589</td>\n",
       "      <td>1.277913</td>\n",
       "      <td>0.548775</td>\n",
       "      <td>0.544403</td>\n",
       "      <td>0.544177</td>\n",
       "    </tr>\n",
       "  </tbody>\n",
       "</table>\n",
       "</div>"
      ],
      "text/plain": [
       "       LinearRegression-default  SVR-default  SVR-C0.9eps0.15  DT-default  \\\n",
       "train                  0.522273     0.502043         0.502613    0.344086   \n",
       "val                    0.559898     0.545259         0.545021    0.655376   \n",
       "\n",
       "       DT-maxdep3  RF-default  RF-madep5nest34  RF-madep2nest89  \\\n",
       "train    0.562987    0.372921         0.528873         0.573620   \n",
       "val      0.564742    0.564084         0.557415         0.574794   \n",
       "\n",
       "       RF-madep5nest31  EN-default  EN-a0.04lone0.05  GB-default  \\\n",
       "train         0.529143    1.293389          0.537431    0.511446   \n",
       "val           0.558589    1.277913          0.548775    0.544403   \n",
       "\n",
       "       GB-lr003nest1000  \n",
       "train          0.494942  \n",
       "val            0.544177  "
      ]
     },
     "execution_count": 281,
     "metadata": {},
     "output_type": "execute_result"
    }
   ],
   "source": [
    "df_reg_res"
   ]
  },
  {
   "cell_type": "markdown",
   "metadata": {},
   "source": [
    "Therefore, the best method is GB/lr=0.03 and n_est = 1000"
   ]
  },
  {
   "cell_type": "markdown",
   "metadata": {},
   "source": [
    "# Export model"
   ]
  },
  {
   "cell_type": "code",
   "execution_count": 361,
   "metadata": {},
   "outputs": [],
   "source": [
    "import pickle\n",
    "\n",
    "transformations = [\n",
    "    ('Scal_num', RobustScaler() , feat_num),\n",
    "    ('categorical', OneHotEncoder(dtype=np.int32,handle_unknown = 'ignore'), feat_cat)\n",
    "]\n",
    "\n",
    "transf = ColumnTransformer(transformations, remainder='drop')\n",
    "\n",
    "# speed run with default vals\n",
    "pipeline = Pipeline([\n",
    "    ('transformer', transf),\n",
    "    ('gb', GradientBoostingRegressor(max_depth=1000,learning_rate=0.03))\n",
    "])\n",
    "\n",
    "pipeline.fit(df_train, y_train)\n",
    "\n",
    "with open(\"pipeline.bin\", 'wb') as f:  pickle.dump(pipeline,f)"
   ]
  },
  {
   "cell_type": "markdown",
   "metadata": {},
   "source": [
    "# Testing Flask app"
   ]
  },
  {
   "cell_type": "code",
   "execution_count": 362,
   "metadata": {},
   "outputs": [
    {
     "name": "stdout",
     "output_type": "stream",
     "text": [
      "                                     category  room_count  bathroom_count  \\\n",
      "20  Shops, Businesses and Industrial Premises         5.0             3.0   \n",
      "\n",
      "      size      type      city   region  \n",
      "20  1000.0  For rent  Kairouan  Chebika  \n",
      "Price for ID 20 : 3.467243\n",
      "Database results: 3.477121\n"
     ]
    }
   ],
   "source": [
    "# client.py: get data of the new user\n",
    "import requests\n",
    "import json\n",
    "\n",
    "\n",
    "id =20 #select here an id to test!\n",
    "example = df_test.iloc[id:id+1,:].to_json()\n",
    "expected_res = y_test[id]\n",
    "\n",
    "\n",
    "\n",
    "url = \"http://127.0.0.1:9696/predict\"\n",
    "results = requests.post(url, json=example).json()\n",
    "print(df_test.iloc[id:id+1,:])\n",
    "print(\"Price for ID %d : %f\" % (id, results[\"log_price\"]))\n",
    "\n",
    "print(\"Database results: %f\" % expected_res)"
   ]
  },
  {
   "cell_type": "code",
   "execution_count": 364,
   "metadata": {},
   "outputs": [],
   "source": [
    "with open(\"y_test.bin\", 'wb') as f:  pickle.dump(y_test,f)"
   ]
  },
  {
   "cell_type": "markdown",
   "metadata": {},
   "source": [
    "## Final Output (release)"
   ]
  },
  {
   "cell_type": "code",
   "execution_count": 90,
   "metadata": {},
   "outputs": [
    {
     "name": "stdout",
     "output_type": "stream",
     "text": [
      "          category  room_count  bathroom_count  size      type    city  region\n",
      "34  Land and Farms        -1.0            -1.0  -1.0  For sale  Mahdia  Mahdia\n",
      "Price for ID 34 : ~408859 TND [log_price: 5.612]\n"
     ]
    }
   ],
   "source": [
    "# client.py: get data of the new user\n",
    "import requests\n",
    "import json\n",
    "\n",
    "\n",
    "id =34 #select here an id to test!\n",
    "example = df_test.iloc[id:id+1,:].to_json()\n",
    "expected_res = y_test[id]\n",
    "\n",
    "\n",
    "\n",
    "url = \"http://127.0.0.1:9696/predict\"\n",
    "results = requests.post(url, json=example).json()\n",
    "print(df_test.iloc[id:id+1,:])\n",
    "log_price = results[\"log_price\"]\n",
    "\n",
    "#print(\"logprice:\" , log_price)\n",
    "print(\"Price for ID %d : ~%d TND [log_price: %2.3f]\" % (id, 10**log_price, log_price))\n",
    "#print(\"actual price: %d TND\" % 10**expected_res)\n"
   ]
  },
  {
   "cell_type": "markdown",
   "metadata": {},
   "source": [
    "# Cloud"
   ]
  },
  {
   "cell_type": "code",
   "execution_count": 103,
   "metadata": {},
   "outputs": [
    {
     "name": "stdout",
     "output_type": "stream",
     "text": [
      "Price for ID 34 : ~408859 TND [log_price: 5.612]\n"
     ]
    }
   ],
   "source": [
    "# client.py: get data of the new user\n",
    "import requests\n",
    "import json\n",
    "\n",
    "\n",
    "id =34 #select here an id to test!\n",
    "example = df_test.iloc[id:id+1,:].to_json()\n",
    "expected_res = y_test[id]\n",
    "\n",
    "\n",
    "\n",
    "url=\"https://kallelay.eu.pythonanywhere.com/predict\"\n",
    "results = requests.post(url, json=example).json()\n",
    "#print(df_test.iloc[id:id+1,:])\n",
    "log_price = results[\"log_price\"]\n",
    "\n",
    "#print(\"logprice:\" , log_price)\n",
    "print(\"Price for ID %d : ~%d TND [log_price: %2.3f]\" % (id, 10**log_price, log_price))\n",
    "#print(\"actual price: %d TND\" % 10**expected_res)\n"
   ]
  },
  {
   "cell_type": "code",
   "execution_count": null,
   "metadata": {},
   "outputs": [],
   "source": []
  }
 ],
 "metadata": {
  "interpreter": {
   "hash": "da90f46fa8a14be9631a6692cf25b531474837a478d46ca898e64c54b1530bf9"
  },
  "kernelspec": {
   "display_name": "Python 3",
   "language": "python",
   "name": "python3"
  },
  "language_info": {
   "codemirror_mode": {
    "name": "ipython",
    "version": 3
   },
   "file_extension": ".py",
   "mimetype": "text/x-python",
   "name": "python",
   "nbconvert_exporter": "python",
   "pygments_lexer": "ipython3",
   "version": "3.9.9"
  }
 },
 "nbformat": 4,
 "nbformat_minor": 2
}
